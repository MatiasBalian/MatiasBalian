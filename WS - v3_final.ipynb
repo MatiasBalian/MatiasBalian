{
 "cells": [
  {
   "cell_type": "markdown",
   "metadata": {},
   "source": [
    "# Worskhop MLTB"
   ]
  },
  {
   "cell_type": "markdown",
   "metadata": {},
   "source": [
    "##   <span style=\"color:blue\"> Dataset: Brewer's Friend Beer Recipes\n",
    "    \n",
    "Es una base que posee todas las recetas de cervezas artesanales registradas en el sitio “Brewer's Friend”. Este sitio web permite a los usuarios compartir sus recetas de cerveza casera. \n",
    "\n",
    "Este conjunto de datos contiene 73.861 recetas cargadas. \n",
    "La metodología de carga de información en de cada una de las columnas se encuentra estandarizada, con la excepción: “PrimingMethod” (Método de cebado) y “PrimingAmount” (Cantidad de cebado), en donde se les permitie a los usuarios libre tipeo.\n",
    "    \n",
    "###   <span style=\"color:orange\">*Objetivo: estimar la graduación alcohólica de las cervezas (“ABV”: Alcohol by Volume) en función de las variables de las recetas.*"
   ]
  },
  {
   "cell_type": "markdown",
   "metadata": {},
   "source": [
    "##   <span style=\"color:blue\"> Actividad:\n",
    "\n",
    "1.- Cargar el archivo \"base_train.csv\".\n",
    "\n",
    "2.- Entrenar un modelo para predecir la variable 'AVB'\n",
    "\n",
    "3.- Levantar el Dataset \"base_test.csv\" y predecir 'AVB'. Métrica a considerar RMSE\n",
    "\n",
    "4.- Guardar las predicciones (junto con el BeerID) y llamar al Dataset \"predicciones_grupo#\"\n",
    "\n",
    "Sugerencias:\n",
    "\n",
    " * Agregar columna/s calculada/s\n",
    " \n",
    " * Transformar la variables categoricas en binarias (dummy/escalarlas/etc)\n",
    " \n",
    " * Remover columnas con tipo de dato no numérico.\n",
    "\n",
    " * Trabajar los datos faltantes (remover las columnas que tengan mas del x% de datos faltantes/elegir una estrategia de imputación).\n",
    "\n",
    " * Tener en cuenta tecnicas de reduccion de dimensionalidad (PCA, RFE, VarianceTreshold, etc).\n",
    "\n",
    " * Considerar grid search (con cross validation) para probar distintas combinaciones de hiper-parametros \n",
    " \n",
    " * Pobar distintos estimadores"
   ]
  },
  {
   "cell_type": "markdown",
   "metadata": {},
   "source": [
    "Cargo el archivo "
   ]
  },
  {
   "cell_type": "code",
   "execution_count": 28,
   "metadata": {},
   "outputs": [],
   "source": [
    "import pandas as pd\n",
    "import numpy as np\n",
    "df = pd.read_csv('base_train.csv')"
   ]
  },
  {
   "cell_type": "code",
   "execution_count": 29,
   "metadata": {},
   "outputs": [
    {
     "data": {
      "text/html": [
       "<div>\n",
       "<style scoped>\n",
       "    .dataframe tbody tr th:only-of-type {\n",
       "        vertical-align: middle;\n",
       "    }\n",
       "\n",
       "    .dataframe tbody tr th {\n",
       "        vertical-align: top;\n",
       "    }\n",
       "\n",
       "    .dataframe thead th {\n",
       "        text-align: right;\n",
       "    }\n",
       "</style>\n",
       "<table border=\"1\" class=\"dataframe\">\n",
       "  <thead>\n",
       "    <tr style=\"text-align: right;\">\n",
       "      <th></th>\n",
       "      <th>BeerID</th>\n",
       "      <th>Name</th>\n",
       "      <th>URL</th>\n",
       "      <th>Style</th>\n",
       "      <th>StyleID</th>\n",
       "      <th>Size_L</th>\n",
       "      <th>ABV</th>\n",
       "      <th>IBU</th>\n",
       "      <th>Color</th>\n",
       "      <th>BoilSize</th>\n",
       "      <th>BoilTime</th>\n",
       "      <th>BoilGravity</th>\n",
       "      <th>Efficiency</th>\n",
       "      <th>MashThickness</th>\n",
       "      <th>SugarScale</th>\n",
       "      <th>BrewMethod</th>\n",
       "      <th>PitchRate</th>\n",
       "      <th>PrimaryTemp</th>\n",
       "      <th>PrimingMethod</th>\n",
       "      <th>PrimingAmount</th>\n",
       "    </tr>\n",
       "  </thead>\n",
       "  <tbody>\n",
       "    <tr>\n",
       "      <th>0</th>\n",
       "      <td>69825</td>\n",
       "      <td>DinoSmores Stout</td>\n",
       "      <td>/homebrew/recipe/view/601022/dinosmores-stout</td>\n",
       "      <td>Imperial Stout</td>\n",
       "      <td>87</td>\n",
       "      <td>20.82</td>\n",
       "      <td>8.27</td>\n",
       "      <td>41.30</td>\n",
       "      <td>50.00</td>\n",
       "      <td>28.39</td>\n",
       "      <td>60</td>\n",
       "      <td>1.064</td>\n",
       "      <td>65.0</td>\n",
       "      <td>1.30</td>\n",
       "      <td>Specific Gravity</td>\n",
       "      <td>All Grain</td>\n",
       "      <td>1.25</td>\n",
       "      <td>17.78</td>\n",
       "      <td>NaN</td>\n",
       "      <td>NaN</td>\n",
       "    </tr>\n",
       "    <tr>\n",
       "      <th>1</th>\n",
       "      <td>44320</td>\n",
       "      <td>Kinn Gamleguten kopi</td>\n",
       "      <td>/homebrew/recipe/view/486868/kinn-gamleguten-kopi</td>\n",
       "      <td>Old Ale</td>\n",
       "      <td>116</td>\n",
       "      <td>25.00</td>\n",
       "      <td>5.64</td>\n",
       "      <td>35.36</td>\n",
       "      <td>13.28</td>\n",
       "      <td>30.00</td>\n",
       "      <td>60</td>\n",
       "      <td>1.050</td>\n",
       "      <td>65.0</td>\n",
       "      <td>NaN</td>\n",
       "      <td>Specific Gravity</td>\n",
       "      <td>All Grain</td>\n",
       "      <td>0.75</td>\n",
       "      <td>24.00</td>\n",
       "      <td>NaN</td>\n",
       "      <td>NaN</td>\n",
       "    </tr>\n",
       "    <tr>\n",
       "      <th>2</th>\n",
       "      <td>55927</td>\n",
       "      <td>American Wheat Beer</td>\n",
       "      <td>/homebrew/recipe/view/501976/american-wheat-beer</td>\n",
       "      <td>American Wheat Beer</td>\n",
       "      <td>14</td>\n",
       "      <td>20.82</td>\n",
       "      <td>5.33</td>\n",
       "      <td>25.18</td>\n",
       "      <td>3.98</td>\n",
       "      <td>24.61</td>\n",
       "      <td>60</td>\n",
       "      <td>1.044</td>\n",
       "      <td>75.0</td>\n",
       "      <td>1.50</td>\n",
       "      <td>Specific Gravity</td>\n",
       "      <td>All Grain</td>\n",
       "      <td>NaN</td>\n",
       "      <td>NaN</td>\n",
       "      <td>NaN</td>\n",
       "      <td>NaN</td>\n",
       "    </tr>\n",
       "    <tr>\n",
       "      <th>3</th>\n",
       "      <td>21219</td>\n",
       "      <td>New Fat Mike</td>\n",
       "      <td>/homebrew/recipe/view/322825/new-fat-mike</td>\n",
       "      <td>Double IPA</td>\n",
       "      <td>56</td>\n",
       "      <td>18.93</td>\n",
       "      <td>8.29</td>\n",
       "      <td>91.60</td>\n",
       "      <td>11.74</td>\n",
       "      <td>28.39</td>\n",
       "      <td>60</td>\n",
       "      <td>1.054</td>\n",
       "      <td>70.0</td>\n",
       "      <td>1.25</td>\n",
       "      <td>Specific Gravity</td>\n",
       "      <td>All Grain</td>\n",
       "      <td>0.35</td>\n",
       "      <td>21.11</td>\n",
       "      <td>NaN</td>\n",
       "      <td>NaN</td>\n",
       "    </tr>\n",
       "    <tr>\n",
       "      <th>4</th>\n",
       "      <td>18821</td>\n",
       "      <td>Larson Farmhouse Session</td>\n",
       "      <td>/homebrew/recipe/view/314858/larson-farmhouse-...</td>\n",
       "      <td>Saison</td>\n",
       "      <td>134</td>\n",
       "      <td>18.93</td>\n",
       "      <td>4.02</td>\n",
       "      <td>22.81</td>\n",
       "      <td>3.08</td>\n",
       "      <td>26.50</td>\n",
       "      <td>60</td>\n",
       "      <td>1.027</td>\n",
       "      <td>67.0</td>\n",
       "      <td>NaN</td>\n",
       "      <td>Specific Gravity</td>\n",
       "      <td>All Grain</td>\n",
       "      <td>NaN</td>\n",
       "      <td>23.89</td>\n",
       "      <td>NaN</td>\n",
       "      <td>NaN</td>\n",
       "    </tr>\n",
       "  </tbody>\n",
       "</table>\n",
       "</div>"
      ],
      "text/plain": [
       "   BeerID                      Name  \\\n",
       "0   69825          DinoSmores Stout   \n",
       "1   44320      Kinn Gamleguten kopi   \n",
       "2   55927       American Wheat Beer   \n",
       "3   21219              New Fat Mike   \n",
       "4   18821  Larson Farmhouse Session   \n",
       "\n",
       "                                                 URL                Style  \\\n",
       "0      /homebrew/recipe/view/601022/dinosmores-stout       Imperial Stout   \n",
       "1  /homebrew/recipe/view/486868/kinn-gamleguten-kopi              Old Ale   \n",
       "2   /homebrew/recipe/view/501976/american-wheat-beer  American Wheat Beer   \n",
       "3          /homebrew/recipe/view/322825/new-fat-mike           Double IPA   \n",
       "4  /homebrew/recipe/view/314858/larson-farmhouse-...               Saison   \n",
       "\n",
       "   StyleID  Size_L   ABV    IBU  Color  BoilSize  BoilTime  BoilGravity  \\\n",
       "0       87   20.82  8.27  41.30  50.00     28.39        60        1.064   \n",
       "1      116   25.00  5.64  35.36  13.28     30.00        60        1.050   \n",
       "2       14   20.82  5.33  25.18   3.98     24.61        60        1.044   \n",
       "3       56   18.93  8.29  91.60  11.74     28.39        60        1.054   \n",
       "4      134   18.93  4.02  22.81   3.08     26.50        60        1.027   \n",
       "\n",
       "   Efficiency  MashThickness        SugarScale BrewMethod  PitchRate  \\\n",
       "0        65.0           1.30  Specific Gravity  All Grain       1.25   \n",
       "1        65.0            NaN  Specific Gravity  All Grain       0.75   \n",
       "2        75.0           1.50  Specific Gravity  All Grain        NaN   \n",
       "3        70.0           1.25  Specific Gravity  All Grain       0.35   \n",
       "4        67.0            NaN  Specific Gravity  All Grain        NaN   \n",
       "\n",
       "   PrimaryTemp PrimingMethod PrimingAmount  \n",
       "0        17.78           NaN           NaN  \n",
       "1        24.00           NaN           NaN  \n",
       "2          NaN           NaN           NaN  \n",
       "3        21.11           NaN           NaN  \n",
       "4        23.89           NaN           NaN  "
      ]
     },
     "execution_count": 29,
     "metadata": {},
     "output_type": "execute_result"
    }
   ],
   "source": [
    "df.head()"
   ]
  },
  {
   "cell_type": "code",
   "execution_count": 30,
   "metadata": {},
   "outputs": [
    {
     "name": "stdout",
     "output_type": "stream",
     "text": [
      "Index(['BeerID', 'Name', 'URL', 'Style', 'StyleID', 'Size_L', 'ABV', 'IBU',\n",
      "       'Color', 'BoilSize', 'BoilTime', 'BoilGravity', 'Efficiency',\n",
      "       'MashThickness', 'SugarScale', 'BrewMethod', 'PitchRate', 'PrimaryTemp',\n",
      "       'PrimingMethod', 'PrimingAmount'],\n",
      "      dtype='object')\n",
      "(55395, 20)\n"
     ]
    }
   ],
   "source": [
    "print (df.columns)\n",
    "print (df.shape)"
   ]
  },
  {
   "cell_type": "code",
   "execution_count": 31,
   "metadata": {},
   "outputs": [
    {
     "data": {
      "text/html": [
       "<div>\n",
       "<style scoped>\n",
       "    .dataframe tbody tr th:only-of-type {\n",
       "        vertical-align: middle;\n",
       "    }\n",
       "\n",
       "    .dataframe tbody tr th {\n",
       "        vertical-align: top;\n",
       "    }\n",
       "\n",
       "    .dataframe thead th {\n",
       "        text-align: right;\n",
       "    }\n",
       "</style>\n",
       "<table border=\"1\" class=\"dataframe\">\n",
       "  <thead>\n",
       "    <tr style=\"text-align: right;\">\n",
       "      <th></th>\n",
       "      <th>BeerID</th>\n",
       "      <th>StyleID</th>\n",
       "      <th>Size_L</th>\n",
       "      <th>ABV</th>\n",
       "      <th>IBU</th>\n",
       "      <th>Color</th>\n",
       "      <th>BoilSize</th>\n",
       "      <th>BoilTime</th>\n",
       "      <th>BoilGravity</th>\n",
       "      <th>Efficiency</th>\n",
       "      <th>MashThickness</th>\n",
       "      <th>PitchRate</th>\n",
       "      <th>PrimaryTemp</th>\n",
       "    </tr>\n",
       "  </thead>\n",
       "  <tbody>\n",
       "    <tr>\n",
       "      <th>count</th>\n",
       "      <td>55395.000000</td>\n",
       "      <td>55395.000000</td>\n",
       "      <td>55395.000000</td>\n",
       "      <td>55395.000000</td>\n",
       "      <td>55395.000000</td>\n",
       "      <td>55395.000000</td>\n",
       "      <td>55395.000000</td>\n",
       "      <td>55395.000000</td>\n",
       "      <td>53111.000000</td>\n",
       "      <td>55395.000000</td>\n",
       "      <td>32882.000000</td>\n",
       "      <td>25899.000000</td>\n",
       "      <td>38343.000000</td>\n",
       "    </tr>\n",
       "    <tr>\n",
       "      <th>mean</th>\n",
       "      <td>36946.534597</td>\n",
       "      <td>60.140157</td>\n",
       "      <td>43.731175</td>\n",
       "      <td>6.134745</td>\n",
       "      <td>44.238239</td>\n",
       "      <td>13.356359</td>\n",
       "      <td>49.505323</td>\n",
       "      <td>65.075566</td>\n",
       "      <td>1.356848</td>\n",
       "      <td>66.344575</td>\n",
       "      <td>2.119151</td>\n",
       "      <td>0.749241</td>\n",
       "      <td>19.176148</td>\n",
       "    </tr>\n",
       "    <tr>\n",
       "      <th>std</th>\n",
       "      <td>21374.866695</td>\n",
       "      <td>56.771766</td>\n",
       "      <td>179.667540</td>\n",
       "      <td>1.882808</td>\n",
       "      <td>41.288874</td>\n",
       "      <td>11.871308</td>\n",
       "      <td>192.490886</td>\n",
       "      <td>15.076263</td>\n",
       "      <td>1.931314</td>\n",
       "      <td>14.086639</td>\n",
       "      <td>1.541226</td>\n",
       "      <td>0.394538</td>\n",
       "      <td>4.186520</td>\n",
       "    </tr>\n",
       "    <tr>\n",
       "      <th>min</th>\n",
       "      <td>1.000000</td>\n",
       "      <td>1.000000</td>\n",
       "      <td>1.000000</td>\n",
       "      <td>0.000000</td>\n",
       "      <td>0.000000</td>\n",
       "      <td>0.000000</td>\n",
       "      <td>1.000000</td>\n",
       "      <td>0.000000</td>\n",
       "      <td>0.000000</td>\n",
       "      <td>0.000000</td>\n",
       "      <td>0.000000</td>\n",
       "      <td>0.000000</td>\n",
       "      <td>-17.780000</td>\n",
       "    </tr>\n",
       "    <tr>\n",
       "      <th>25%</th>\n",
       "      <td>18398.500000</td>\n",
       "      <td>10.000000</td>\n",
       "      <td>18.930000</td>\n",
       "      <td>5.070000</td>\n",
       "      <td>23.350000</td>\n",
       "      <td>5.160000</td>\n",
       "      <td>20.820000</td>\n",
       "      <td>60.000000</td>\n",
       "      <td>1.040000</td>\n",
       "      <td>65.000000</td>\n",
       "      <td>1.500000</td>\n",
       "      <td>0.350000</td>\n",
       "      <td>18.000000</td>\n",
       "    </tr>\n",
       "    <tr>\n",
       "      <th>50%</th>\n",
       "      <td>36980.000000</td>\n",
       "      <td>35.000000</td>\n",
       "      <td>20.820000</td>\n",
       "      <td>5.790000</td>\n",
       "      <td>35.770000</td>\n",
       "      <td>8.420000</td>\n",
       "      <td>27.440000</td>\n",
       "      <td>60.000000</td>\n",
       "      <td>1.047000</td>\n",
       "      <td>70.000000</td>\n",
       "      <td>1.500000</td>\n",
       "      <td>0.750000</td>\n",
       "      <td>20.000000</td>\n",
       "    </tr>\n",
       "    <tr>\n",
       "      <th>75%</th>\n",
       "      <td>55533.500000</td>\n",
       "      <td>111.000000</td>\n",
       "      <td>23.660000</td>\n",
       "      <td>6.830000</td>\n",
       "      <td>56.530000</td>\n",
       "      <td>16.760000</td>\n",
       "      <td>30.000000</td>\n",
       "      <td>60.000000</td>\n",
       "      <td>1.060000</td>\n",
       "      <td>75.000000</td>\n",
       "      <td>3.000000</td>\n",
       "      <td>1.000000</td>\n",
       "      <td>20.000000</td>\n",
       "    </tr>\n",
       "    <tr>\n",
       "      <th>max</th>\n",
       "      <td>73861.000000</td>\n",
       "      <td>176.000000</td>\n",
       "      <td>7800.000000</td>\n",
       "      <td>54.720000</td>\n",
       "      <td>3409.300000</td>\n",
       "      <td>186.000000</td>\n",
       "      <td>9130.410000</td>\n",
       "      <td>240.000000</td>\n",
       "      <td>45.900000</td>\n",
       "      <td>100.000000</td>\n",
       "      <td>55.000000</td>\n",
       "      <td>2.000000</td>\n",
       "      <td>114.000000</td>\n",
       "    </tr>\n",
       "  </tbody>\n",
       "</table>\n",
       "</div>"
      ],
      "text/plain": [
       "             BeerID       StyleID        Size_L           ABV           IBU  \\\n",
       "count  55395.000000  55395.000000  55395.000000  55395.000000  55395.000000   \n",
       "mean   36946.534597     60.140157     43.731175      6.134745     44.238239   \n",
       "std    21374.866695     56.771766    179.667540      1.882808     41.288874   \n",
       "min        1.000000      1.000000      1.000000      0.000000      0.000000   \n",
       "25%    18398.500000     10.000000     18.930000      5.070000     23.350000   \n",
       "50%    36980.000000     35.000000     20.820000      5.790000     35.770000   \n",
       "75%    55533.500000    111.000000     23.660000      6.830000     56.530000   \n",
       "max    73861.000000    176.000000   7800.000000     54.720000   3409.300000   \n",
       "\n",
       "              Color      BoilSize      BoilTime   BoilGravity    Efficiency  \\\n",
       "count  55395.000000  55395.000000  55395.000000  53111.000000  55395.000000   \n",
       "mean      13.356359     49.505323     65.075566      1.356848     66.344575   \n",
       "std       11.871308    192.490886     15.076263      1.931314     14.086639   \n",
       "min        0.000000      1.000000      0.000000      0.000000      0.000000   \n",
       "25%        5.160000     20.820000     60.000000      1.040000     65.000000   \n",
       "50%        8.420000     27.440000     60.000000      1.047000     70.000000   \n",
       "75%       16.760000     30.000000     60.000000      1.060000     75.000000   \n",
       "max      186.000000   9130.410000    240.000000     45.900000    100.000000   \n",
       "\n",
       "       MashThickness     PitchRate   PrimaryTemp  \n",
       "count   32882.000000  25899.000000  38343.000000  \n",
       "mean        2.119151      0.749241     19.176148  \n",
       "std         1.541226      0.394538      4.186520  \n",
       "min         0.000000      0.000000    -17.780000  \n",
       "25%         1.500000      0.350000     18.000000  \n",
       "50%         1.500000      0.750000     20.000000  \n",
       "75%         3.000000      1.000000     20.000000  \n",
       "max        55.000000      2.000000    114.000000  "
      ]
     },
     "execution_count": 31,
     "metadata": {},
     "output_type": "execute_result"
    }
   ],
   "source": [
    "df.describe()"
   ]
  },
  {
   "cell_type": "code",
   "execution_count": 32,
   "metadata": {},
   "outputs": [
    {
     "name": "stdout",
     "output_type": "stream",
     "text": [
      "<class 'pandas.core.frame.DataFrame'>\n",
      "RangeIndex: 55395 entries, 0 to 55394\n",
      "Data columns (total 20 columns):\n",
      " #   Column         Non-Null Count  Dtype  \n",
      "---  ------         --------------  -----  \n",
      " 0   BeerID         55395 non-null  int64  \n",
      " 1   Name           55395 non-null  object \n",
      " 2   URL            55395 non-null  object \n",
      " 3   Style          54947 non-null  object \n",
      " 4   StyleID        55395 non-null  int64  \n",
      " 5   Size_L         55395 non-null  float64\n",
      " 6   ABV            55395 non-null  float64\n",
      " 7   IBU            55395 non-null  float64\n",
      " 8   Color          55395 non-null  float64\n",
      " 9   BoilSize       55395 non-null  float64\n",
      " 10  BoilTime       55395 non-null  int64  \n",
      " 11  BoilGravity    53111 non-null  float64\n",
      " 12  Efficiency     55395 non-null  float64\n",
      " 13  MashThickness  32882 non-null  float64\n",
      " 14  SugarScale     55395 non-null  object \n",
      " 15  BrewMethod     55395 non-null  object \n",
      " 16  PitchRate      25899 non-null  float64\n",
      " 17  PrimaryTemp    38343 non-null  float64\n",
      " 18  PrimingMethod  5079 non-null   object \n",
      " 19  PrimingAmount  3595 non-null   object \n",
      "dtypes: float64(10), int64(3), object(7)\n",
      "memory usage: 8.5+ MB\n"
     ]
    }
   ],
   "source": [
    "df.info()"
   ]
  },
  {
   "cell_type": "markdown",
   "metadata": {},
   "source": [
    "#### Analisis de las 7 variables no numericas: 'Name', 'URL', 'Style', 'SugarScale', 'BrewMethod', 'PrimingMethod', 'PrimingAmount'"
   ]
  },
  {
   "cell_type": "code",
   "execution_count": 33,
   "metadata": {},
   "outputs": [
    {
     "data": {
      "text/plain": [
       "Awesome Recipe                     961\n",
       "IPA                                146\n",
       "Saison                             141\n",
       "Kölsch                             123\n",
       "Stout                              100\n",
       "                                  ... \n",
       "zbieraj ?mieci, rób barli?ajny!      1\n",
       "Philadelphia  IPA                    1\n",
       "Norwegian ale                        1\n",
       "AIH Black F-Rye Day PA               1\n",
       "Steve's Session IPA (SS)             1\n",
       "Name: Name, Length: 45134, dtype: int64"
      ]
     },
     "execution_count": 33,
     "metadata": {},
     "output_type": "execute_result"
    }
   ],
   "source": [
    "#1)var Name\n",
    "df['Name'].value_counts() #la voy a desestimar completamente. Tengo muchos nombres distintos y no vale la pena trabajarlos."
   ]
  },
  {
   "cell_type": "code",
   "execution_count": 34,
   "metadata": {},
   "outputs": [
    {
     "data": {
      "text/plain": [
       "/homebrew/recipe/view/416466/belgian-triple                            1\n",
       "/homebrew/recipe/view/491521/blue-balls-belgian-wit                    1\n",
       "/homebrew/recipe/view/87644/kulminator-belgian-dubbel                  1\n",
       "/homebrew/recipe/view/84778/yellowheart-ipa-exotic-wood-series-        1\n",
       "/homebrew/recipe/view/369746/courage-imperial-stout-1914-              1\n",
       "                                                                      ..\n",
       "/homebrew/recipe/view/419063/a-wee-bit-3-1                             1\n",
       "/homebrew/recipe/view/473501/fossane-bryggeri-theoderic-barley-wine    1\n",
       "/homebrew/recipe/view/338289/centennial-smash-                         1\n",
       "/homebrew/recipe/view/483540/delta-force-porter                        1\n",
       "/homebrew/recipe/view/230210/tractor-fuel                              1\n",
       "Name: URL, Length: 55395, dtype: int64"
      ]
     },
     "execution_count": 34,
     "metadata": {},
     "output_type": "execute_result"
    }
   ],
   "source": [
    "#2)var URL\n",
    "df['URL'].value_counts() #la voy a desestimar completamente. Tengo una URL por registro, pero no me dica nada respecto de AVB"
   ]
  },
  {
   "cell_type": "code",
   "execution_count": 35,
   "metadata": {},
   "outputs": [
    {
     "data": {
      "text/plain": [
       "American IPA              8986\n",
       "American Pale Ale         5737\n",
       "Saison                    1995\n",
       "American Light Lager      1653\n",
       "American Amber Ale        1532\n",
       "                          ... \n",
       "Apple Wine                   4\n",
       "Pyment (Grape Melomel)       4\n",
       "Lichtenhainer                4\n",
       "French Cider                 2\n",
       "Traditional Perry            2\n",
       "Name: Style, Length: 175, dtype: int64"
      ]
     },
     "execution_count": 35,
     "metadata": {},
     "output_type": "execute_result"
    }
   ],
   "source": [
    "#3)var Style\n",
    "df['Style'].value_counts() #en principio la voy a desestimar para el modelo por tener tantas categorias"
   ]
  },
  {
   "cell_type": "code",
   "execution_count": 36,
   "metadata": {},
   "outputs": [
    {
     "data": {
      "text/plain": [
       "Specific Gravity    53947\n",
       "Plato                1448\n",
       "Name: SugarScale, dtype: int64"
      ]
     },
     "execution_count": 36,
     "metadata": {},
     "output_type": "execute_result"
    }
   ],
   "source": [
    "#4)var SugarScale\n",
    "df['SugarScale'].value_counts() #son solo 2 categorias. La voy a hacer dummy"
   ]
  },
  {
   "cell_type": "code",
   "execution_count": 37,
   "metadata": {},
   "outputs": [
    {
     "data": {
      "text/plain": [
       "(55395, 22)"
      ]
     },
     "execution_count": 37,
     "metadata": {},
     "output_type": "execute_result"
    }
   ],
   "source": [
    "df_dummy1 = pd.get_dummies(df['SugarScale'], prefix= 'SugarScale') #genero dummy\n",
    "df = pd.concat([df, df_dummy1], axis=1) #concateno con df\n",
    "df.shape"
   ]
  },
  {
   "cell_type": "code",
   "execution_count": 39,
   "metadata": {},
   "outputs": [
    {
     "data": {
      "text/plain": [
       "(55395, 22)"
      ]
     },
     "execution_count": 39,
     "metadata": {},
     "output_type": "execute_result"
    }
   ],
   "source": [
    "#5)var SugarScale\n",
    "df['BrewMethod'].value_counts()  #son solo 4 categorias. La voy a hacer dummy"
   ]
  },
  {
   "cell_type": "code",
   "execution_count": 40,
   "metadata": {},
   "outputs": [
    {
     "data": {
      "text/plain": [
       "(55395, 26)"
      ]
     },
     "execution_count": 40,
     "metadata": {},
     "output_type": "execute_result"
    }
   ],
   "source": [
    "df_dummy2 = pd.get_dummies(df['BrewMethod'], prefix= 'BrewMethod') #genero dummy\n",
    "df = pd.concat([df, df_dummy2], axis=1) #concateno con df\n",
    "df.shape"
   ]
  },
  {
   "cell_type": "code",
   "execution_count": 41,
   "metadata": {},
   "outputs": [
    {
     "data": {
      "text/plain": [
       "Corn Sugar               553\n",
       "Dextrose                 376\n",
       "corn sugar               274\n",
       "Keg                      240\n",
       "Sukkerlake               231\n",
       "                        ... \n",
       "Table sugar. 18L           1\n",
       "Fizz Drops                 1\n",
       "Dry extract                1\n",
       "Aï¿½ï¿½car Mascavo         1\n",
       "Pressure Fermentation      1\n",
       "Name: PrimingMethod, Length: 731, dtype: int64"
      ]
     },
     "execution_count": 41,
     "metadata": {},
     "output_type": "execute_result"
    }
   ],
   "source": [
    "#6)var PrimingMethod\n",
    "df['PrimingMethod'].value_counts() #en principio la voy a desestimar para el modelo por tener tantas categorias"
   ]
  },
  {
   "cell_type": "code",
   "execution_count": 42,
   "metadata": {},
   "outputs": [
    {
     "data": {
      "text/plain": [
       "5 oz                                 161\n",
       "3/4 cup                               89\n",
       "4 oz                                  80\n",
       "1 cup                                 78\n",
       "5oz                                   62\n",
       "                                    ... \n",
       "0.6 oz Sugar with 1.25 cups water      1\n",
       "94g @ 18C                              1\n",
       "5ml/bottle by Syringe                  1\n",
       "Cuo                                    1\n",
       "8.2                                    1\n",
       "Name: PrimingAmount, Length: 1557, dtype: int64"
      ]
     },
     "execution_count": 42,
     "metadata": {},
     "output_type": "execute_result"
    }
   ],
   "source": [
    "#7)var PrimingAmount\n",
    "df['PrimingAmount'].value_counts() #en principio la voy a desestimar para el modelo por tener tantas categorias"
   ]
  },
  {
   "cell_type": "markdown",
   "metadata": {},
   "source": [
    "#### df: tiene 2 las variables dummies. Solo elimino 'Names' y 'URL' (mas adelante lo voy a usar para trabajar las otras 3 de texto que desestime por ahora"
   ]
  },
  {
   "cell_type": "code",
   "execution_count": 43,
   "metadata": {},
   "outputs": [
    {
     "data": {
      "text/plain": [
       "(55395, 22)"
      ]
     },
     "execution_count": 43,
     "metadata": {},
     "output_type": "execute_result"
    }
   ],
   "source": [
    "df=df.drop(['Name','URL'], axis=1) #no las considero en absoluto\n",
    "df=df.drop(['SugarScale','BrewMethod'], axis=1) #las borro porque ya las tengo dummies\n",
    "df.shape"
   ]
  },
  {
   "cell_type": "markdown",
   "metadata": {},
   "source": [
    "## De ahora en adelante trabajo con df_1"
   ]
  },
  {
   "cell_type": "code",
   "execution_count": 44,
   "metadata": {},
   "outputs": [
    {
     "name": "stdout",
     "output_type": "stream",
     "text": [
      "(55395, 19)\n"
     ]
    },
    {
     "data": {
      "text/html": [
       "<div>\n",
       "<style scoped>\n",
       "    .dataframe tbody tr th:only-of-type {\n",
       "        vertical-align: middle;\n",
       "    }\n",
       "\n",
       "    .dataframe tbody tr th {\n",
       "        vertical-align: top;\n",
       "    }\n",
       "\n",
       "    .dataframe thead th {\n",
       "        text-align: right;\n",
       "    }\n",
       "</style>\n",
       "<table border=\"1\" class=\"dataframe\">\n",
       "  <thead>\n",
       "    <tr style=\"text-align: right;\">\n",
       "      <th></th>\n",
       "      <th>BeerID</th>\n",
       "      <th>StyleID</th>\n",
       "      <th>Size_L</th>\n",
       "      <th>ABV</th>\n",
       "      <th>IBU</th>\n",
       "      <th>Color</th>\n",
       "      <th>BoilSize</th>\n",
       "      <th>BoilTime</th>\n",
       "      <th>BoilGravity</th>\n",
       "      <th>Efficiency</th>\n",
       "      <th>MashThickness</th>\n",
       "      <th>PitchRate</th>\n",
       "      <th>PrimaryTemp</th>\n",
       "      <th>SugarScale_Plato</th>\n",
       "      <th>SugarScale_Specific Gravity</th>\n",
       "      <th>BrewMethod_All Grain</th>\n",
       "      <th>BrewMethod_BIAB</th>\n",
       "      <th>BrewMethod_Partial Mash</th>\n",
       "      <th>BrewMethod_extract</th>\n",
       "    </tr>\n",
       "  </thead>\n",
       "  <tbody>\n",
       "    <tr>\n",
       "      <th>0</th>\n",
       "      <td>69825</td>\n",
       "      <td>87</td>\n",
       "      <td>20.82</td>\n",
       "      <td>8.27</td>\n",
       "      <td>41.30</td>\n",
       "      <td>50.00</td>\n",
       "      <td>28.39</td>\n",
       "      <td>60</td>\n",
       "      <td>1.064</td>\n",
       "      <td>65.0</td>\n",
       "      <td>1.30</td>\n",
       "      <td>1.25</td>\n",
       "      <td>17.78</td>\n",
       "      <td>0</td>\n",
       "      <td>1</td>\n",
       "      <td>1</td>\n",
       "      <td>0</td>\n",
       "      <td>0</td>\n",
       "      <td>0</td>\n",
       "    </tr>\n",
       "    <tr>\n",
       "      <th>1</th>\n",
       "      <td>44320</td>\n",
       "      <td>116</td>\n",
       "      <td>25.00</td>\n",
       "      <td>5.64</td>\n",
       "      <td>35.36</td>\n",
       "      <td>13.28</td>\n",
       "      <td>30.00</td>\n",
       "      <td>60</td>\n",
       "      <td>1.050</td>\n",
       "      <td>65.0</td>\n",
       "      <td>NaN</td>\n",
       "      <td>0.75</td>\n",
       "      <td>24.00</td>\n",
       "      <td>0</td>\n",
       "      <td>1</td>\n",
       "      <td>1</td>\n",
       "      <td>0</td>\n",
       "      <td>0</td>\n",
       "      <td>0</td>\n",
       "    </tr>\n",
       "    <tr>\n",
       "      <th>2</th>\n",
       "      <td>55927</td>\n",
       "      <td>14</td>\n",
       "      <td>20.82</td>\n",
       "      <td>5.33</td>\n",
       "      <td>25.18</td>\n",
       "      <td>3.98</td>\n",
       "      <td>24.61</td>\n",
       "      <td>60</td>\n",
       "      <td>1.044</td>\n",
       "      <td>75.0</td>\n",
       "      <td>1.50</td>\n",
       "      <td>NaN</td>\n",
       "      <td>NaN</td>\n",
       "      <td>0</td>\n",
       "      <td>1</td>\n",
       "      <td>1</td>\n",
       "      <td>0</td>\n",
       "      <td>0</td>\n",
       "      <td>0</td>\n",
       "    </tr>\n",
       "    <tr>\n",
       "      <th>3</th>\n",
       "      <td>21219</td>\n",
       "      <td>56</td>\n",
       "      <td>18.93</td>\n",
       "      <td>8.29</td>\n",
       "      <td>91.60</td>\n",
       "      <td>11.74</td>\n",
       "      <td>28.39</td>\n",
       "      <td>60</td>\n",
       "      <td>1.054</td>\n",
       "      <td>70.0</td>\n",
       "      <td>1.25</td>\n",
       "      <td>0.35</td>\n",
       "      <td>21.11</td>\n",
       "      <td>0</td>\n",
       "      <td>1</td>\n",
       "      <td>1</td>\n",
       "      <td>0</td>\n",
       "      <td>0</td>\n",
       "      <td>0</td>\n",
       "    </tr>\n",
       "    <tr>\n",
       "      <th>4</th>\n",
       "      <td>18821</td>\n",
       "      <td>134</td>\n",
       "      <td>18.93</td>\n",
       "      <td>4.02</td>\n",
       "      <td>22.81</td>\n",
       "      <td>3.08</td>\n",
       "      <td>26.50</td>\n",
       "      <td>60</td>\n",
       "      <td>1.027</td>\n",
       "      <td>67.0</td>\n",
       "      <td>NaN</td>\n",
       "      <td>NaN</td>\n",
       "      <td>23.89</td>\n",
       "      <td>0</td>\n",
       "      <td>1</td>\n",
       "      <td>1</td>\n",
       "      <td>0</td>\n",
       "      <td>0</td>\n",
       "      <td>0</td>\n",
       "    </tr>\n",
       "  </tbody>\n",
       "</table>\n",
       "</div>"
      ],
      "text/plain": [
       "   BeerID  StyleID  Size_L   ABV    IBU  Color  BoilSize  BoilTime  \\\n",
       "0   69825       87   20.82  8.27  41.30  50.00     28.39        60   \n",
       "1   44320      116   25.00  5.64  35.36  13.28     30.00        60   \n",
       "2   55927       14   20.82  5.33  25.18   3.98     24.61        60   \n",
       "3   21219       56   18.93  8.29  91.60  11.74     28.39        60   \n",
       "4   18821      134   18.93  4.02  22.81   3.08     26.50        60   \n",
       "\n",
       "   BoilGravity  Efficiency  MashThickness  PitchRate  PrimaryTemp  \\\n",
       "0        1.064        65.0           1.30       1.25        17.78   \n",
       "1        1.050        65.0            NaN       0.75        24.00   \n",
       "2        1.044        75.0           1.50        NaN          NaN   \n",
       "3        1.054        70.0           1.25       0.35        21.11   \n",
       "4        1.027        67.0            NaN        NaN        23.89   \n",
       "\n",
       "   SugarScale_Plato  SugarScale_Specific Gravity  BrewMethod_All Grain  \\\n",
       "0                 0                            1                     1   \n",
       "1                 0                            1                     1   \n",
       "2                 0                            1                     1   \n",
       "3                 0                            1                     1   \n",
       "4                 0                            1                     1   \n",
       "\n",
       "   BrewMethod_BIAB  BrewMethod_Partial Mash  BrewMethod_extract  \n",
       "0                0                        0                   0  \n",
       "1                0                        0                   0  \n",
       "2                0                        0                   0  \n",
       "3                0                        0                   0  \n",
       "4                0                        0                   0  "
      ]
     },
     "execution_count": 44,
     "metadata": {},
     "output_type": "execute_result"
    }
   ],
   "source": [
    "# de las 7 no numericas, solo voy a utilizar las 2 que transforme en dummies. El resto las elimino para los primeros modelos.\n",
    "\n",
    "df_1=df.drop(['PrimingMethod','PrimingAmount','Style'], axis=1) #no las considero por ahora\n",
    "print(df_1.shape) #tenia 20 col, genere 6 por las dummies y elimine 7 --> me quedo con 19 columnas\n",
    "df_1.head() #son todas numericas"
   ]
  },
  {
   "cell_type": "markdown",
   "metadata": {},
   "source": [
    "### Analisis de valores nulos: Remuevo las columnas que tengan mas del 10% de datos faltantes. Para las restantes, elijo una estrategia de imputación.\n"
   ]
  },
  {
   "cell_type": "code",
   "execution_count": 45,
   "metadata": {},
   "outputs": [
    {
     "data": {
      "text/plain": [
       "BeerID                         0.000000\n",
       "StyleID                        0.000000\n",
       "Size_L                         0.000000\n",
       "ABV                            0.000000\n",
       "IBU                            0.000000\n",
       "Color                          0.000000\n",
       "BoilSize                       0.000000\n",
       "BoilTime                       0.000000\n",
       "BoilGravity                    0.041231\n",
       "Efficiency                     0.000000\n",
       "MashThickness                  0.406409\n",
       "PitchRate                      0.532467\n",
       "PrimaryTemp                    0.307826\n",
       "SugarScale_Plato               0.000000\n",
       "SugarScale_Specific Gravity    0.000000\n",
       "BrewMethod_All Grain           0.000000\n",
       "BrewMethod_BIAB                0.000000\n",
       "BrewMethod_Partial Mash        0.000000\n",
       "BrewMethod_extract             0.000000\n",
       "dtype: float64"
      ]
     },
     "execution_count": 45,
     "metadata": {},
     "output_type": "execute_result"
    }
   ],
   "source": [
    "perc_nans = df_1.isna().sum() / df_1.shape[0] #cuento los nan sobre la cantidad de registros\n",
    "perc_nans"
   ]
  },
  {
   "cell_type": "code",
   "execution_count": 48,
   "metadata": {},
   "outputs": [
    {
     "name": "stdout",
     "output_type": "stream",
     "text": [
      "MashThickness    0.406409\n",
      "PitchRate        0.532467\n",
      "PrimaryTemp      0.307826\n",
      "dtype: float64\n"
     ]
    },
    {
     "data": {
      "text/plain": [
       "(55395, 16)"
      ]
     },
     "execution_count": 48,
     "metadata": {},
     "output_type": "execute_result"
    }
   ],
   "source": [
    "# Remuevo las que tienen mas de un 10% de nulos\n",
    "columns_delete = perc_nans[perc_nans > 0.10] #genero lista devariables con mas de 10% null\n",
    "print(columns_delete)\n",
    "columns_delete = perc_nans[perc_nans > 0.10].index\n",
    "\n",
    "df_1 = df_1.drop(columns_delete, axis=1) #las elimino del df\n",
    "df_1.shape\n"
   ]
  },
  {
   "cell_type": "code",
   "execution_count": 49,
   "metadata": {},
   "outputs": [
    {
     "data": {
      "text/plain": [
       "BoilGravity    0.041231\n",
       "dtype: float64"
      ]
     },
     "execution_count": 49,
     "metadata": {},
     "output_type": "execute_result"
    }
   ],
   "source": [
    "#trabajo los nan > 0% y < 10% de los datos por atributo. Los voy a imputar con la media\n",
    "perc_nans[(perc_nans > 0) & (perc_nans < 0.10)] #veo cuales son"
   ]
  },
  {
   "cell_type": "code",
   "execution_count": 50,
   "metadata": {},
   "outputs": [
    {
     "name": "stdout",
     "output_type": "stream",
     "text": [
      "Index(['BoilGravity'], dtype='object')\n"
     ]
    },
    {
     "data": {
      "text/plain": [
       "{'BoilGravity': 1.3568484871307092}"
      ]
     },
     "execution_count": 50,
     "metadata": {},
     "output_type": "execute_result"
    }
   ],
   "source": [
    "columns_imputar = perc_nans[(perc_nans > 0) & (perc_nans < 0.10)].index\n",
    "print(columns_imputar)\n",
    "medias=df_1[columns_imputar].mean().to_dict() #calculo las medias y las pongo en un diccionario\n",
    "medias"
   ]
  },
  {
   "cell_type": "code",
   "execution_count": 52,
   "metadata": {},
   "outputs": [
    {
     "name": "stdout",
     "output_type": "stream",
     "text": [
      "(55395, 16)\n"
     ]
    },
    {
     "data": {
      "text/html": [
       "<div>\n",
       "<style scoped>\n",
       "    .dataframe tbody tr th:only-of-type {\n",
       "        vertical-align: middle;\n",
       "    }\n",
       "\n",
       "    .dataframe tbody tr th {\n",
       "        vertical-align: top;\n",
       "    }\n",
       "\n",
       "    .dataframe thead th {\n",
       "        text-align: right;\n",
       "    }\n",
       "</style>\n",
       "<table border=\"1\" class=\"dataframe\">\n",
       "  <thead>\n",
       "    <tr style=\"text-align: right;\">\n",
       "      <th></th>\n",
       "      <th>BeerID</th>\n",
       "      <th>StyleID</th>\n",
       "      <th>Size_L</th>\n",
       "      <th>ABV</th>\n",
       "      <th>IBU</th>\n",
       "      <th>Color</th>\n",
       "      <th>BoilSize</th>\n",
       "      <th>BoilTime</th>\n",
       "      <th>BoilGravity</th>\n",
       "      <th>Efficiency</th>\n",
       "      <th>SugarScale_Plato</th>\n",
       "      <th>SugarScale_Specific Gravity</th>\n",
       "      <th>BrewMethod_All Grain</th>\n",
       "      <th>BrewMethod_BIAB</th>\n",
       "      <th>BrewMethod_Partial Mash</th>\n",
       "      <th>BrewMethod_extract</th>\n",
       "    </tr>\n",
       "  </thead>\n",
       "  <tbody>\n",
       "    <tr>\n",
       "      <th>0</th>\n",
       "      <td>69825</td>\n",
       "      <td>87</td>\n",
       "      <td>20.82</td>\n",
       "      <td>8.27</td>\n",
       "      <td>41.30</td>\n",
       "      <td>50.00</td>\n",
       "      <td>28.39</td>\n",
       "      <td>60</td>\n",
       "      <td>1.064000</td>\n",
       "      <td>65.0</td>\n",
       "      <td>0</td>\n",
       "      <td>1</td>\n",
       "      <td>1</td>\n",
       "      <td>0</td>\n",
       "      <td>0</td>\n",
       "      <td>0</td>\n",
       "    </tr>\n",
       "    <tr>\n",
       "      <th>1</th>\n",
       "      <td>44320</td>\n",
       "      <td>116</td>\n",
       "      <td>25.00</td>\n",
       "      <td>5.64</td>\n",
       "      <td>35.36</td>\n",
       "      <td>13.28</td>\n",
       "      <td>30.00</td>\n",
       "      <td>60</td>\n",
       "      <td>1.050000</td>\n",
       "      <td>65.0</td>\n",
       "      <td>0</td>\n",
       "      <td>1</td>\n",
       "      <td>1</td>\n",
       "      <td>0</td>\n",
       "      <td>0</td>\n",
       "      <td>0</td>\n",
       "    </tr>\n",
       "    <tr>\n",
       "      <th>2</th>\n",
       "      <td>55927</td>\n",
       "      <td>14</td>\n",
       "      <td>20.82</td>\n",
       "      <td>5.33</td>\n",
       "      <td>25.18</td>\n",
       "      <td>3.98</td>\n",
       "      <td>24.61</td>\n",
       "      <td>60</td>\n",
       "      <td>1.044000</td>\n",
       "      <td>75.0</td>\n",
       "      <td>0</td>\n",
       "      <td>1</td>\n",
       "      <td>1</td>\n",
       "      <td>0</td>\n",
       "      <td>0</td>\n",
       "      <td>0</td>\n",
       "    </tr>\n",
       "    <tr>\n",
       "      <th>3</th>\n",
       "      <td>21219</td>\n",
       "      <td>56</td>\n",
       "      <td>18.93</td>\n",
       "      <td>8.29</td>\n",
       "      <td>91.60</td>\n",
       "      <td>11.74</td>\n",
       "      <td>28.39</td>\n",
       "      <td>60</td>\n",
       "      <td>1.054000</td>\n",
       "      <td>70.0</td>\n",
       "      <td>0</td>\n",
       "      <td>1</td>\n",
       "      <td>1</td>\n",
       "      <td>0</td>\n",
       "      <td>0</td>\n",
       "      <td>0</td>\n",
       "    </tr>\n",
       "    <tr>\n",
       "      <th>4</th>\n",
       "      <td>18821</td>\n",
       "      <td>134</td>\n",
       "      <td>18.93</td>\n",
       "      <td>4.02</td>\n",
       "      <td>22.81</td>\n",
       "      <td>3.08</td>\n",
       "      <td>26.50</td>\n",
       "      <td>60</td>\n",
       "      <td>1.027000</td>\n",
       "      <td>67.0</td>\n",
       "      <td>0</td>\n",
       "      <td>1</td>\n",
       "      <td>1</td>\n",
       "      <td>0</td>\n",
       "      <td>0</td>\n",
       "      <td>0</td>\n",
       "    </tr>\n",
       "    <tr>\n",
       "      <th>5</th>\n",
       "      <td>15319</td>\n",
       "      <td>162</td>\n",
       "      <td>11.36</td>\n",
       "      <td>7.31</td>\n",
       "      <td>24.06</td>\n",
       "      <td>50.00</td>\n",
       "      <td>15.14</td>\n",
       "      <td>60</td>\n",
       "      <td>1.054000</td>\n",
       "      <td>60.0</td>\n",
       "      <td>0</td>\n",
       "      <td>1</td>\n",
       "      <td>1</td>\n",
       "      <td>0</td>\n",
       "      <td>0</td>\n",
       "      <td>0</td>\n",
       "    </tr>\n",
       "    <tr>\n",
       "      <th>6</th>\n",
       "      <td>23344</td>\n",
       "      <td>7</td>\n",
       "      <td>5.00</td>\n",
       "      <td>20.22</td>\n",
       "      <td>80.92</td>\n",
       "      <td>34.76</td>\n",
       "      <td>22.00</td>\n",
       "      <td>60</td>\n",
       "      <td>1.044000</td>\n",
       "      <td>70.0</td>\n",
       "      <td>0</td>\n",
       "      <td>1</td>\n",
       "      <td>1</td>\n",
       "      <td>0</td>\n",
       "      <td>0</td>\n",
       "      <td>0</td>\n",
       "    </tr>\n",
       "    <tr>\n",
       "      <th>7</th>\n",
       "      <td>65628</td>\n",
       "      <td>9</td>\n",
       "      <td>12.00</td>\n",
       "      <td>5.77</td>\n",
       "      <td>43.45</td>\n",
       "      <td>4.41</td>\n",
       "      <td>8.00</td>\n",
       "      <td>60</td>\n",
       "      <td>1.087000</td>\n",
       "      <td>65.0</td>\n",
       "      <td>0</td>\n",
       "      <td>1</td>\n",
       "      <td>0</td>\n",
       "      <td>0</td>\n",
       "      <td>0</td>\n",
       "      <td>1</td>\n",
       "    </tr>\n",
       "    <tr>\n",
       "      <th>8</th>\n",
       "      <td>27546</td>\n",
       "      <td>4</td>\n",
       "      <td>23.00</td>\n",
       "      <td>5.29</td>\n",
       "      <td>34.98</td>\n",
       "      <td>12.99</td>\n",
       "      <td>31.70</td>\n",
       "      <td>90</td>\n",
       "      <td>1.036000</td>\n",
       "      <td>70.0</td>\n",
       "      <td>0</td>\n",
       "      <td>1</td>\n",
       "      <td>0</td>\n",
       "      <td>1</td>\n",
       "      <td>0</td>\n",
       "      <td>0</td>\n",
       "    </tr>\n",
       "    <tr>\n",
       "      <th>9</th>\n",
       "      <td>3779</td>\n",
       "      <td>134</td>\n",
       "      <td>20.82</td>\n",
       "      <td>6.78</td>\n",
       "      <td>35.68</td>\n",
       "      <td>8.77</td>\n",
       "      <td>26.50</td>\n",
       "      <td>60</td>\n",
       "      <td>1.356848</td>\n",
       "      <td>70.0</td>\n",
       "      <td>0</td>\n",
       "      <td>1</td>\n",
       "      <td>1</td>\n",
       "      <td>0</td>\n",
       "      <td>0</td>\n",
       "      <td>0</td>\n",
       "    </tr>\n",
       "  </tbody>\n",
       "</table>\n",
       "</div>"
      ],
      "text/plain": [
       "   BeerID  StyleID  Size_L    ABV    IBU  Color  BoilSize  BoilTime  \\\n",
       "0   69825       87   20.82   8.27  41.30  50.00     28.39        60   \n",
       "1   44320      116   25.00   5.64  35.36  13.28     30.00        60   \n",
       "2   55927       14   20.82   5.33  25.18   3.98     24.61        60   \n",
       "3   21219       56   18.93   8.29  91.60  11.74     28.39        60   \n",
       "4   18821      134   18.93   4.02  22.81   3.08     26.50        60   \n",
       "5   15319      162   11.36   7.31  24.06  50.00     15.14        60   \n",
       "6   23344        7    5.00  20.22  80.92  34.76     22.00        60   \n",
       "7   65628        9   12.00   5.77  43.45   4.41      8.00        60   \n",
       "8   27546        4   23.00   5.29  34.98  12.99     31.70        90   \n",
       "9    3779      134   20.82   6.78  35.68   8.77     26.50        60   \n",
       "\n",
       "   BoilGravity  Efficiency  SugarScale_Plato  SugarScale_Specific Gravity  \\\n",
       "0     1.064000        65.0                 0                            1   \n",
       "1     1.050000        65.0                 0                            1   \n",
       "2     1.044000        75.0                 0                            1   \n",
       "3     1.054000        70.0                 0                            1   \n",
       "4     1.027000        67.0                 0                            1   \n",
       "5     1.054000        60.0                 0                            1   \n",
       "6     1.044000        70.0                 0                            1   \n",
       "7     1.087000        65.0                 0                            1   \n",
       "8     1.036000        70.0                 0                            1   \n",
       "9     1.356848        70.0                 0                            1   \n",
       "\n",
       "   BrewMethod_All Grain  BrewMethod_BIAB  BrewMethod_Partial Mash  \\\n",
       "0                     1                0                        0   \n",
       "1                     1                0                        0   \n",
       "2                     1                0                        0   \n",
       "3                     1                0                        0   \n",
       "4                     1                0                        0   \n",
       "5                     1                0                        0   \n",
       "6                     1                0                        0   \n",
       "7                     0                0                        0   \n",
       "8                     0                1                        0   \n",
       "9                     1                0                        0   \n",
       "\n",
       "   BrewMethod_extract  \n",
       "0                   0  \n",
       "1                   0  \n",
       "2                   0  \n",
       "3                   0  \n",
       "4                   0  \n",
       "5                   0  \n",
       "6                   0  \n",
       "7                   1  \n",
       "8                   0  \n",
       "9                   0  "
      ]
     },
     "execution_count": 52,
     "metadata": {},
     "output_type": "execute_result"
    }
   ],
   "source": [
    "# las imputo usando -fillna-\n",
    "df_1 = df_1.fillna(medias)\n",
    "print(df_1.shape)\n",
    "df_1.head(10)"
   ]
  },
  {
   "cell_type": "code",
   "execution_count": 54,
   "metadata": {},
   "outputs": [
    {
     "name": "stdout",
     "output_type": "stream",
     "text": [
      "(55395, 15)\n"
     ]
    }
   ],
   "source": [
    "# elimino por ahora 'StyleID' por ser un ID que a priori no aporta predictibilidad \n",
    "df_1=df_1.drop('StyleID', axis=1)\n",
    "print(df_1.shape)\n"
   ]
  },
  {
   "cell_type": "markdown",
   "metadata": {},
   "source": [
    "La métrica que usamos para medir es RMSE (raíz del error cuadrático medio), cuya fórmula es:\n",
    "\n",
    "$$RMSE = \\sqrt{\\frac{\\sum_{t=1}^n (\\hat y_t - y_t)^2}{n}}$$"
   ]
  },
  {
   "cell_type": "markdown",
   "metadata": {},
   "source": [
    "### Pruebo distintos algoritmos y distintos parámetros con greedsearch. Trbajo con CV para tener una referencia de métrica."
   ]
  },
  {
   "cell_type": "code",
   "execution_count": 55,
   "metadata": {},
   "outputs": [],
   "source": [
    "from sklearn.model_selection import GridSearchCV\n",
    "from sklearn.ensemble import RandomForestRegressor\n",
    "from sklearn.tree import DecisionTreeRegressor\n",
    "from sklearn.linear_model import LinearRegression\n",
    "from sklearn.metrics import mean_squared_error\n",
    "\n",
    "parameter_grid_rf = {\n",
    "    'max_depth': [10,20,30, None],\n",
    "    'max_features': [0.3, 0.5, 1.],\n",
    "    'n_estimators': [50,100, 500]\n",
    "}\n",
    "\n",
    "parameter_grid_dt = {\n",
    "    'max_depth': [10,20,30, None],\n",
    "    'min_samples_split': [20, 30, 50]\n",
    "}\n",
    "\n",
    "parameter_grid_linReg = {\n",
    "    'fit_intercept': [True, False]\n",
    "}\n",
    "\n",
    "\n",
    "grid_search_rf = GridSearchCV(RandomForestRegressor(random_state=0), parameter_grid_rf,\n",
    "                            cv=3, verbose=3, refit=True, n_jobs=-1, scoring = \"neg_mean_squared_error\")\n",
    "\n",
    "grid_search_dt = GridSearchCV(DecisionTreeRegressor(random_state=0), parameter_grid_dt,\n",
    "                            cv=3, verbose=3, refit=True, n_jobs=-1, scoring = \"neg_mean_squared_error\")\n",
    "\n",
    "grid_search_linReg = GridSearchCV(LinearRegression(), parameter_grid_linReg,\n",
    "                            cv=3, verbose=3, refit=True, n_jobs=-1, scoring = \"neg_mean_squared_error\")"
   ]
  },
  {
   "cell_type": "code",
   "execution_count": 57,
   "metadata": {
    "scrolled": true
   },
   "outputs": [],
   "source": [
    "#Sepraro variable target de explicativas y borro id (para la parte de train no lo necesito. Para la parte de test si, para\n",
    "# poder identificar a las cervezas/registros)\n",
    "\n",
    "X_1 = df_1.drop(['ABV','BeerID',], axis=1)\n",
    "y_1 = df_1['ABV']"
   ]
  },
  {
   "cell_type": "markdown",
   "metadata": {},
   "source": [
    "### Entreno Random Forest"
   ]
  },
  {
   "cell_type": "code",
   "execution_count": 59,
   "metadata": {},
   "outputs": [
    {
     "name": "stdout",
     "output_type": "stream",
     "text": [
      "Fitting 3 folds for each of 36 candidates, totalling 108 fits\n"
     ]
    },
    {
     "name": "stderr",
     "output_type": "stream",
     "text": [
      "[Parallel(n_jobs=-1)]: Using backend LokyBackend with 8 concurrent workers.\n",
      "[Parallel(n_jobs=-1)]: Done  16 tasks      | elapsed:  1.5min\n",
      "[Parallel(n_jobs=-1)]: Done 108 out of 108 | elapsed: 19.2min finished\n"
     ]
    },
    {
     "data": {
      "text/plain": [
       "GridSearchCV(cv=3, estimator=RandomForestRegressor(random_state=0), n_jobs=-1,\n",
       "             param_grid={'max_depth': [10, 20, 30, None],\n",
       "                         'max_features': [0.3, 0.5, 1.0],\n",
       "                         'n_estimators': [50, 100, 500]},\n",
       "             scoring='neg_mean_squared_error', verbose=3)"
      ]
     },
     "execution_count": 59,
     "metadata": {},
     "output_type": "execute_result"
    }
   ],
   "source": [
    "#entreno un RF\n",
    "grid_search_rf.fit(X_1, y_1)"
   ]
  },
  {
   "cell_type": "code",
   "execution_count": 60,
   "metadata": {},
   "outputs": [
    {
     "data": {
      "text/plain": [
       "RandomForestRegressor(max_depth=20, max_features=1.0, n_estimators=500,\n",
       "                      random_state=0)"
      ]
     },
     "execution_count": 60,
     "metadata": {},
     "output_type": "execute_result"
    }
   ],
   "source": [
    "grid_search_rf.best_estimator_ "
   ]
  },
  {
   "cell_type": "code",
   "execution_count": 61,
   "metadata": {},
   "outputs": [
    {
     "data": {
      "text/plain": [
       "{'max_depth': 20, 'max_features': 1.0, 'n_estimators': 500}"
      ]
     },
     "execution_count": 61,
     "metadata": {},
     "output_type": "execute_result"
    }
   ],
   "source": [
    "grid_search_rf.best_params_"
   ]
  },
  {
   "cell_type": "code",
   "execution_count": 62,
   "metadata": {},
   "outputs": [
    {
     "data": {
      "text/plain": [
       "-0.8974889045709823"
      ]
     },
     "execution_count": 62,
     "metadata": {},
     "output_type": "execute_result"
    }
   ],
   "source": [
    "grid_search_rf.best_score_"
   ]
  },
  {
   "cell_type": "markdown",
   "metadata": {},
   "source": [
    "##### RMSE Random Forest"
   ]
  },
  {
   "cell_type": "code",
   "execution_count": 63,
   "metadata": {},
   "outputs": [
    {
     "name": "stdout",
     "output_type": "stream",
     "text": [
      "El RMSE es USD 0.9473589101132592\n"
     ]
    }
   ],
   "source": [
    "print('El RMSE es USD {}'.format(np.sqrt(-grid_search_rf.best_score_)))"
   ]
  },
  {
   "cell_type": "markdown",
   "metadata": {},
   "source": [
    "### Entreno Arbol"
   ]
  },
  {
   "cell_type": "code",
   "execution_count": 64,
   "metadata": {},
   "outputs": [
    {
     "name": "stdout",
     "output_type": "stream",
     "text": [
      "Fitting 3 folds for each of 12 candidates, totalling 36 fits\n"
     ]
    },
    {
     "name": "stderr",
     "output_type": "stream",
     "text": [
      "[Parallel(n_jobs=-1)]: Using backend LokyBackend with 8 concurrent workers.\n",
      "[Parallel(n_jobs=-1)]: Done  16 tasks      | elapsed:   21.6s\n",
      "[Parallel(n_jobs=-1)]: Done  34 out of  36 | elapsed:   23.5s remaining:    1.3s\n",
      "[Parallel(n_jobs=-1)]: Done  36 out of  36 | elapsed:   23.5s finished\n"
     ]
    },
    {
     "data": {
      "text/plain": [
       "GridSearchCV(cv=3, estimator=DecisionTreeRegressor(random_state=0), n_jobs=-1,\n",
       "             param_grid={'max_depth': [10, 20, 30, None],\n",
       "                         'min_samples_split': [20, 30, 50]},\n",
       "             scoring='neg_mean_squared_error', verbose=3)"
      ]
     },
     "execution_count": 64,
     "metadata": {},
     "output_type": "execute_result"
    }
   ],
   "source": [
    "grid_search_dt.fit(X_1, y_1)"
   ]
  },
  {
   "cell_type": "code",
   "execution_count": 65,
   "metadata": {},
   "outputs": [
    {
     "data": {
      "text/plain": [
       "DecisionTreeRegressor(max_depth=20, min_samples_split=20, random_state=0)"
      ]
     },
     "execution_count": 65,
     "metadata": {},
     "output_type": "execute_result"
    }
   ],
   "source": [
    "grid_search_dt.best_estimator_"
   ]
  },
  {
   "cell_type": "code",
   "execution_count": 66,
   "metadata": {},
   "outputs": [
    {
     "data": {
      "text/plain": [
       "{'max_depth': 20, 'min_samples_split': 20}"
      ]
     },
     "execution_count": 66,
     "metadata": {},
     "output_type": "execute_result"
    }
   ],
   "source": [
    "grid_search_dt.best_params_"
   ]
  },
  {
   "cell_type": "code",
   "execution_count": 67,
   "metadata": {},
   "outputs": [
    {
     "data": {
      "text/plain": [
       "-1.3906828491010703"
      ]
     },
     "execution_count": 67,
     "metadata": {},
     "output_type": "execute_result"
    }
   ],
   "source": [
    "grid_search_dt.best_score_"
   ]
  },
  {
   "cell_type": "markdown",
   "metadata": {},
   "source": [
    "##### RMSE Árbol de decisión"
   ]
  },
  {
   "cell_type": "code",
   "execution_count": 68,
   "metadata": {},
   "outputs": [
    {
     "name": "stdout",
     "output_type": "stream",
     "text": [
      "El RMSE es USD 1.1792721692217918\n"
     ]
    }
   ],
   "source": [
    "print('El RMSE es USD {}'.format(np.sqrt(-grid_search_dt.best_score_)))"
   ]
  },
  {
   "cell_type": "markdown",
   "metadata": {},
   "source": [
    "### Entreno regresión lineal"
   ]
  },
  {
   "cell_type": "code",
   "execution_count": 69,
   "metadata": {},
   "outputs": [
    {
     "name": "stdout",
     "output_type": "stream",
     "text": [
      "Fitting 3 folds for each of 2 candidates, totalling 6 fits\n"
     ]
    },
    {
     "name": "stderr",
     "output_type": "stream",
     "text": [
      "[Parallel(n_jobs=-1)]: Using backend LokyBackend with 8 concurrent workers.\n",
      "[Parallel(n_jobs=-1)]: Done   3 out of   6 | elapsed:    2.4s remaining:    2.4s\n",
      "[Parallel(n_jobs=-1)]: Done   6 out of   6 | elapsed:    2.4s remaining:    0.0s\n",
      "[Parallel(n_jobs=-1)]: Done   6 out of   6 | elapsed:    2.4s finished\n"
     ]
    },
    {
     "data": {
      "text/plain": [
       "GridSearchCV(cv=3, estimator=LinearRegression(), n_jobs=-1,\n",
       "             param_grid={'fit_intercept': [True, False]},\n",
       "             scoring='neg_mean_squared_error', verbose=3)"
      ]
     },
     "execution_count": 69,
     "metadata": {},
     "output_type": "execute_result"
    }
   ],
   "source": [
    "#entreno regresion lineal\n",
    "\n",
    "grid_search_linReg.fit(X_1, y_1)"
   ]
  },
  {
   "cell_type": "code",
   "execution_count": 70,
   "metadata": {},
   "outputs": [
    {
     "data": {
      "text/plain": [
       "LinearRegression()"
      ]
     },
     "execution_count": 70,
     "metadata": {},
     "output_type": "execute_result"
    }
   ],
   "source": [
    "grid_search_linReg.best_estimator_"
   ]
  },
  {
   "cell_type": "code",
   "execution_count": 71,
   "metadata": {},
   "outputs": [
    {
     "data": {
      "text/plain": [
       "{'fit_intercept': True}"
      ]
     },
     "execution_count": 71,
     "metadata": {},
     "output_type": "execute_result"
    }
   ],
   "source": [
    "grid_search_linReg.best_params_"
   ]
  },
  {
   "cell_type": "code",
   "execution_count": 72,
   "metadata": {},
   "outputs": [
    {
     "data": {
      "text/plain": [
       "-2.9456880057755015"
      ]
     },
     "execution_count": 72,
     "metadata": {},
     "output_type": "execute_result"
    }
   ],
   "source": [
    "grid_search_linReg.best_score_"
   ]
  },
  {
   "cell_type": "markdown",
   "metadata": {},
   "source": [
    "##### RMSE regresión lineal"
   ]
  },
  {
   "cell_type": "code",
   "execution_count": 73,
   "metadata": {},
   "outputs": [
    {
     "name": "stdout",
     "output_type": "stream",
     "text": [
      "El RMSE es USD 1.7163006746416845\n"
     ]
    }
   ],
   "source": [
    "print('El RMSE es USD {}'.format(np.sqrt(-grid_search_linReg.best_score_)))"
   ]
  },
  {
   "cell_type": "code",
   "execution_count": null,
   "metadata": {},
   "outputs": [],
   "source": []
  },
  {
   "cell_type": "markdown",
   "metadata": {},
   "source": [
    "### Voy a entrenar los mejores de cada uno. Para tener las metricas a mano. Tambien puedo hacer un ensamble heterogeneo"
   ]
  },
  {
   "cell_type": "code",
   "execution_count": 77,
   "metadata": {},
   "outputs": [
    {
     "name": "stdout",
     "output_type": "stream",
     "text": [
      "(55395, 13)\n"
     ]
    },
    {
     "data": {
      "text/html": [
       "<div>\n",
       "<style scoped>\n",
       "    .dataframe tbody tr th:only-of-type {\n",
       "        vertical-align: middle;\n",
       "    }\n",
       "\n",
       "    .dataframe tbody tr th {\n",
       "        vertical-align: top;\n",
       "    }\n",
       "\n",
       "    .dataframe thead th {\n",
       "        text-align: right;\n",
       "    }\n",
       "</style>\n",
       "<table border=\"1\" class=\"dataframe\">\n",
       "  <thead>\n",
       "    <tr style=\"text-align: right;\">\n",
       "      <th></th>\n",
       "      <th>Size_L</th>\n",
       "      <th>IBU</th>\n",
       "      <th>Color</th>\n",
       "      <th>BoilSize</th>\n",
       "      <th>BoilTime</th>\n",
       "      <th>BoilGravity</th>\n",
       "      <th>Efficiency</th>\n",
       "      <th>SugarScale_Plato</th>\n",
       "      <th>SugarScale_Specific Gravity</th>\n",
       "      <th>BrewMethod_All Grain</th>\n",
       "      <th>BrewMethod_BIAB</th>\n",
       "      <th>BrewMethod_Partial Mash</th>\n",
       "      <th>BrewMethod_extract</th>\n",
       "    </tr>\n",
       "  </thead>\n",
       "  <tbody>\n",
       "    <tr>\n",
       "      <th>0</th>\n",
       "      <td>20.82</td>\n",
       "      <td>41.30</td>\n",
       "      <td>50.00</td>\n",
       "      <td>28.39</td>\n",
       "      <td>60</td>\n",
       "      <td>1.064</td>\n",
       "      <td>65.0</td>\n",
       "      <td>0</td>\n",
       "      <td>1</td>\n",
       "      <td>1</td>\n",
       "      <td>0</td>\n",
       "      <td>0</td>\n",
       "      <td>0</td>\n",
       "    </tr>\n",
       "    <tr>\n",
       "      <th>1</th>\n",
       "      <td>25.00</td>\n",
       "      <td>35.36</td>\n",
       "      <td>13.28</td>\n",
       "      <td>30.00</td>\n",
       "      <td>60</td>\n",
       "      <td>1.050</td>\n",
       "      <td>65.0</td>\n",
       "      <td>0</td>\n",
       "      <td>1</td>\n",
       "      <td>1</td>\n",
       "      <td>0</td>\n",
       "      <td>0</td>\n",
       "      <td>0</td>\n",
       "    </tr>\n",
       "    <tr>\n",
       "      <th>2</th>\n",
       "      <td>20.82</td>\n",
       "      <td>25.18</td>\n",
       "      <td>3.98</td>\n",
       "      <td>24.61</td>\n",
       "      <td>60</td>\n",
       "      <td>1.044</td>\n",
       "      <td>75.0</td>\n",
       "      <td>0</td>\n",
       "      <td>1</td>\n",
       "      <td>1</td>\n",
       "      <td>0</td>\n",
       "      <td>0</td>\n",
       "      <td>0</td>\n",
       "    </tr>\n",
       "    <tr>\n",
       "      <th>3</th>\n",
       "      <td>18.93</td>\n",
       "      <td>91.60</td>\n",
       "      <td>11.74</td>\n",
       "      <td>28.39</td>\n",
       "      <td>60</td>\n",
       "      <td>1.054</td>\n",
       "      <td>70.0</td>\n",
       "      <td>0</td>\n",
       "      <td>1</td>\n",
       "      <td>1</td>\n",
       "      <td>0</td>\n",
       "      <td>0</td>\n",
       "      <td>0</td>\n",
       "    </tr>\n",
       "    <tr>\n",
       "      <th>4</th>\n",
       "      <td>18.93</td>\n",
       "      <td>22.81</td>\n",
       "      <td>3.08</td>\n",
       "      <td>26.50</td>\n",
       "      <td>60</td>\n",
       "      <td>1.027</td>\n",
       "      <td>67.0</td>\n",
       "      <td>0</td>\n",
       "      <td>1</td>\n",
       "      <td>1</td>\n",
       "      <td>0</td>\n",
       "      <td>0</td>\n",
       "      <td>0</td>\n",
       "    </tr>\n",
       "  </tbody>\n",
       "</table>\n",
       "</div>"
      ],
      "text/plain": [
       "   Size_L    IBU  Color  BoilSize  BoilTime  BoilGravity  Efficiency  \\\n",
       "0   20.82  41.30  50.00     28.39        60        1.064        65.0   \n",
       "1   25.00  35.36  13.28     30.00        60        1.050        65.0   \n",
       "2   20.82  25.18   3.98     24.61        60        1.044        75.0   \n",
       "3   18.93  91.60  11.74     28.39        60        1.054        70.0   \n",
       "4   18.93  22.81   3.08     26.50        60        1.027        67.0   \n",
       "\n",
       "   SugarScale_Plato  SugarScale_Specific Gravity  BrewMethod_All Grain  \\\n",
       "0                 0                            1                     1   \n",
       "1                 0                            1                     1   \n",
       "2                 0                            1                     1   \n",
       "3                 0                            1                     1   \n",
       "4                 0                            1                     1   \n",
       "\n",
       "   BrewMethod_BIAB  BrewMethod_Partial Mash  BrewMethod_extract  \n",
       "0                0                        0                   0  \n",
       "1                0                        0                   0  \n",
       "2                0                        0                   0  \n",
       "3                0                        0                   0  \n",
       "4                0                        0                   0  "
      ]
     },
     "execution_count": 77,
     "metadata": {},
     "output_type": "execute_result"
    }
   ],
   "source": [
    "#tengo que subir la parte de test y llegar a la \"misma forma\" que tiene el dataset final con el que entrene los modelos\n",
    "print(X_1.shape) \n",
    "X_1.head()"
   ]
  },
  {
   "cell_type": "code",
   "execution_count": 113,
   "metadata": {},
   "outputs": [
    {
     "name": "stdout",
     "output_type": "stream",
     "text": [
      "(18466, 20)\n",
      "(18466, 15)\n",
      "(18466, 13)\n"
     ]
    }
   ],
   "source": [
    "#cargo el dataset de testing para predecir sobre este cuando esten entrenados los modelos\n",
    "df_test = pd.read_csv('base_test_ABV.csv')\n",
    "print(df_test.shape)\n",
    "\n",
    "#aplico las mismas transformaciones\n",
    "\n",
    "#genero dummies\n",
    "df_test_dummy1 = pd.get_dummies(df_test['SugarScale'], prefix= 'SugarScale')\n",
    "df_test = pd.concat([df_test, df_test_dummy1], axis=1)\n",
    "\n",
    "df_test_dummy2 = pd.get_dummies(df_test['BrewMethod'], prefix= 'BrewMethod')\n",
    "df_test = pd.concat([df_test, df_test_dummy2], axis=1)\n",
    "\n",
    "#borro variables\n",
    "df_test=df_test.drop(['SugarScale','BrewMethod','PrimingMethod','PrimingAmount','Name',\n",
    "                      'URL','MashThickness', 'PitchRate', 'PrimaryTemp','Style','StyleID'], axis=1)\n",
    "\n",
    "#imputo nulos\n",
    "df_test['BoilGravity'] = df_test['BoilGravity'].fillna(1.3568484871307092) #estoy usndo la media de train\n",
    "print(df_test.shape)\n",
    "\n",
    "#\"aparto\" el BeerId, no lo tengo que usar para el predict porque no lo use en train, pero lo guardo para identificar las cervezas\n",
    "Id = df_test['BeerID']\n",
    "X_test = df_test.drop(['BeerID','ABV'], axis=1)\n",
    "y_test = df_test['ABV'] #son los valores reales de ABV en base test\n",
    "\n",
    "print(X_test.shape) #ok, finalmente tengo las 13 con las que entrene"
   ]
  },
  {
   "cell_type": "code",
   "execution_count": 84,
   "metadata": {},
   "outputs": [
    {
     "data": {
      "text/html": [
       "<div>\n",
       "<style scoped>\n",
       "    .dataframe tbody tr th:only-of-type {\n",
       "        vertical-align: middle;\n",
       "    }\n",
       "\n",
       "    .dataframe tbody tr th {\n",
       "        vertical-align: top;\n",
       "    }\n",
       "\n",
       "    .dataframe thead th {\n",
       "        text-align: right;\n",
       "    }\n",
       "</style>\n",
       "<table border=\"1\" class=\"dataframe\">\n",
       "  <thead>\n",
       "    <tr style=\"text-align: right;\">\n",
       "      <th></th>\n",
       "      <th>Size_L</th>\n",
       "      <th>IBU</th>\n",
       "      <th>Color</th>\n",
       "      <th>BoilSize</th>\n",
       "      <th>BoilTime</th>\n",
       "      <th>BoilGravity</th>\n",
       "      <th>Efficiency</th>\n",
       "      <th>SugarScale_Plato</th>\n",
       "      <th>SugarScale_Specific Gravity</th>\n",
       "      <th>BrewMethod_All Grain</th>\n",
       "      <th>BrewMethod_BIAB</th>\n",
       "      <th>BrewMethod_Partial Mash</th>\n",
       "      <th>BrewMethod_extract</th>\n",
       "    </tr>\n",
       "  </thead>\n",
       "  <tbody>\n",
       "    <tr>\n",
       "      <th>0</th>\n",
       "      <td>18.93</td>\n",
       "      <td>31.01</td>\n",
       "      <td>6.01</td>\n",
       "      <td>13.25</td>\n",
       "      <td>50</td>\n",
       "      <td>1.055</td>\n",
       "      <td>35.0</td>\n",
       "      <td>0</td>\n",
       "      <td>1</td>\n",
       "      <td>0</td>\n",
       "      <td>0</td>\n",
       "      <td>0</td>\n",
       "      <td>1</td>\n",
       "    </tr>\n",
       "    <tr>\n",
       "      <th>1</th>\n",
       "      <td>18.93</td>\n",
       "      <td>44.28</td>\n",
       "      <td>4.83</td>\n",
       "      <td>24.61</td>\n",
       "      <td>60</td>\n",
       "      <td>1.040</td>\n",
       "      <td>70.0</td>\n",
       "      <td>0</td>\n",
       "      <td>1</td>\n",
       "      <td>0</td>\n",
       "      <td>1</td>\n",
       "      <td>0</td>\n",
       "      <td>0</td>\n",
       "    </tr>\n",
       "    <tr>\n",
       "      <th>2</th>\n",
       "      <td>22.71</td>\n",
       "      <td>60.95</td>\n",
       "      <td>7.22</td>\n",
       "      <td>30.28</td>\n",
       "      <td>70</td>\n",
       "      <td>1.048</td>\n",
       "      <td>75.0</td>\n",
       "      <td>0</td>\n",
       "      <td>1</td>\n",
       "      <td>1</td>\n",
       "      <td>0</td>\n",
       "      <td>0</td>\n",
       "      <td>0</td>\n",
       "    </tr>\n",
       "    <tr>\n",
       "      <th>3</th>\n",
       "      <td>24.00</td>\n",
       "      <td>20.84</td>\n",
       "      <td>11.86</td>\n",
       "      <td>28.50</td>\n",
       "      <td>60</td>\n",
       "      <td>1.046</td>\n",
       "      <td>80.0</td>\n",
       "      <td>0</td>\n",
       "      <td>1</td>\n",
       "      <td>1</td>\n",
       "      <td>0</td>\n",
       "      <td>0</td>\n",
       "      <td>0</td>\n",
       "    </tr>\n",
       "    <tr>\n",
       "      <th>4</th>\n",
       "      <td>11.36</td>\n",
       "      <td>34.97</td>\n",
       "      <td>7.89</td>\n",
       "      <td>7.57</td>\n",
       "      <td>60</td>\n",
       "      <td>1.090</td>\n",
       "      <td>35.0</td>\n",
       "      <td>0</td>\n",
       "      <td>1</td>\n",
       "      <td>0</td>\n",
       "      <td>0</td>\n",
       "      <td>0</td>\n",
       "      <td>1</td>\n",
       "    </tr>\n",
       "  </tbody>\n",
       "</table>\n",
       "</div>"
      ],
      "text/plain": [
       "   Size_L    IBU  Color  BoilSize  BoilTime  BoilGravity  Efficiency  \\\n",
       "0   18.93  31.01   6.01     13.25        50        1.055        35.0   \n",
       "1   18.93  44.28   4.83     24.61        60        1.040        70.0   \n",
       "2   22.71  60.95   7.22     30.28        70        1.048        75.0   \n",
       "3   24.00  20.84  11.86     28.50        60        1.046        80.0   \n",
       "4   11.36  34.97   7.89      7.57        60        1.090        35.0   \n",
       "\n",
       "   SugarScale_Plato  SugarScale_Specific Gravity  BrewMethod_All Grain  \\\n",
       "0                 0                            1                     0   \n",
       "1                 0                            1                     0   \n",
       "2                 0                            1                     1   \n",
       "3                 0                            1                     1   \n",
       "4                 0                            1                     0   \n",
       "\n",
       "   BrewMethod_BIAB  BrewMethod_Partial Mash  BrewMethod_extract  \n",
       "0                0                        0                   1  \n",
       "1                1                        0                   0  \n",
       "2                0                        0                   0  \n",
       "3                0                        0                   0  \n",
       "4                0                        0                   1  "
      ]
     },
     "execution_count": 84,
     "metadata": {},
     "output_type": "execute_result"
    }
   ],
   "source": [
    "X_test.head()"
   ]
  },
  {
   "cell_type": "code",
   "execution_count": null,
   "metadata": {},
   "outputs": [],
   "source": []
  },
  {
   "cell_type": "code",
   "execution_count": null,
   "metadata": {},
   "outputs": [],
   "source": []
  },
  {
   "cell_type": "code",
   "execution_count": 85,
   "metadata": {},
   "outputs": [
    {
     "data": {
      "text/plain": [
       "LinearRegression(fit_intercept=False)"
      ]
     },
     "execution_count": 85,
     "metadata": {},
     "output_type": "execute_result"
    }
   ],
   "source": [
    "# entreno la mejor regresion lineal segun GridSearch\n",
    "reg_lin = LinearRegression(fit_intercept = False)\n",
    "reg_lin.fit(X_1,y_1) #ENTRENO con base TRAIN"
   ]
  },
  {
   "cell_type": "code",
   "execution_count": 87,
   "metadata": {},
   "outputs": [
    {
     "data": {
      "text/html": [
       "<div>\n",
       "<style scoped>\n",
       "    .dataframe tbody tr th:only-of-type {\n",
       "        vertical-align: middle;\n",
       "    }\n",
       "\n",
       "    .dataframe tbody tr th {\n",
       "        vertical-align: top;\n",
       "    }\n",
       "\n",
       "    .dataframe thead th {\n",
       "        text-align: right;\n",
       "    }\n",
       "</style>\n",
       "<table border=\"1\" class=\"dataframe\">\n",
       "  <thead>\n",
       "    <tr style=\"text-align: right;\">\n",
       "      <th></th>\n",
       "      <th>0</th>\n",
       "    </tr>\n",
       "  </thead>\n",
       "  <tbody>\n",
       "    <tr>\n",
       "      <th>0</th>\n",
       "      <td>5.488147</td>\n",
       "    </tr>\n",
       "    <tr>\n",
       "      <th>1</th>\n",
       "      <td>5.662273</td>\n",
       "    </tr>\n",
       "    <tr>\n",
       "      <th>2</th>\n",
       "      <td>6.238005</td>\n",
       "    </tr>\n",
       "  </tbody>\n",
       "</table>\n",
       "</div>"
      ],
      "text/plain": [
       "          0\n",
       "0  5.488147\n",
       "1  5.662273\n",
       "2  6.238005"
      ]
     },
     "execution_count": 87,
     "metadata": {},
     "output_type": "execute_result"
    }
   ],
   "source": [
    "#genero predicciones\n",
    "pred_reg_lin=pd.DataFrame(reg_lin.predict(X_test))\n",
    "pred_reg_lin.head(3)"
   ]
  },
  {
   "cell_type": "code",
   "execution_count": 147,
   "metadata": {},
   "outputs": [],
   "source": []
  },
  {
   "cell_type": "code",
   "execution_count": 89,
   "metadata": {},
   "outputs": [
    {
     "data": {
      "text/html": [
       "<div>\n",
       "<style scoped>\n",
       "    .dataframe tbody tr th:only-of-type {\n",
       "        vertical-align: middle;\n",
       "    }\n",
       "\n",
       "    .dataframe tbody tr th {\n",
       "        vertical-align: top;\n",
       "    }\n",
       "\n",
       "    .dataframe thead th {\n",
       "        text-align: right;\n",
       "    }\n",
       "</style>\n",
       "<table border=\"1\" class=\"dataframe\">\n",
       "  <thead>\n",
       "    <tr style=\"text-align: right;\">\n",
       "      <th></th>\n",
       "      <th>0</th>\n",
       "    </tr>\n",
       "  </thead>\n",
       "  <tbody>\n",
       "    <tr>\n",
       "      <th>0</th>\n",
       "      <td>4.704444</td>\n",
       "    </tr>\n",
       "    <tr>\n",
       "      <th>1</th>\n",
       "      <td>5.299118</td>\n",
       "    </tr>\n",
       "    <tr>\n",
       "      <th>2</th>\n",
       "      <td>6.194706</td>\n",
       "    </tr>\n",
       "  </tbody>\n",
       "</table>\n",
       "</div>"
      ],
      "text/plain": [
       "          0\n",
       "0  4.704444\n",
       "1  5.299118\n",
       "2  6.194706"
      ]
     },
     "execution_count": 89,
     "metadata": {},
     "output_type": "execute_result"
    }
   ],
   "source": [
    "# entreno el mejor arbol segun GridSearch\n",
    "d_tree = DecisionTreeRegressor(max_depth=20, min_samples_split=20, random_state=0)\n",
    "d_tree.fit(X_1,y_1) #ENTRENO con base TRAIN\n",
    "#genero predicciones\n",
    "pred_d_tree=pd.DataFrame(d_tree.predict(X_test))\n",
    "pred_d_tree.head(3)"
   ]
  },
  {
   "cell_type": "code",
   "execution_count": null,
   "metadata": {},
   "outputs": [],
   "source": []
  },
  {
   "cell_type": "code",
   "execution_count": 91,
   "metadata": {},
   "outputs": [
    {
     "data": {
      "text/html": [
       "<div>\n",
       "<style scoped>\n",
       "    .dataframe tbody tr th:only-of-type {\n",
       "        vertical-align: middle;\n",
       "    }\n",
       "\n",
       "    .dataframe tbody tr th {\n",
       "        vertical-align: top;\n",
       "    }\n",
       "\n",
       "    .dataframe thead th {\n",
       "        text-align: right;\n",
       "    }\n",
       "</style>\n",
       "<table border=\"1\" class=\"dataframe\">\n",
       "  <thead>\n",
       "    <tr style=\"text-align: right;\">\n",
       "      <th></th>\n",
       "      <th>0</th>\n",
       "    </tr>\n",
       "  </thead>\n",
       "  <tbody>\n",
       "    <tr>\n",
       "      <th>0</th>\n",
       "      <td>4.993469</td>\n",
       "    </tr>\n",
       "    <tr>\n",
       "      <th>1</th>\n",
       "      <td>5.321742</td>\n",
       "    </tr>\n",
       "    <tr>\n",
       "      <th>2</th>\n",
       "      <td>6.294385</td>\n",
       "    </tr>\n",
       "  </tbody>\n",
       "</table>\n",
       "</div>"
      ],
      "text/plain": [
       "          0\n",
       "0  4.993469\n",
       "1  5.321742\n",
       "2  6.294385"
      ]
     },
     "execution_count": 91,
     "metadata": {},
     "output_type": "execute_result"
    }
   ],
   "source": [
    "#entreno el mejor modelo --> modelo final rf {'max_depth': 20, 'max_features': 1.0, 'n_estimators': 500}\n",
    "rfc = RandomForestRegressor(max_depth=20, max_features=1.0, n_estimators=500,\n",
    "                      random_state=0)\n",
    "rfc.fit(X_1,y_1)\n",
    "#genero predicciones\n",
    "pred_rfc=pd.DataFrame(rfc.predict(X_test))\n",
    "pred_rfc.head(3)"
   ]
  },
  {
   "cell_type": "code",
   "execution_count": 92,
   "metadata": {},
   "outputs": [
    {
     "data": {
      "text/html": [
       "<div>\n",
       "<style scoped>\n",
       "    .dataframe tbody tr th:only-of-type {\n",
       "        vertical-align: middle;\n",
       "    }\n",
       "\n",
       "    .dataframe tbody tr th {\n",
       "        vertical-align: top;\n",
       "    }\n",
       "\n",
       "    .dataframe thead th {\n",
       "        text-align: right;\n",
       "    }\n",
       "</style>\n",
       "<table border=\"1\" class=\"dataframe\">\n",
       "  <thead>\n",
       "    <tr style=\"text-align: right;\">\n",
       "      <th></th>\n",
       "      <th>BeerID</th>\n",
       "      <th>pred_reg_lin</th>\n",
       "      <th>pred_d_tree</th>\n",
       "      <th>pred_rfc</th>\n",
       "    </tr>\n",
       "  </thead>\n",
       "  <tbody>\n",
       "    <tr>\n",
       "      <th>0</th>\n",
       "      <td>47061</td>\n",
       "      <td>5.488147</td>\n",
       "      <td>4.704444</td>\n",
       "      <td>4.993469</td>\n",
       "    </tr>\n",
       "    <tr>\n",
       "      <th>1</th>\n",
       "      <td>26902</td>\n",
       "      <td>5.662273</td>\n",
       "      <td>5.299118</td>\n",
       "      <td>5.321742</td>\n",
       "    </tr>\n",
       "    <tr>\n",
       "      <th>2</th>\n",
       "      <td>1166</td>\n",
       "      <td>6.238005</td>\n",
       "      <td>6.194706</td>\n",
       "      <td>6.294385</td>\n",
       "    </tr>\n",
       "    <tr>\n",
       "      <th>3</th>\n",
       "      <td>70996</td>\n",
       "      <td>5.900856</td>\n",
       "      <td>5.312857</td>\n",
       "      <td>5.490364</td>\n",
       "    </tr>\n",
       "    <tr>\n",
       "      <th>4</th>\n",
       "      <td>6657</td>\n",
       "      <td>5.728035</td>\n",
       "      <td>5.853000</td>\n",
       "      <td>5.954575</td>\n",
       "    </tr>\n",
       "  </tbody>\n",
       "</table>\n",
       "</div>"
      ],
      "text/plain": [
       "   BeerID  pred_reg_lin  pred_d_tree  pred_rfc\n",
       "0   47061      5.488147     4.704444  4.993469\n",
       "1   26902      5.662273     5.299118  5.321742\n",
       "2    1166      6.238005     6.194706  6.294385\n",
       "3   70996      5.900856     5.312857  5.490364\n",
       "4    6657      5.728035     5.853000  5.954575"
      ]
     },
     "execution_count": 92,
     "metadata": {},
     "output_type": "execute_result"
    }
   ],
   "source": [
    "predicciones_grupo0_1 = pd.concat([Id,pred_reg_lin,pred_d_tree,pred_rfc], axis=1)\n",
    "predicciones_grupo0_1.columns = ['BeerID','pred_reg_lin','pred_d_tree','pred_rfc']\n",
    "predicciones_grupo0_1.head()"
   ]
  },
  {
   "cell_type": "code",
   "execution_count": 118,
   "metadata": {},
   "outputs": [
    {
     "data": {
      "text/html": [
       "<div>\n",
       "<style scoped>\n",
       "    .dataframe tbody tr th:only-of-type {\n",
       "        vertical-align: middle;\n",
       "    }\n",
       "\n",
       "    .dataframe tbody tr th {\n",
       "        vertical-align: top;\n",
       "    }\n",
       "\n",
       "    .dataframe thead th {\n",
       "        text-align: right;\n",
       "    }\n",
       "</style>\n",
       "<table border=\"1\" class=\"dataframe\">\n",
       "  <thead>\n",
       "    <tr style=\"text-align: right;\">\n",
       "      <th></th>\n",
       "      <th>BeerID</th>\n",
       "      <th>pred_reg_lin</th>\n",
       "      <th>pred_d_tree</th>\n",
       "      <th>pred_rfc</th>\n",
       "      <th>ensamble_mean</th>\n",
       "    </tr>\n",
       "  </thead>\n",
       "  <tbody>\n",
       "    <tr>\n",
       "      <th>0</th>\n",
       "      <td>47061</td>\n",
       "      <td>5.488147</td>\n",
       "      <td>4.704444</td>\n",
       "      <td>4.993469</td>\n",
       "      <td>5.096296</td>\n",
       "    </tr>\n",
       "    <tr>\n",
       "      <th>1</th>\n",
       "      <td>26902</td>\n",
       "      <td>5.662273</td>\n",
       "      <td>5.299118</td>\n",
       "      <td>5.321742</td>\n",
       "      <td>5.480695</td>\n",
       "    </tr>\n",
       "    <tr>\n",
       "      <th>2</th>\n",
       "      <td>1166</td>\n",
       "      <td>6.238005</td>\n",
       "      <td>6.194706</td>\n",
       "      <td>6.294385</td>\n",
       "      <td>6.216355</td>\n",
       "    </tr>\n",
       "    <tr>\n",
       "      <th>3</th>\n",
       "      <td>70996</td>\n",
       "      <td>5.900856</td>\n",
       "      <td>5.312857</td>\n",
       "      <td>5.490364</td>\n",
       "      <td>5.606857</td>\n",
       "    </tr>\n",
       "    <tr>\n",
       "      <th>4</th>\n",
       "      <td>6657</td>\n",
       "      <td>5.728035</td>\n",
       "      <td>5.853000</td>\n",
       "      <td>5.954575</td>\n",
       "      <td>5.790518</td>\n",
       "    </tr>\n",
       "  </tbody>\n",
       "</table>\n",
       "</div>"
      ],
      "text/plain": [
       "   BeerID  pred_reg_lin  pred_d_tree  pred_rfc  ensamble_mean\n",
       "0   47061      5.488147     4.704444  4.993469       5.096296\n",
       "1   26902      5.662273     5.299118  5.321742       5.480695\n",
       "2    1166      6.238005     6.194706  6.294385       6.216355\n",
       "3   70996      5.900856     5.312857  5.490364       5.606857\n",
       "4    6657      5.728035     5.853000  5.954575       5.790518"
      ]
     },
     "execution_count": 118,
     "metadata": {},
     "output_type": "execute_result"
    }
   ],
   "source": [
    "#genero ensamble heterogeneo con reg y dt al calcular el promedio de las predicciones. (no incluyo las de rfc porque ese\n",
    "# ya es un ensamble en si mismo)\n",
    "predicciones_grupo0_1['ensamble_mean'] = predicciones_grupo0_1.loc[:,['pred_reg_lin','pred_d_tree']].mean(axis=1)\n",
    "predicciones_grupo0_1.head()"
   ]
  },
  {
   "cell_type": "code",
   "execution_count": 119,
   "metadata": {},
   "outputs": [
    {
     "data": {
      "text/plain": [
       "{'rmse_reg_lin': 1.7170231698739171,\n",
       " 'rmse_d_tree': 1.1813401497113911,\n",
       " 'rmse_rfc': 0.9930491686519425,\n",
       " 'rmse_ensamble_mean': 1.2652624748931964}"
      ]
     },
     "execution_count": 119,
     "metadata": {},
     "output_type": "execute_result"
    }
   ],
   "source": [
    "# calculo metricas para cada modelo\n",
    "from sklearn.metrics import mean_squared_error\n",
    "\n",
    "mse_reg_lin = mean_squared_error(predicciones_grupo0_1['pred_reg_lin'], y_test)\n",
    "rmse_reg_lin= np.sqrt(mse_reg_lin)\n",
    "\n",
    "mse_d_tree = mean_squared_error(predicciones_grupo0_1['pred_d_tree'], y_test)\n",
    "rmse_d_tree= np.sqrt(mse_d_tree)\n",
    "\n",
    "mse_rfc = mean_squared_error(predicciones_grupo0_1['pred_rfc'], y_test)\n",
    "rmse_rfc= np.sqrt(mse_rfc)\n",
    "\n",
    "mse_ensamble_mean = mean_squared_error(predicciones_grupo0_1['ensamble_mean'], y_test)\n",
    "rmse_ensamble_mean= np.sqrt(mse_ensamble_mean)\n",
    "\n",
    "metricas = {\n",
    "  \"rmse_reg_lin\": rmse_reg_lin,\n",
    "  \"rmse_d_tree\": rmse_d_tree,\n",
    "  \"rmse_rfc\": rmse_rfc,\n",
    "  \"rmse_ensamble_mean\": rmse_ensamble_mean\n",
    "}\n",
    "metricas"
   ]
  },
  {
   "cell_type": "code",
   "execution_count": 130,
   "metadata": {},
   "outputs": [
    {
     "data": {
      "text/plain": [
       "{'rmse en TRAIN': 0.9473589101132592, 'rmse en TEST': 0.9930491686519425}"
      ]
     },
     "execution_count": 130,
     "metadata": {},
     "output_type": "execute_result"
    }
   ],
   "source": [
    "#El mejor es rfc. Metricas obtenidas por este modelo\n",
    "metricas_rfc = {\n",
    "  \"rmse en TRAIN\": np.sqrt(-grid_search_rf.best_score_),\n",
    "  \"rmse en TEST\": rmse_rfc}\n",
    "metricas_rfc\n"
   ]
  },
  {
   "cell_type": "code",
   "execution_count": 120,
   "metadata": {},
   "outputs": [],
   "source": [
    "#Guardo csv con todas las predicciones\n",
    "predicciones_grupo0_1.to_csv('predicciones_grupo0_1.csv', index=False)"
   ]
  },
  {
   "cell_type": "markdown",
   "metadata": {},
   "source": [
    "### Veo la importancia de las variables del mejor modelo"
   ]
  },
  {
   "cell_type": "code",
   "execution_count": 128,
   "metadata": {},
   "outputs": [
    {
     "data": {
      "text/html": [
       "<div>\n",
       "<style scoped>\n",
       "    .dataframe tbody tr th:only-of-type {\n",
       "        vertical-align: middle;\n",
       "    }\n",
       "\n",
       "    .dataframe tbody tr th {\n",
       "        vertical-align: top;\n",
       "    }\n",
       "\n",
       "    .dataframe thead th {\n",
       "        text-align: right;\n",
       "    }\n",
       "</style>\n",
       "<table border=\"1\" class=\"dataframe\">\n",
       "  <thead>\n",
       "    <tr style=\"text-align: right;\">\n",
       "      <th></th>\n",
       "      <th>variable</th>\n",
       "      <th>importancia</th>\n",
       "    </tr>\n",
       "  </thead>\n",
       "  <tbody>\n",
       "    <tr>\n",
       "      <th>5</th>\n",
       "      <td>BoilGravity</td>\n",
       "      <td>0.485139</td>\n",
       "    </tr>\n",
       "    <tr>\n",
       "      <th>3</th>\n",
       "      <td>BoilSize</td>\n",
       "      <td>0.106594</td>\n",
       "    </tr>\n",
       "    <tr>\n",
       "      <th>2</th>\n",
       "      <td>Color</td>\n",
       "      <td>0.104066</td>\n",
       "    </tr>\n",
       "    <tr>\n",
       "      <th>0</th>\n",
       "      <td>Size_L</td>\n",
       "      <td>0.098971</td>\n",
       "    </tr>\n",
       "    <tr>\n",
       "      <th>1</th>\n",
       "      <td>IBU</td>\n",
       "      <td>0.097825</td>\n",
       "    </tr>\n",
       "    <tr>\n",
       "      <th>4</th>\n",
       "      <td>BoilTime</td>\n",
       "      <td>0.027409</td>\n",
       "    </tr>\n",
       "    <tr>\n",
       "      <th>8</th>\n",
       "      <td>SugarScale_Specific Gravity</td>\n",
       "      <td>0.024215</td>\n",
       "    </tr>\n",
       "    <tr>\n",
       "      <th>6</th>\n",
       "      <td>Efficiency</td>\n",
       "      <td>0.022697</td>\n",
       "    </tr>\n",
       "    <tr>\n",
       "      <th>7</th>\n",
       "      <td>SugarScale_Plato</td>\n",
       "      <td>0.018959</td>\n",
       "    </tr>\n",
       "    <tr>\n",
       "      <th>12</th>\n",
       "      <td>BrewMethod_extract</td>\n",
       "      <td>0.004966</td>\n",
       "    </tr>\n",
       "    <tr>\n",
       "      <th>9</th>\n",
       "      <td>BrewMethod_All Grain</td>\n",
       "      <td>0.003425</td>\n",
       "    </tr>\n",
       "    <tr>\n",
       "      <th>11</th>\n",
       "      <td>BrewMethod_Partial Mash</td>\n",
       "      <td>0.003370</td>\n",
       "    </tr>\n",
       "    <tr>\n",
       "      <th>10</th>\n",
       "      <td>BrewMethod_BIAB</td>\n",
       "      <td>0.002362</td>\n",
       "    </tr>\n",
       "  </tbody>\n",
       "</table>\n",
       "</div>"
      ],
      "text/plain": [
       "                       variable  importancia\n",
       "5                   BoilGravity     0.485139\n",
       "3                      BoilSize     0.106594\n",
       "2                         Color     0.104066\n",
       "0                        Size_L     0.098971\n",
       "1                           IBU     0.097825\n",
       "4                      BoilTime     0.027409\n",
       "8   SugarScale_Specific Gravity     0.024215\n",
       "6                    Efficiency     0.022697\n",
       "7              SugarScale_Plato     0.018959\n",
       "12           BrewMethod_extract     0.004966\n",
       "9          BrewMethod_All Grain     0.003425\n",
       "11      BrewMethod_Partial Mash     0.003370\n",
       "10              BrewMethod_BIAB     0.002362"
      ]
     },
     "execution_count": 128,
     "metadata": {},
     "output_type": "execute_result"
    }
   ],
   "source": [
    "importances = rfc.feature_importances_ \n",
    "var_importance = pd.DataFrame({'variable' : list(X_1.columns),\n",
    "                       'importancia' : list(importances)})\n",
    "var_importance = var_importance.sort_values(['importancia'],ascending=False)\n",
    "var_importance"
   ]
  },
  {
   "cell_type": "code",
   "execution_count": null,
   "metadata": {},
   "outputs": [],
   "source": []
  },
  {
   "cell_type": "code",
   "execution_count": 132,
   "metadata": {},
   "outputs": [],
   "source": []
  },
  {
   "cell_type": "code",
   "execution_count": null,
   "metadata": {},
   "outputs": [],
   "source": []
  },
  {
   "cell_type": "markdown",
   "metadata": {},
   "source": [
    "## Pruebo ahora sin trabajando las variables categoricas que en principio elimine: 'PrimingMethod','PrimingAmount','Style'"
   ]
  },
  {
   "cell_type": "code",
   "execution_count": 131,
   "metadata": {},
   "outputs": [],
   "source": [
    "#las tengo en df 'PrimingMethod','PrimingAmount','Style'"
   ]
  },
  {
   "cell_type": "code",
   "execution_count": 149,
   "metadata": {},
   "outputs": [
    {
     "name": "stdout",
     "output_type": "stream",
     "text": [
      "Corn Sugar    553\n",
      "Dextrose      376\n",
      "corn sugar    274\n",
      "Keg           240\n",
      "Sukkerlake    231\n",
      "Name: PrimingMethod, dtype: int64\n"
     ]
    },
    {
     "data": {
      "text/plain": [
       "otra          53721\n",
       "Corn Sugar      553\n",
       "Dextrose        376\n",
       "corn sugar      274\n",
       "Keg             240\n",
       "Sukkerlake      231\n",
       "Name: PrimingMethod_6cat, dtype: int64"
      ]
     },
     "execution_count": 149,
     "metadata": {},
     "output_type": "execute_result"
    }
   ],
   "source": [
    "#1 y 3)para PrimingMethod y Style decido quedarme con las 5 categorias mas pobladas, generar 6 dimmies (una 6ta con cat=\"otros\")\n",
    "\n",
    "print(df['PrimingMethod'].value_counts().head())\n",
    "df['PrimingMethod_6cat'] = np.where((df['PrimingMethod']=='Corn Sugar')|(df['PrimingMethod']=='Dextrose')|(df['PrimingMethod']=='corn sugar')|(df['PrimingMethod']=='Keg')|(df['PrimingMethod']=='Sukkerlake'),df['PrimingMethod'],'otra')\n",
    "df['PrimingMethod_6cat'].value_counts()"
   ]
  },
  {
   "cell_type": "code",
   "execution_count": 151,
   "metadata": {},
   "outputs": [
    {
     "name": "stdout",
     "output_type": "stream",
     "text": [
      "American IPA            8986\n",
      "American Pale Ale       5737\n",
      "Saison                  1995\n",
      "American Light Lager    1653\n",
      "American Amber Ale      1532\n",
      "Name: Style, dtype: int64\n"
     ]
    },
    {
     "data": {
      "text/plain": [
       "otra                    35492\n",
       "American IPA             8986\n",
       "American Pale Ale        5737\n",
       "Saison                   1995\n",
       "American Light Lager     1653\n",
       "American Amber Ale       1532\n",
       "Name: Style_6cat, dtype: int64"
      ]
     },
     "execution_count": 151,
     "metadata": {},
     "output_type": "execute_result"
    }
   ],
   "source": [
    "#hago lo mismo para Style\n",
    "print(df['Style'].value_counts().head())\n",
    "df['Style_6cat'] = np.where((df['Style']=='American IPA')|(df['Style']=='American Pale Ale')|(df['Style']=='Saison')|(df['Style']=='American Light Lager')|(df['Style']=='American Amber Ale'),df['Style'],'otra')\n",
    "df['Style_6cat'].value_counts()"
   ]
  },
  {
   "cell_type": "code",
   "execution_count": 156,
   "metadata": {},
   "outputs": [
    {
     "name": "stdout",
     "output_type": "stream",
     "text": [
      "(55395, 15)\n",
      "(55395, 21)\n",
      "(55395, 27)\n"
     ]
    },
    {
     "data": {
      "text/html": [
       "<div>\n",
       "<style scoped>\n",
       "    .dataframe tbody tr th:only-of-type {\n",
       "        vertical-align: middle;\n",
       "    }\n",
       "\n",
       "    .dataframe tbody tr th {\n",
       "        vertical-align: top;\n",
       "    }\n",
       "\n",
       "    .dataframe thead th {\n",
       "        text-align: right;\n",
       "    }\n",
       "</style>\n",
       "<table border=\"1\" class=\"dataframe\">\n",
       "  <thead>\n",
       "    <tr style=\"text-align: right;\">\n",
       "      <th></th>\n",
       "      <th>BeerID</th>\n",
       "      <th>Size_L</th>\n",
       "      <th>ABV</th>\n",
       "      <th>IBU</th>\n",
       "      <th>Color</th>\n",
       "      <th>BoilSize</th>\n",
       "      <th>BoilTime</th>\n",
       "      <th>BoilGravity</th>\n",
       "      <th>Efficiency</th>\n",
       "      <th>SugarScale_Plato</th>\n",
       "      <th>...</th>\n",
       "      <th>Style_American Light Lager</th>\n",
       "      <th>Style_American Pale Ale</th>\n",
       "      <th>Style_Saison</th>\n",
       "      <th>Style_otra</th>\n",
       "      <th>PrimingMethod_Corn Sugar</th>\n",
       "      <th>PrimingMethod_Dextrose</th>\n",
       "      <th>PrimingMethod_Keg</th>\n",
       "      <th>PrimingMethod_Sukkerlake</th>\n",
       "      <th>PrimingMethod_corn sugar</th>\n",
       "      <th>PrimingMethod_otra</th>\n",
       "    </tr>\n",
       "  </thead>\n",
       "  <tbody>\n",
       "    <tr>\n",
       "      <th>0</th>\n",
       "      <td>69825</td>\n",
       "      <td>20.82</td>\n",
       "      <td>8.27</td>\n",
       "      <td>41.30</td>\n",
       "      <td>50.00</td>\n",
       "      <td>28.39</td>\n",
       "      <td>60</td>\n",
       "      <td>1.064</td>\n",
       "      <td>65.0</td>\n",
       "      <td>0</td>\n",
       "      <td>...</td>\n",
       "      <td>0</td>\n",
       "      <td>0</td>\n",
       "      <td>0</td>\n",
       "      <td>1</td>\n",
       "      <td>0</td>\n",
       "      <td>0</td>\n",
       "      <td>0</td>\n",
       "      <td>0</td>\n",
       "      <td>0</td>\n",
       "      <td>1</td>\n",
       "    </tr>\n",
       "    <tr>\n",
       "      <th>1</th>\n",
       "      <td>44320</td>\n",
       "      <td>25.00</td>\n",
       "      <td>5.64</td>\n",
       "      <td>35.36</td>\n",
       "      <td>13.28</td>\n",
       "      <td>30.00</td>\n",
       "      <td>60</td>\n",
       "      <td>1.050</td>\n",
       "      <td>65.0</td>\n",
       "      <td>0</td>\n",
       "      <td>...</td>\n",
       "      <td>0</td>\n",
       "      <td>0</td>\n",
       "      <td>0</td>\n",
       "      <td>1</td>\n",
       "      <td>0</td>\n",
       "      <td>0</td>\n",
       "      <td>0</td>\n",
       "      <td>0</td>\n",
       "      <td>0</td>\n",
       "      <td>1</td>\n",
       "    </tr>\n",
       "    <tr>\n",
       "      <th>2</th>\n",
       "      <td>55927</td>\n",
       "      <td>20.82</td>\n",
       "      <td>5.33</td>\n",
       "      <td>25.18</td>\n",
       "      <td>3.98</td>\n",
       "      <td>24.61</td>\n",
       "      <td>60</td>\n",
       "      <td>1.044</td>\n",
       "      <td>75.0</td>\n",
       "      <td>0</td>\n",
       "      <td>...</td>\n",
       "      <td>0</td>\n",
       "      <td>0</td>\n",
       "      <td>0</td>\n",
       "      <td>1</td>\n",
       "      <td>0</td>\n",
       "      <td>0</td>\n",
       "      <td>0</td>\n",
       "      <td>0</td>\n",
       "      <td>0</td>\n",
       "      <td>1</td>\n",
       "    </tr>\n",
       "    <tr>\n",
       "      <th>3</th>\n",
       "      <td>21219</td>\n",
       "      <td>18.93</td>\n",
       "      <td>8.29</td>\n",
       "      <td>91.60</td>\n",
       "      <td>11.74</td>\n",
       "      <td>28.39</td>\n",
       "      <td>60</td>\n",
       "      <td>1.054</td>\n",
       "      <td>70.0</td>\n",
       "      <td>0</td>\n",
       "      <td>...</td>\n",
       "      <td>0</td>\n",
       "      <td>0</td>\n",
       "      <td>0</td>\n",
       "      <td>1</td>\n",
       "      <td>0</td>\n",
       "      <td>0</td>\n",
       "      <td>0</td>\n",
       "      <td>0</td>\n",
       "      <td>0</td>\n",
       "      <td>1</td>\n",
       "    </tr>\n",
       "    <tr>\n",
       "      <th>4</th>\n",
       "      <td>18821</td>\n",
       "      <td>18.93</td>\n",
       "      <td>4.02</td>\n",
       "      <td>22.81</td>\n",
       "      <td>3.08</td>\n",
       "      <td>26.50</td>\n",
       "      <td>60</td>\n",
       "      <td>1.027</td>\n",
       "      <td>67.0</td>\n",
       "      <td>0</td>\n",
       "      <td>...</td>\n",
       "      <td>0</td>\n",
       "      <td>0</td>\n",
       "      <td>1</td>\n",
       "      <td>0</td>\n",
       "      <td>0</td>\n",
       "      <td>0</td>\n",
       "      <td>0</td>\n",
       "      <td>0</td>\n",
       "      <td>0</td>\n",
       "      <td>1</td>\n",
       "    </tr>\n",
       "  </tbody>\n",
       "</table>\n",
       "<p>5 rows × 27 columns</p>\n",
       "</div>"
      ],
      "text/plain": [
       "   BeerID  Size_L   ABV    IBU  Color  BoilSize  BoilTime  BoilGravity  \\\n",
       "0   69825   20.82  8.27  41.30  50.00     28.39        60        1.064   \n",
       "1   44320   25.00  5.64  35.36  13.28     30.00        60        1.050   \n",
       "2   55927   20.82  5.33  25.18   3.98     24.61        60        1.044   \n",
       "3   21219   18.93  8.29  91.60  11.74     28.39        60        1.054   \n",
       "4   18821   18.93  4.02  22.81   3.08     26.50        60        1.027   \n",
       "\n",
       "   Efficiency  SugarScale_Plato  ...  Style_American Light Lager  \\\n",
       "0        65.0                 0  ...                           0   \n",
       "1        65.0                 0  ...                           0   \n",
       "2        75.0                 0  ...                           0   \n",
       "3        70.0                 0  ...                           0   \n",
       "4        67.0                 0  ...                           0   \n",
       "\n",
       "   Style_American Pale Ale  Style_Saison  Style_otra  \\\n",
       "0                        0             0           1   \n",
       "1                        0             0           1   \n",
       "2                        0             0           1   \n",
       "3                        0             0           1   \n",
       "4                        0             1           0   \n",
       "\n",
       "   PrimingMethod_Corn Sugar  PrimingMethod_Dextrose  PrimingMethod_Keg  \\\n",
       "0                         0                       0                  0   \n",
       "1                         0                       0                  0   \n",
       "2                         0                       0                  0   \n",
       "3                         0                       0                  0   \n",
       "4                         0                       0                  0   \n",
       "\n",
       "   PrimingMethod_Sukkerlake  PrimingMethod_corn sugar  PrimingMethod_otra  \n",
       "0                         0                         0                   1  \n",
       "1                         0                         0                   1  \n",
       "2                         0                         0                   1  \n",
       "3                         0                         0                   1  \n",
       "4                         0                         0                   1  \n",
       "\n",
       "[5 rows x 27 columns]"
      ]
     },
     "execution_count": 156,
     "metadata": {},
     "output_type": "execute_result"
    }
   ],
   "source": [
    "#genero las dummies\n",
    "#genero un df_2 a partir de df_1 que ya tenia trabajado y le agrego estas dummies. Puedo concatenar tranquilamente poque tengo\n",
    "#la misma cantidad de registros originales y en el mismo orden\n",
    "df_2=df_1\n",
    "print(df_2.shape)\n",
    "\n",
    "df_dummy3 = pd.get_dummies(df['Style_6cat'], prefix= 'Style') #genero dummy\n",
    "df_2 = pd.concat([df_2, df_dummy3], axis=1) #concateno con df\n",
    "print(df_2.shape)\n",
    "\n",
    "df_dummy4 = pd.get_dummies(df['PrimingMethod_6cat'], prefix= 'PrimingMethod') #genero dummy\n",
    "df_2 = pd.concat([df_2, df_dummy4], axis=1) #concateno con df\n",
    "print(df_2.shape)\n",
    "\n",
    "df_2.head()"
   ]
  },
  {
   "cell_type": "code",
   "execution_count": 168,
   "metadata": {},
   "outputs": [
    {
     "name": "stdout",
     "output_type": "stream",
     "text": [
      "51800\n",
      "0.9351024460691398\n"
     ]
    }
   ],
   "source": [
    "#3) trabajo PrimingAmount\n",
    "df['PrimingAmount'].value_counts()\n",
    "#me fijo los NA\n",
    "print(df['PrimingAmount'].isna().sum())\n",
    "print(df['PrimingAmount'].isna().sum()/df.shape[0])\n",
    "\n",
    "#por la cantidad que son no vale la pena trabajarla (93,5% nulos)\n"
   ]
  },
  {
   "cell_type": "code",
   "execution_count": null,
   "metadata": {},
   "outputs": [],
   "source": []
  },
  {
   "cell_type": "code",
   "execution_count": 172,
   "metadata": {},
   "outputs": [
    {
     "name": "stdout",
     "output_type": "stream",
     "text": [
      "(55395, 25)\n",
      "Index(['Size_L', 'IBU', 'Color', 'BoilSize', 'BoilTime', 'BoilGravity',\n",
      "       'Efficiency', 'SugarScale_Plato', 'SugarScale_Specific Gravity',\n",
      "       'BrewMethod_All Grain', 'BrewMethod_BIAB', 'BrewMethod_Partial Mash',\n",
      "       'BrewMethod_extract', 'Style_American Amber Ale', 'Style_American IPA',\n",
      "       'Style_American Light Lager', 'Style_American Pale Ale', 'Style_Saison',\n",
      "       'Style_otra', 'PrimingMethod_Corn Sugar', 'PrimingMethod_Dextrose',\n",
      "       'PrimingMethod_Keg', 'PrimingMethod_Sukkerlake',\n",
      "       'PrimingMethod_corn sugar', 'PrimingMethod_otra'],\n",
      "      dtype='object')\n"
     ]
    },
    {
     "data": {
      "text/html": [
       "<div>\n",
       "<style scoped>\n",
       "    .dataframe tbody tr th:only-of-type {\n",
       "        vertical-align: middle;\n",
       "    }\n",
       "\n",
       "    .dataframe tbody tr th {\n",
       "        vertical-align: top;\n",
       "    }\n",
       "\n",
       "    .dataframe thead th {\n",
       "        text-align: right;\n",
       "    }\n",
       "</style>\n",
       "<table border=\"1\" class=\"dataframe\">\n",
       "  <thead>\n",
       "    <tr style=\"text-align: right;\">\n",
       "      <th></th>\n",
       "      <th>Size_L</th>\n",
       "      <th>IBU</th>\n",
       "      <th>Color</th>\n",
       "      <th>BoilSize</th>\n",
       "      <th>BoilTime</th>\n",
       "      <th>BoilGravity</th>\n",
       "      <th>Efficiency</th>\n",
       "      <th>SugarScale_Plato</th>\n",
       "      <th>SugarScale_Specific Gravity</th>\n",
       "      <th>BrewMethod_All Grain</th>\n",
       "      <th>...</th>\n",
       "      <th>Style_American Light Lager</th>\n",
       "      <th>Style_American Pale Ale</th>\n",
       "      <th>Style_Saison</th>\n",
       "      <th>Style_otra</th>\n",
       "      <th>PrimingMethod_Corn Sugar</th>\n",
       "      <th>PrimingMethod_Dextrose</th>\n",
       "      <th>PrimingMethod_Keg</th>\n",
       "      <th>PrimingMethod_Sukkerlake</th>\n",
       "      <th>PrimingMethod_corn sugar</th>\n",
       "      <th>PrimingMethod_otra</th>\n",
       "    </tr>\n",
       "  </thead>\n",
       "  <tbody>\n",
       "    <tr>\n",
       "      <th>0</th>\n",
       "      <td>20.82</td>\n",
       "      <td>41.30</td>\n",
       "      <td>50.00</td>\n",
       "      <td>28.39</td>\n",
       "      <td>60</td>\n",
       "      <td>1.064</td>\n",
       "      <td>65.0</td>\n",
       "      <td>0</td>\n",
       "      <td>1</td>\n",
       "      <td>1</td>\n",
       "      <td>...</td>\n",
       "      <td>0</td>\n",
       "      <td>0</td>\n",
       "      <td>0</td>\n",
       "      <td>1</td>\n",
       "      <td>0</td>\n",
       "      <td>0</td>\n",
       "      <td>0</td>\n",
       "      <td>0</td>\n",
       "      <td>0</td>\n",
       "      <td>1</td>\n",
       "    </tr>\n",
       "    <tr>\n",
       "      <th>1</th>\n",
       "      <td>25.00</td>\n",
       "      <td>35.36</td>\n",
       "      <td>13.28</td>\n",
       "      <td>30.00</td>\n",
       "      <td>60</td>\n",
       "      <td>1.050</td>\n",
       "      <td>65.0</td>\n",
       "      <td>0</td>\n",
       "      <td>1</td>\n",
       "      <td>1</td>\n",
       "      <td>...</td>\n",
       "      <td>0</td>\n",
       "      <td>0</td>\n",
       "      <td>0</td>\n",
       "      <td>1</td>\n",
       "      <td>0</td>\n",
       "      <td>0</td>\n",
       "      <td>0</td>\n",
       "      <td>0</td>\n",
       "      <td>0</td>\n",
       "      <td>1</td>\n",
       "    </tr>\n",
       "    <tr>\n",
       "      <th>2</th>\n",
       "      <td>20.82</td>\n",
       "      <td>25.18</td>\n",
       "      <td>3.98</td>\n",
       "      <td>24.61</td>\n",
       "      <td>60</td>\n",
       "      <td>1.044</td>\n",
       "      <td>75.0</td>\n",
       "      <td>0</td>\n",
       "      <td>1</td>\n",
       "      <td>1</td>\n",
       "      <td>...</td>\n",
       "      <td>0</td>\n",
       "      <td>0</td>\n",
       "      <td>0</td>\n",
       "      <td>1</td>\n",
       "      <td>0</td>\n",
       "      <td>0</td>\n",
       "      <td>0</td>\n",
       "      <td>0</td>\n",
       "      <td>0</td>\n",
       "      <td>1</td>\n",
       "    </tr>\n",
       "    <tr>\n",
       "      <th>3</th>\n",
       "      <td>18.93</td>\n",
       "      <td>91.60</td>\n",
       "      <td>11.74</td>\n",
       "      <td>28.39</td>\n",
       "      <td>60</td>\n",
       "      <td>1.054</td>\n",
       "      <td>70.0</td>\n",
       "      <td>0</td>\n",
       "      <td>1</td>\n",
       "      <td>1</td>\n",
       "      <td>...</td>\n",
       "      <td>0</td>\n",
       "      <td>0</td>\n",
       "      <td>0</td>\n",
       "      <td>1</td>\n",
       "      <td>0</td>\n",
       "      <td>0</td>\n",
       "      <td>0</td>\n",
       "      <td>0</td>\n",
       "      <td>0</td>\n",
       "      <td>1</td>\n",
       "    </tr>\n",
       "    <tr>\n",
       "      <th>4</th>\n",
       "      <td>18.93</td>\n",
       "      <td>22.81</td>\n",
       "      <td>3.08</td>\n",
       "      <td>26.50</td>\n",
       "      <td>60</td>\n",
       "      <td>1.027</td>\n",
       "      <td>67.0</td>\n",
       "      <td>0</td>\n",
       "      <td>1</td>\n",
       "      <td>1</td>\n",
       "      <td>...</td>\n",
       "      <td>0</td>\n",
       "      <td>0</td>\n",
       "      <td>1</td>\n",
       "      <td>0</td>\n",
       "      <td>0</td>\n",
       "      <td>0</td>\n",
       "      <td>0</td>\n",
       "      <td>0</td>\n",
       "      <td>0</td>\n",
       "      <td>1</td>\n",
       "    </tr>\n",
       "  </tbody>\n",
       "</table>\n",
       "<p>5 rows × 25 columns</p>\n",
       "</div>"
      ],
      "text/plain": [
       "   Size_L    IBU  Color  BoilSize  BoilTime  BoilGravity  Efficiency  \\\n",
       "0   20.82  41.30  50.00     28.39        60        1.064        65.0   \n",
       "1   25.00  35.36  13.28     30.00        60        1.050        65.0   \n",
       "2   20.82  25.18   3.98     24.61        60        1.044        75.0   \n",
       "3   18.93  91.60  11.74     28.39        60        1.054        70.0   \n",
       "4   18.93  22.81   3.08     26.50        60        1.027        67.0   \n",
       "\n",
       "   SugarScale_Plato  SugarScale_Specific Gravity  BrewMethod_All Grain  ...  \\\n",
       "0                 0                            1                     1  ...   \n",
       "1                 0                            1                     1  ...   \n",
       "2                 0                            1                     1  ...   \n",
       "3                 0                            1                     1  ...   \n",
       "4                 0                            1                     1  ...   \n",
       "\n",
       "   Style_American Light Lager  Style_American Pale Ale  Style_Saison  \\\n",
       "0                           0                        0             0   \n",
       "1                           0                        0             0   \n",
       "2                           0                        0             0   \n",
       "3                           0                        0             0   \n",
       "4                           0                        0             1   \n",
       "\n",
       "   Style_otra  PrimingMethod_Corn Sugar  PrimingMethod_Dextrose  \\\n",
       "0           1                         0                       0   \n",
       "1           1                         0                       0   \n",
       "2           1                         0                       0   \n",
       "3           1                         0                       0   \n",
       "4           0                         0                       0   \n",
       "\n",
       "   PrimingMethod_Keg  PrimingMethod_Sukkerlake  PrimingMethod_corn sugar  \\\n",
       "0                  0                         0                         0   \n",
       "1                  0                         0                         0   \n",
       "2                  0                         0                         0   \n",
       "3                  0                         0                         0   \n",
       "4                  0                         0                         0   \n",
       "\n",
       "   PrimingMethod_otra  \n",
       "0                   1  \n",
       "1                   1  \n",
       "2                   1  \n",
       "3                   1  \n",
       "4                   1  \n",
       "\n",
       "[5 rows x 25 columns]"
      ]
     },
     "execution_count": 172,
     "metadata": {},
     "output_type": "execute_result"
    }
   ],
   "source": [
    "#Genero X e y\n",
    "\n",
    "X_2 = df_2.drop(['ABV','BeerID',], axis=1)\n",
    "y_2 = df_2['ABV']\n",
    "print(X_2.shape)\n",
    "print(X_2.columns)\n",
    "X_2.head()"
   ]
  },
  {
   "cell_type": "code",
   "execution_count": 173,
   "metadata": {},
   "outputs": [
    {
     "name": "stdout",
     "output_type": "stream",
     "text": [
      "(18466, 20)\n",
      "(18466, 27)\n",
      "(18466, 25)\n"
     ]
    }
   ],
   "source": [
    "#tengo que volver a cargar dataset TEST y aplicarle las nuevas transformaciones para que quede con el \"formato\" X_2\n",
    "\n",
    "#cargo el dataset de testing para predecir sobre este cuando esten entrenados los modelos\n",
    "df_test = pd.read_csv('base_test_ABV.csv')\n",
    "print(df_test.shape)\n",
    "\n",
    "#aplico las mismas transformaciones\n",
    "\n",
    "#genero dummies\n",
    "df_test_dummy1 = pd.get_dummies(df_test['SugarScale'], prefix= 'SugarScale')\n",
    "df_test = pd.concat([df_test, df_test_dummy1], axis=1)\n",
    "\n",
    "df_test_dummy2 = pd.get_dummies(df_test['BrewMethod'], prefix= 'BrewMethod')\n",
    "df_test = pd.concat([df_test, df_test_dummy2], axis=1)\n",
    "\n",
    "#borro variables (por mas de 10% nulos, las que siempre considere borrar y las quie genere dummy)\n",
    "df_test=df_test.drop(['SugarScale','BrewMethod','PrimingAmount','Name',\n",
    "                      'URL','MashThickness', 'PitchRate', 'PrimaryTemp','StyleID'], axis=1)\n",
    "\n",
    "\n",
    "\n",
    "df_test['PrimingMethod_6cat'] = np.where((df_test['PrimingMethod']=='Corn Sugar')|(df_test['PrimingMethod']=='Dextrose')|(df_test['PrimingMethod']=='corn sugar')|(df_test['PrimingMethod']=='Keg')|(df_test['PrimingMethod']=='Sukkerlake'),df_test['PrimingMethod'],'otra')\n",
    "df_test['Style_6cat'] = np.where((df_test['Style']=='American IPA')|(df_test['Style']=='American Pale Ale')|(df_test['Style']=='Saison')|(df_test['Style']=='American Light Lager')|(df_test['Style']=='American Amber Ale'),df_test['Style'],'otra')\n",
    "\n",
    "df_test_dummy3 = pd.get_dummies(df_test['PrimingMethod_6cat'], prefix= 'PrimingMethod')\n",
    "df_test = pd.concat([df_test, df_test_dummy3], axis=1)\n",
    "df_test_dummy4 = pd.get_dummies(df_test['Style_6cat'], prefix= 'Style')\n",
    "df_test = pd.concat([df_test, df_test_dummy4], axis=1)\n",
    "\n",
    "df_test=df_test.drop(['PrimingMethod','PrimingMethod_6cat','Style','Style_6cat'], axis=1)\n",
    "\n",
    "#imputo nulos\n",
    "df_test['BoilGravity'] = df_test['BoilGravity'].fillna(1.3568484871307092) #estoy usndo la media de train\n",
    "print(df_test.shape)\n",
    "\n",
    "#\"aparto\" el BeerId, no lo tengo que usar para el predict porque no lo use en train, pero lo guardo para identificar las cervezas\n",
    "Id = df_test['BeerID']\n",
    "X_test_2 = df_test.drop(['BeerID','ABV'], axis=1)\n",
    "y_test_2 = df_test['ABV'] #son los valores reales de ABV en base test\n",
    "\n",
    "print(X_test_2.shape) #ok, finalmente tengo las 13 con las que entrene"
   ]
  },
  {
   "cell_type": "code",
   "execution_count": 174,
   "metadata": {},
   "outputs": [
    {
     "data": {
      "text/html": [
       "<div>\n",
       "<style scoped>\n",
       "    .dataframe tbody tr th:only-of-type {\n",
       "        vertical-align: middle;\n",
       "    }\n",
       "\n",
       "    .dataframe tbody tr th {\n",
       "        vertical-align: top;\n",
       "    }\n",
       "\n",
       "    .dataframe thead th {\n",
       "        text-align: right;\n",
       "    }\n",
       "</style>\n",
       "<table border=\"1\" class=\"dataframe\">\n",
       "  <thead>\n",
       "    <tr style=\"text-align: right;\">\n",
       "      <th></th>\n",
       "      <th>0</th>\n",
       "    </tr>\n",
       "  </thead>\n",
       "  <tbody>\n",
       "    <tr>\n",
       "      <th>0</th>\n",
       "      <td>4.985548</td>\n",
       "    </tr>\n",
       "    <tr>\n",
       "      <th>1</th>\n",
       "      <td>5.294163</td>\n",
       "    </tr>\n",
       "    <tr>\n",
       "      <th>2</th>\n",
       "      <td>6.186916</td>\n",
       "    </tr>\n",
       "  </tbody>\n",
       "</table>\n",
       "</div>"
      ],
      "text/plain": [
       "          0\n",
       "0  4.985548\n",
       "1  5.294163\n",
       "2  6.186916"
      ]
     },
     "execution_count": 174,
     "metadata": {},
     "output_type": "execute_result"
    }
   ],
   "source": [
    "# voy a entrenar el mismo Random Forest que antes pero con estas variables adicionadas para ver si mejora al no borrarlas\n",
    "\n",
    "rfc_newVars = RandomForestRegressor(max_depth=20, max_features=1.0, n_estimators=500,\n",
    "                      random_state=0)\n",
    "rfc_newVars.fit(X_2,y_2)\n",
    "#genero predicciones\n",
    "pred_rfc_newVars=pd.DataFrame(rfc_newVars.predict(X_test_2))\n",
    "pred_rfc_newVars.head(3)"
   ]
  },
  {
   "cell_type": "code",
   "execution_count": 175,
   "metadata": {},
   "outputs": [
    {
     "data": {
      "text/html": [
       "<div>\n",
       "<style scoped>\n",
       "    .dataframe tbody tr th:only-of-type {\n",
       "        vertical-align: middle;\n",
       "    }\n",
       "\n",
       "    .dataframe tbody tr th {\n",
       "        vertical-align: top;\n",
       "    }\n",
       "\n",
       "    .dataframe thead th {\n",
       "        text-align: right;\n",
       "    }\n",
       "</style>\n",
       "<table border=\"1\" class=\"dataframe\">\n",
       "  <thead>\n",
       "    <tr style=\"text-align: right;\">\n",
       "      <th></th>\n",
       "      <th>BeerID</th>\n",
       "      <th>pred_rfc_newVars</th>\n",
       "    </tr>\n",
       "  </thead>\n",
       "  <tbody>\n",
       "    <tr>\n",
       "      <th>0</th>\n",
       "      <td>47061</td>\n",
       "      <td>4.985548</td>\n",
       "    </tr>\n",
       "    <tr>\n",
       "      <th>1</th>\n",
       "      <td>26902</td>\n",
       "      <td>5.294163</td>\n",
       "    </tr>\n",
       "    <tr>\n",
       "      <th>2</th>\n",
       "      <td>1166</td>\n",
       "      <td>6.186916</td>\n",
       "    </tr>\n",
       "    <tr>\n",
       "      <th>3</th>\n",
       "      <td>70996</td>\n",
       "      <td>5.510179</td>\n",
       "    </tr>\n",
       "    <tr>\n",
       "      <th>4</th>\n",
       "      <td>6657</td>\n",
       "      <td>6.079354</td>\n",
       "    </tr>\n",
       "  </tbody>\n",
       "</table>\n",
       "</div>"
      ],
      "text/plain": [
       "   BeerID  pred_rfc_newVars\n",
       "0   47061          4.985548\n",
       "1   26902          5.294163\n",
       "2    1166          6.186916\n",
       "3   70996          5.510179\n",
       "4    6657          6.079354"
      ]
     },
     "execution_count": 175,
     "metadata": {},
     "output_type": "execute_result"
    }
   ],
   "source": [
    "#genero dataframe con predicciones de 2da prueba\n",
    "predicciones_grupo0_2 = pd.concat([Id,pred_rfc_newVars], axis=1)\n",
    "predicciones_grupo0_2.columns = ['BeerID','pred_rfc_newVars']\n",
    "predicciones_grupo0_2.head()"
   ]
  },
  {
   "cell_type": "code",
   "execution_count": 176,
   "metadata": {},
   "outputs": [
    {
     "data": {
      "text/plain": [
       "{'rmse_rfc_newVars': 1.0051270778676162}"
      ]
     },
     "execution_count": 176,
     "metadata": {},
     "output_type": "execute_result"
    }
   ],
   "source": [
    "mse_rfc_newVars = mean_squared_error(predicciones_grupo0_2['pred_rfc_newVars'], y_test)\n",
    "rmse_rfc_newVars= np.sqrt(mse_rfc_newVars)\n",
    "\n",
    "metricas = {\n",
    "  \"rmse_rfc_newVars\": rmse_rfc_newVars}\n",
    "metricas"
   ]
  },
  {
   "cell_type": "code",
   "execution_count": 177,
   "metadata": {},
   "outputs": [
    {
     "data": {
      "text/html": [
       "<div>\n",
       "<style scoped>\n",
       "    .dataframe tbody tr th:only-of-type {\n",
       "        vertical-align: middle;\n",
       "    }\n",
       "\n",
       "    .dataframe tbody tr th {\n",
       "        vertical-align: top;\n",
       "    }\n",
       "\n",
       "    .dataframe thead th {\n",
       "        text-align: right;\n",
       "    }\n",
       "</style>\n",
       "<table border=\"1\" class=\"dataframe\">\n",
       "  <thead>\n",
       "    <tr style=\"text-align: right;\">\n",
       "      <th></th>\n",
       "      <th>variable</th>\n",
       "      <th>importancia</th>\n",
       "    </tr>\n",
       "  </thead>\n",
       "  <tbody>\n",
       "    <tr>\n",
       "      <th>5</th>\n",
       "      <td>BoilGravity</td>\n",
       "      <td>0.475159</td>\n",
       "    </tr>\n",
       "    <tr>\n",
       "      <th>3</th>\n",
       "      <td>BoilSize</td>\n",
       "      <td>0.101704</td>\n",
       "    </tr>\n",
       "    <tr>\n",
       "      <th>2</th>\n",
       "      <td>Color</td>\n",
       "      <td>0.097128</td>\n",
       "    </tr>\n",
       "    <tr>\n",
       "      <th>0</th>\n",
       "      <td>Size_L</td>\n",
       "      <td>0.095019</td>\n",
       "    </tr>\n",
       "    <tr>\n",
       "      <th>1</th>\n",
       "      <td>IBU</td>\n",
       "      <td>0.094703</td>\n",
       "    </tr>\n",
       "    <tr>\n",
       "      <th>4</th>\n",
       "      <td>BoilTime</td>\n",
       "      <td>0.025919</td>\n",
       "    </tr>\n",
       "    <tr>\n",
       "      <th>8</th>\n",
       "      <td>SugarScale_Specific Gravity</td>\n",
       "      <td>0.023980</td>\n",
       "    </tr>\n",
       "    <tr>\n",
       "      <th>6</th>\n",
       "      <td>Efficiency</td>\n",
       "      <td>0.021589</td>\n",
       "    </tr>\n",
       "    <tr>\n",
       "      <th>18</th>\n",
       "      <td>Style_otra</td>\n",
       "      <td>0.019683</td>\n",
       "    </tr>\n",
       "    <tr>\n",
       "      <th>7</th>\n",
       "      <td>SugarScale_Plato</td>\n",
       "      <td>0.019189</td>\n",
       "    </tr>\n",
       "    <tr>\n",
       "      <th>12</th>\n",
       "      <td>BrewMethod_extract</td>\n",
       "      <td>0.004796</td>\n",
       "    </tr>\n",
       "    <tr>\n",
       "      <th>16</th>\n",
       "      <td>Style_American Pale Ale</td>\n",
       "      <td>0.004173</td>\n",
       "    </tr>\n",
       "    <tr>\n",
       "      <th>11</th>\n",
       "      <td>BrewMethod_Partial Mash</td>\n",
       "      <td>0.003311</td>\n",
       "    </tr>\n",
       "    <tr>\n",
       "      <th>9</th>\n",
       "      <td>BrewMethod_All Grain</td>\n",
       "      <td>0.003310</td>\n",
       "    </tr>\n",
       "    <tr>\n",
       "      <th>14</th>\n",
       "      <td>Style_American IPA</td>\n",
       "      <td>0.003184</td>\n",
       "    </tr>\n",
       "    <tr>\n",
       "      <th>10</th>\n",
       "      <td>BrewMethod_BIAB</td>\n",
       "      <td>0.002195</td>\n",
       "    </tr>\n",
       "    <tr>\n",
       "      <th>17</th>\n",
       "      <td>Style_Saison</td>\n",
       "      <td>0.001689</td>\n",
       "    </tr>\n",
       "    <tr>\n",
       "      <th>15</th>\n",
       "      <td>Style_American Light Lager</td>\n",
       "      <td>0.001013</td>\n",
       "    </tr>\n",
       "    <tr>\n",
       "      <th>24</th>\n",
       "      <td>PrimingMethod_otra</td>\n",
       "      <td>0.000530</td>\n",
       "    </tr>\n",
       "    <tr>\n",
       "      <th>13</th>\n",
       "      <td>Style_American Amber Ale</td>\n",
       "      <td>0.000521</td>\n",
       "    </tr>\n",
       "    <tr>\n",
       "      <th>20</th>\n",
       "      <td>PrimingMethod_Dextrose</td>\n",
       "      <td>0.000516</td>\n",
       "    </tr>\n",
       "    <tr>\n",
       "      <th>19</th>\n",
       "      <td>PrimingMethod_Corn Sugar</td>\n",
       "      <td>0.000358</td>\n",
       "    </tr>\n",
       "    <tr>\n",
       "      <th>23</th>\n",
       "      <td>PrimingMethod_corn sugar</td>\n",
       "      <td>0.000161</td>\n",
       "    </tr>\n",
       "    <tr>\n",
       "      <th>21</th>\n",
       "      <td>PrimingMethod_Keg</td>\n",
       "      <td>0.000098</td>\n",
       "    </tr>\n",
       "    <tr>\n",
       "      <th>22</th>\n",
       "      <td>PrimingMethod_Sukkerlake</td>\n",
       "      <td>0.000071</td>\n",
       "    </tr>\n",
       "  </tbody>\n",
       "</table>\n",
       "</div>"
      ],
      "text/plain": [
       "                       variable  importancia\n",
       "5                   BoilGravity     0.475159\n",
       "3                      BoilSize     0.101704\n",
       "2                         Color     0.097128\n",
       "0                        Size_L     0.095019\n",
       "1                           IBU     0.094703\n",
       "4                      BoilTime     0.025919\n",
       "8   SugarScale_Specific Gravity     0.023980\n",
       "6                    Efficiency     0.021589\n",
       "18                   Style_otra     0.019683\n",
       "7              SugarScale_Plato     0.019189\n",
       "12           BrewMethod_extract     0.004796\n",
       "16      Style_American Pale Ale     0.004173\n",
       "11      BrewMethod_Partial Mash     0.003311\n",
       "9          BrewMethod_All Grain     0.003310\n",
       "14           Style_American IPA     0.003184\n",
       "10              BrewMethod_BIAB     0.002195\n",
       "17                 Style_Saison     0.001689\n",
       "15   Style_American Light Lager     0.001013\n",
       "24           PrimingMethod_otra     0.000530\n",
       "13     Style_American Amber Ale     0.000521\n",
       "20       PrimingMethod_Dextrose     0.000516\n",
       "19     PrimingMethod_Corn Sugar     0.000358\n",
       "23     PrimingMethod_corn sugar     0.000161\n",
       "21            PrimingMethod_Keg     0.000098\n",
       "22     PrimingMethod_Sukkerlake     0.000071"
      ]
     },
     "execution_count": 177,
     "metadata": {},
     "output_type": "execute_result"
    }
   ],
   "source": [
    "## veo importancia de variables\n",
    "\n",
    "importances_2 = rfc_newVars.feature_importances_ \n",
    "var_importance_2 = pd.DataFrame({'variable' : list(X_2.columns),\n",
    "                       'importancia' : list(importances_2)})\n",
    "var_importance_2 = var_importance_2.sort_values(['importancia'],ascending=False)\n",
    "var_importance_2\n",
    "\n",
    "#veo que las que agregue no fueron relevantes y no mejoraron ESE modelo"
   ]
  },
  {
   "cell_type": "code",
   "execution_count": 183,
   "metadata": {},
   "outputs": [
    {
     "name": "stdout",
     "output_type": "stream",
     "text": [
      "Fitting 3 folds for each of 36 candidates, totalling 108 fits\n"
     ]
    },
    {
     "name": "stderr",
     "output_type": "stream",
     "text": [
      "[Parallel(n_jobs=-1)]: Using backend LokyBackend with 8 concurrent workers.\n",
      "[Parallel(n_jobs=-1)]: Done  16 tasks      | elapsed:   56.2s\n",
      "[Parallel(n_jobs=-1)]: Done 108 out of 108 | elapsed: 14.9min finished\n"
     ]
    },
    {
     "data": {
      "text/plain": [
       "GridSearchCV(cv=3, estimator=RandomForestRegressor(random_state=0), n_jobs=-1,\n",
       "             param_grid={'max_depth': [10, 20, 30, None],\n",
       "                         'max_features': [0.3, 0.5, 1.0],\n",
       "                         'n_estimators': [50, 100, 500]},\n",
       "             scoring='neg_mean_squared_error', verbose=3)"
      ]
     },
     "execution_count": 183,
     "metadata": {},
     "output_type": "execute_result"
    }
   ],
   "source": [
    "#puebo por ultimo el Gridsearch para RF nuevamente, para ver si con otros hiperparametros logro mejorarlo\n",
    "\n",
    "\n",
    "parameter_grid_rf = {\n",
    "    'max_depth': [10,20,30, None],\n",
    "    'max_features': [0.3, 0.5, 1.],\n",
    "    'n_estimators': [50,100, 500]\n",
    "}\n",
    "\n",
    "\n",
    "grid_search_rf_2 = GridSearchCV(RandomForestRegressor(random_state=0), parameter_grid_rf,\n",
    "                            cv=3, verbose=3, refit=True, n_jobs=-1, scoring = \"neg_mean_squared_error\")\n",
    "\n",
    "grid_search_rf_2.fit(X_2, y_2)\n"
   ]
  },
  {
   "cell_type": "code",
   "execution_count": 184,
   "metadata": {},
   "outputs": [
    {
     "name": "stdout",
     "output_type": "stream",
     "text": [
      "RandomForestRegressor(max_depth=20, max_features=1.0, n_estimators=500,\n",
      "                      random_state=0)\n",
      "-0.9114818609226351\n"
     ]
    },
    {
     "data": {
      "text/plain": [
       "0.9547155916411102"
      ]
     },
     "execution_count": 184,
     "metadata": {},
     "output_type": "execute_result"
    }
   ],
   "source": [
    "print(grid_search_rf_2.best_estimator_)\n",
    "print(grid_search_rf_2.best_score_)\n",
    "np.sqrt(-grid_search_rf_2.best_score_) #0.9473589101132592"
   ]
  },
  {
   "cell_type": "code",
   "execution_count": null,
   "metadata": {},
   "outputs": [],
   "source": [
    "#hasta aca no logro mejorarlo"
   ]
  }
 ],
 "metadata": {
  "kernelspec": {
   "display_name": "Python 3",
   "language": "python",
   "name": "python3"
  },
  "language_info": {
   "codemirror_mode": {
    "name": "ipython",
    "version": 3
   },
   "file_extension": ".py",
   "mimetype": "text/x-python",
   "name": "python",
   "nbconvert_exporter": "python",
   "pygments_lexer": "ipython3",
   "version": "3.8.5"
  }
 },
 "nbformat": 4,
 "nbformat_minor": 2
}
