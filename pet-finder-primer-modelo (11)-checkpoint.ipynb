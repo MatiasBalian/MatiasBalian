{
 "cells": [
  {
   "cell_type": "code",
   "execution_count": 3,
   "metadata": {
    "_cell_guid": "b1076dfc-b9ad-4769-8c92-a6c4dae69d19",
    "_uuid": "8f2839f25d086af736a60e9eeb907d3b93b6e0e5",
    "execution": {
     "iopub.execute_input": "2021-12-11T00:30:24.625310Z",
     "iopub.status.busy": "2021-12-11T00:30:24.624570Z",
     "iopub.status.idle": "2021-12-11T00:30:32.859472Z",
     "shell.execute_reply": "2021-12-11T00:30:32.858494Z",
     "shell.execute_reply.started": "2021-12-11T00:30:24.625275Z"
    }
   },
   "outputs": [],
   "source": [
    "# Importación de Librerías\n",
    "import numpy as np \n",
    "import pandas as pd \n",
    "from sklearn.model_selection import train_test_split, KFold\n",
    "from tensorflow import keras\n",
    "\n",
    "from sklearn.metrics import cohen_kappa_score\n",
    "from lightgbm import LGBMClassifier\n",
    "from xgboost import XGBClassifier"
   ]
  },
  {
   "cell_type": "code",
   "execution_count": 4,
   "metadata": {
    "execution": {
     "iopub.execute_input": "2021-12-11T00:30:32.861563Z",
     "iopub.status.busy": "2021-12-11T00:30:32.861237Z",
     "iopub.status.idle": "2021-12-11T00:30:33.183403Z",
     "shell.execute_reply": "2021-12-11T00:30:33.182438Z",
     "shell.execute_reply.started": "2021-12-11T00:30:32.861524Z"
    }
   },
   "outputs": [],
   "source": [
    "data = pd.read_csv('../input/petfinder-adoption-prediction/train/train.csv', index_col=\"PetID\")\n",
    "data.info()"
   ]
  },
  {
   "cell_type": "code",
   "execution_count": 4,
   "metadata": {
    "execution": {
     "iopub.execute_input": "2021-12-10T01:37:21.350984Z",
     "iopub.status.busy": "2021-12-10T01:37:21.350661Z",
     "iopub.status.idle": "2021-12-10T01:37:21.419291Z",
     "shell.execute_reply": "2021-12-10T01:37:21.418407Z",
     "shell.execute_reply.started": "2021-12-10T01:37:21.350945Z"
    }
   },
   "outputs": [],
   "source": [
    "for c in data.select_dtypes(\"O\"):\n",
    "    data[c] = data[c].astype(\"category\")"
   ]
  },
  {
   "cell_type": "code",
   "execution_count": 11,
   "metadata": {
    "execution": {
     "iopub.execute_input": "2021-12-10T01:39:36.938683Z",
     "iopub.status.busy": "2021-12-10T01:39:36.938172Z",
     "iopub.status.idle": "2021-12-10T01:39:36.958486Z",
     "shell.execute_reply": "2021-12-10T01:39:36.957648Z",
     "shell.execute_reply.started": "2021-12-10T01:39:36.938650Z"
    }
   },
   "outputs": [],
   "source": [
    "data.info()"
   ]
  },
  {
   "cell_type": "code",
   "execution_count": null,
   "metadata": {
    "execution": {
     "iopub.execute_input": "2021-12-07T16:12:21.484376Z",
     "iopub.status.busy": "2021-12-07T16:12:21.484048Z",
     "iopub.status.idle": "2021-12-07T16:12:21.495628Z",
     "shell.execute_reply": "2021-12-07T16:12:21.494437Z",
     "shell.execute_reply.started": "2021-12-07T16:12:21.484345Z"
    }
   },
   "outputs": [],
   "source": [
    "data.isnull().sum()"
   ]
  },
  {
   "cell_type": "code",
   "execution_count": 5,
   "metadata": {
    "execution": {
     "iopub.execute_input": "2021-12-11T00:30:41.448629Z",
     "iopub.status.busy": "2021-12-11T00:30:41.448349Z",
     "iopub.status.idle": "2021-12-11T00:30:41.454291Z",
     "shell.execute_reply": "2021-12-11T00:30:41.453385Z",
     "shell.execute_reply.started": "2021-12-11T00:30:41.448601Z"
    }
   },
   "outputs": [],
   "source": [
    "def metric(y_true, y_pred):\n",
    "    res = cohen_kappa_score(y_true, y_pred.reshape((y_true.shape[0], 5), order=\"F\").argmax(axis=1), weights= 'quadratic')\n",
    "    return \"kappa\", res, True"
   ]
  },
  {
   "cell_type": "code",
   "execution_count": 18,
   "metadata": {
    "execution": {
     "iopub.execute_input": "2021-12-11T00:35:23.360047Z",
     "iopub.status.busy": "2021-12-11T00:35:23.359531Z",
     "iopub.status.idle": "2021-12-11T00:35:23.431334Z",
     "shell.execute_reply": "2021-12-11T00:35:23.430275Z",
     "shell.execute_reply.started": "2021-12-11T00:35:23.360016Z"
    }
   },
   "outputs": [],
   "source": [
    "model.predict(X_test)"
   ]
  },
  {
   "cell_type": "code",
   "execution_count": 23,
   "metadata": {
    "execution": {
     "iopub.execute_input": "2021-12-11T00:39:23.129766Z",
     "iopub.status.busy": "2021-12-11T00:39:23.128738Z",
     "iopub.status.idle": "2021-12-11T00:39:23.172412Z",
     "shell.execute_reply": "2021-12-11T00:39:23.171754Z",
     "shell.execute_reply.started": "2021-12-11T00:39:23.129729Z"
    }
   },
   "outputs": [],
   "source": [
    "metric(yv, model.predict_proba(Xv))"
   ]
  },
  {
   "cell_type": "code",
   "execution_count": 66,
   "metadata": {
    "execution": {
     "iopub.execute_input": "2021-12-11T01:03:49.314939Z",
     "iopub.status.busy": "2021-12-11T01:03:49.314179Z",
     "iopub.status.idle": "2021-12-11T01:03:49.371970Z",
     "shell.execute_reply": "2021-12-11T01:03:49.371221Z",
     "shell.execute_reply.started": "2021-12-11T01:03:49.314897Z"
    }
   },
   "outputs": [],
   "source": [
    "X_train, X_test, y_train, y_test = train_test_split(\n",
    "    data.select_dtypes(exclude=['object']).drop(\"AdoptionSpeed\", axis=1), \n",
    "    data.AdoptionSpeed, test_size=0.3, random_state=1\n",
    ")\n",
    "kf = KFold(n_splits=5, random_state=1, shuffle=True)"
   ]
  },
  {
   "cell_type": "code",
   "execution_count": 67,
   "metadata": {
    "execution": {
     "iopub.execute_input": "2021-12-11T01:03:54.419603Z",
     "iopub.status.busy": "2021-12-11T01:03:54.419016Z",
     "iopub.status.idle": "2021-12-11T01:03:54.426755Z",
     "shell.execute_reply": "2021-12-11T01:03:54.425921Z",
     "shell.execute_reply.started": "2021-12-11T01:03:54.419560Z"
    }
   },
   "outputs": [],
   "source": [
    "folds = [X_train.index[idx] for _, idx in kf.split(X_train)]"
   ]
  },
  {
   "cell_type": "code",
   "execution_count": 68,
   "metadata": {
    "execution": {
     "iopub.execute_input": "2021-12-11T01:03:59.749647Z",
     "iopub.status.busy": "2021-12-11T01:03:59.749247Z",
     "iopub.status.idle": "2021-12-11T01:04:26.691392Z",
     "shell.execute_reply": "2021-12-11T01:04:26.690478Z",
     "shell.execute_reply.started": "2021-12-11T01:03:59.749595Z"
    }
   },
   "outputs": [],
   "source": [
    "\n",
    "k=5\n",
    "num_validation_samples=len(data)//k\n",
    "#np.random.shuffle(data)\n",
    "validation_scores=[]\n",
    "test_probs = pd.DataFrame([], index=X_test.index, columns=range(y_train.max() + 1))\n",
    "for idx in folds:\n",
    "    Xv = X_train.loc[idx]\n",
    "    yv = y_train.loc[idx]\n",
    "    \n",
    "    Xt = X_train.drop(idx)\n",
    "    yt = y_train.drop(idx)\n",
    "    \n",
    "    model = LGBMClassifier()\n",
    "    model.fit(Xt, yt)\n",
    "    #vp = pd.Series(model.predict_proba(Xv), index=Xv)\n",
    "    #valid_probs.append(vp)\n",
    "    validation_score= model.predict_proba(Xv)\n",
    "    validation_scores.append(validation_score)\n",
    "    #test_probs = (test_probs + model.predict_proba(X_test)) / 5\n",
    "    \n",
    "#validation_scores = pd.concat([validation_scores,test_probs])"
   ]
  },
  {
   "cell_type": "code",
   "execution_count": 8,
   "metadata": {
    "execution": {
     "iopub.execute_input": "2021-12-10T22:41:15.190585Z",
     "iopub.status.busy": "2021-12-10T22:41:15.190248Z",
     "iopub.status.idle": "2021-12-10T22:41:15.938380Z",
     "shell.execute_reply": "2021-12-10T22:41:15.937703Z",
     "shell.execute_reply.started": "2021-12-10T22:41:15.190552Z"
    }
   },
   "outputs": [],
   "source": [
    "validation_score1=np.average(validation_score)\n",
    "model= LGBMClassifier()\n",
    "model.fit(X_train, y_train)\n",
    "test_score=model.predict(X_test)"
   ]
  },
  {
   "cell_type": "code",
   "execution_count": 9,
   "metadata": {
    "execution": {
     "iopub.execute_input": "2021-12-10T22:41:22.644820Z",
     "iopub.status.busy": "2021-12-10T22:41:22.644367Z",
     "iopub.status.idle": "2021-12-10T22:41:22.651005Z",
     "shell.execute_reply": "2021-12-10T22:41:22.650375Z",
     "shell.execute_reply.started": "2021-12-10T22:41:22.644758Z"
    }
   },
   "outputs": [],
   "source": [
    "test_score"
   ]
  },
  {
   "cell_type": "code",
   "execution_count": 10,
   "metadata": {
    "execution": {
     "iopub.execute_input": "2021-12-10T22:41:27.613264Z",
     "iopub.status.busy": "2021-12-10T22:41:27.612411Z",
     "iopub.status.idle": "2021-12-10T22:41:27.618815Z",
     "shell.execute_reply": "2021-12-10T22:41:27.617849Z",
     "shell.execute_reply.started": "2021-12-10T22:41:27.613223Z"
    }
   },
   "outputs": [],
   "source": [
    "validation_score1"
   ]
  },
  {
   "cell_type": "code",
   "execution_count": 15,
   "metadata": {
    "execution": {
     "iopub.execute_input": "2021-12-10T22:55:15.683359Z",
     "iopub.status.busy": "2021-12-10T22:55:15.683067Z",
     "iopub.status.idle": "2021-12-10T22:55:15.791130Z",
     "shell.execute_reply": "2021-12-10T22:55:15.790406Z",
     "shell.execute_reply.started": "2021-12-10T22:55:15.683330Z"
    }
   },
   "outputs": [],
   "source": [
    "accuracy1= model.score(X_test, y_test)"
   ]
  },
  {
   "cell_type": "code",
   "execution_count": 16,
   "metadata": {
    "execution": {
     "iopub.execute_input": "2021-12-10T22:55:18.980891Z",
     "iopub.status.busy": "2021-12-10T22:55:18.980598Z",
     "iopub.status.idle": "2021-12-10T22:55:18.987233Z",
     "shell.execute_reply": "2021-12-10T22:55:18.986270Z",
     "shell.execute_reply.started": "2021-12-10T22:55:18.980859Z"
    }
   },
   "outputs": [],
   "source": [
    "accuracy1"
   ]
  },
  {
   "cell_type": "code",
   "execution_count": 18,
   "metadata": {
    "execution": {
     "iopub.execute_input": "2021-12-10T22:56:49.980708Z",
     "iopub.status.busy": "2021-12-10T22:56:49.980403Z",
     "iopub.status.idle": "2021-12-10T22:56:50.018952Z",
     "shell.execute_reply": "2021-12-10T22:56:50.017975Z",
     "shell.execute_reply.started": "2021-12-10T22:56:49.980677Z"
    }
   },
   "outputs": [],
   "source": [
    "accuracy2= model.score(Xv, yv)"
   ]
  },
  {
   "cell_type": "code",
   "execution_count": 19,
   "metadata": {
    "execution": {
     "iopub.execute_input": "2021-12-10T22:56:59.891509Z",
     "iopub.status.busy": "2021-12-10T22:56:59.890863Z",
     "iopub.status.idle": "2021-12-10T22:56:59.897142Z",
     "shell.execute_reply": "2021-12-10T22:56:59.896330Z",
     "shell.execute_reply.started": "2021-12-10T22:56:59.891471Z"
    }
   },
   "outputs": [],
   "source": [
    "accuracy2"
   ]
  },
  {
   "cell_type": "code",
   "execution_count": null,
   "metadata": {
    "_kg_hide-output": true
   },
   "outputs": [],
   "source": [
    " #resultados[f\"fold_{i+1}\"] = cohen_kappa_score( Xt,yt, weights= 'quadratic')"
   ]
  },
  {
   "cell_type": "code",
   "execution_count": null,
   "metadata": {
    "execution": {
     "iopub.execute_input": "2021-12-07T13:17:50.816478Z",
     "iopub.status.busy": "2021-12-07T13:17:50.816167Z",
     "iopub.status.idle": "2021-12-07T13:17:50.852928Z",
     "shell.execute_reply": "2021-12-07T13:17:50.851766Z",
     "shell.execute_reply.started": "2021-12-07T13:17:50.816448Z"
    }
   },
   "outputs": [],
   "source": [
    "#validation_scores = pd.DataFrame(validation_scores)\n",
    "#test_probs= pd.DataFrame(test_probs)\n",
    "\n",
    "#validation_scores1 = pd.concat([validation_scores,test_probs], ignore_index=True)"
   ]
  },
  {
   "cell_type": "code",
   "execution_count": 21,
   "metadata": {
    "execution": {
     "iopub.execute_input": "2021-12-10T23:00:28.505894Z",
     "iopub.status.busy": "2021-12-10T23:00:28.505555Z",
     "iopub.status.idle": "2021-12-10T23:00:28.515846Z",
     "shell.execute_reply": "2021-12-10T23:00:28.514891Z",
     "shell.execute_reply.started": "2021-12-10T23:00:28.505857Z"
    }
   },
   "outputs": [],
   "source": [
    "validation_scores"
   ]
  },
  {
   "cell_type": "code",
   "execution_count": 22,
   "metadata": {
    "execution": {
     "iopub.execute_input": "2021-12-10T23:01:34.539191Z",
     "iopub.status.busy": "2021-12-10T23:01:34.538397Z",
     "iopub.status.idle": "2021-12-10T23:01:34.559298Z",
     "shell.execute_reply": "2021-12-10T23:01:34.558436Z",
     "shell.execute_reply.started": "2021-12-10T23:01:34.539148Z"
    }
   },
   "outputs": [],
   "source": [
    "test_probs"
   ]
  },
  {
   "cell_type": "code",
   "execution_count": null,
   "metadata": {},
   "outputs": [],
   "source": [
    "#Cross validation que no corrio\n",
    "\n",
    "#k=3\n",
    "#num_validation_samples=len(data)//k\n",
    "#np.random.shuffle(data)\n",
    "#validation_scores=[]\n",
    "#for fold in range(k):\n",
    " #   validation_data=data[num_validation_samples * fold:\n",
    "  #                       num_validation_samples * (fold+1)]\n",
    "   #      training_data=np.concatenate(\n",
    "    #    [data[:num_validation_samples * fold],\n",
    "     #   data[num_validation_samples * (fold+1):]], axis=0)\n",
    "    #model= LGBMClassifier()\n",
    "    #model.fit(training_data, ...)\n",
    "    #validation_score= model.evaluate(validation_data, ...)\n",
    "    #validation_scores.append(validation_score)\n",
    "#validation_score=np.average(validation_scores)\n",
    "#model= LGBMClassifier()\n",
    "#model.fit(data, ...)\n",
    "#test_score=model.evaluate(test_data, ...)"
   ]
  },
  {
   "cell_type": "code",
   "execution_count": 24,
   "metadata": {
    "execution": {
     "iopub.execute_input": "2021-12-11T00:40:24.009277Z",
     "iopub.status.busy": "2021-12-11T00:40:24.008696Z",
     "iopub.status.idle": "2021-12-11T00:40:24.015393Z",
     "shell.execute_reply": "2021-12-11T00:40:24.014397Z",
     "shell.execute_reply.started": "2021-12-11T00:40:24.009235Z"
    }
   },
   "outputs": [],
   "source": [
    "#BUSQUEDA HIPERPARAMETROS\n",
    "#Randomized search engine para hiperp tunning\n",
    "#generamos numeros aleat uniformes simil bayesian optimization\n",
    "\n",
    "from scipy.stats import loguniform\n",
    "\n",
    "\n",
    "class loguniform_int:\n",
    "    \"\"\"Integer valued version of the log-uniform distribution\"\"\"\n",
    "    def __init__(self, a, b):\n",
    "        self._distribution = loguniform(a, b)\n",
    "\n",
    "    def rvs(self, *args, **kwargs):\n",
    "        \"\"\"Random variable sample\"\"\"\n",
    "        return self._distribution.rvs(*args, **kwargs).astype(int)\n"
   ]
  },
  {
   "cell_type": "code",
   "execution_count": 25,
   "metadata": {
    "execution": {
     "iopub.execute_input": "2021-12-11T00:40:28.901405Z",
     "iopub.status.busy": "2021-12-11T00:40:28.900758Z",
     "iopub.status.idle": "2021-12-11T00:41:05.520456Z",
     "shell.execute_reply": "2021-12-11T00:41:05.519765Z",
     "shell.execute_reply.started": "2021-12-11T00:40:28.901367Z"
    }
   },
   "outputs": [],
   "source": [
    "#Now, we can define the randomized search using the different distributions. \n",
    "#Executing 10 iterations of 5-fold cross-validation for random parametrizations of this model on \n",
    "#this dataset can take from 10 seconds to several minutes, depending on the speed of the host computer\n",
    "#and the number of available processors.\n",
    "\n",
    "%time\n",
    "from sklearn.model_selection import RandomizedSearchCV\n",
    "\n",
    "param_distributions = {\n",
    "    'classifier__l2_regularization': loguniform(1e-6, 1e3),\n",
    "    'classifier__learning_rate': loguniform(0.01, 0.3),\n",
    "    'classifier__num_leaves': loguniform_int(20, 600),\n",
    "    'classifier__feature_fraction': loguniform(0.3,1),\n",
    "    'classifier__max_depth': loguniform_int(5, 256),\n",
    "    'classifier__min_data_in_leaf': loguniform_int(10, 100),\n",
    "    'classifier__max_bin': loguniform_int(25, 35),\n",
    "}\n",
    "\n",
    "model_random_search = RandomizedSearchCV(\n",
    "    model, param_distributions=param_distributions, n_iter=10,\n",
    "    cv=5, verbose=1,\n",
    ")\n",
    "model_random_search.fit(X_train, y_train)"
   ]
  },
  {
   "cell_type": "code",
   "execution_count": 26,
   "metadata": {
    "execution": {
     "iopub.execute_input": "2021-12-11T00:41:35.944065Z",
     "iopub.status.busy": "2021-12-11T00:41:35.943745Z",
     "iopub.status.idle": "2021-12-11T00:41:36.009919Z",
     "shell.execute_reply": "2021-12-11T00:41:36.009223Z",
     "shell.execute_reply.started": "2021-12-11T00:41:35.944034Z"
    }
   },
   "outputs": [],
   "source": [
    "#accuracy score on the test set\n",
    "accuracy = model_random_search.score(X_test, y_test)\n",
    "\n",
    "print(f\"The test accuracy score of the best model is \"\n",
    "      f\"{accuracy:.2f}\")"
   ]
  },
  {
   "cell_type": "code",
   "execution_count": 27,
   "metadata": {
    "execution": {
     "iopub.execute_input": "2021-12-11T00:41:45.672029Z",
     "iopub.status.busy": "2021-12-11T00:41:45.671385Z",
     "iopub.status.idle": "2021-12-11T00:41:45.708878Z",
     "shell.execute_reply": "2021-12-11T00:41:45.708120Z",
     "shell.execute_reply.started": "2021-12-11T00:41:45.671988Z"
    }
   },
   "outputs": [],
   "source": [
    "#accuracy score on the test set\n",
    "accuracy = model_random_search.score(Xv, yv)\n",
    "\n",
    "print(f\"The test accuracy score of the best model is \"\n",
    "      f\"{accuracy:.2f}\")"
   ]
  },
  {
   "cell_type": "code",
   "execution_count": 28,
   "metadata": {
    "execution": {
     "iopub.execute_input": "2021-12-11T00:42:03.075262Z",
     "iopub.status.busy": "2021-12-11T00:42:03.074714Z",
     "iopub.status.idle": "2021-12-11T00:42:03.082388Z",
     "shell.execute_reply": "2021-12-11T00:42:03.081522Z",
     "shell.execute_reply.started": "2021-12-11T00:42:03.075227Z"
    }
   },
   "outputs": [],
   "source": [
    "from pprint import pprint\n",
    "\n",
    "print(\"The best parameters are:\")\n",
    "pprint(model_random_search.best_params_)"
   ]
  },
  {
   "cell_type": "code",
   "execution_count": 29,
   "metadata": {
    "execution": {
     "iopub.execute_input": "2021-12-11T00:42:31.909061Z",
     "iopub.status.busy": "2021-12-11T00:42:31.908749Z",
     "iopub.status.idle": "2021-12-11T00:42:31.914087Z",
     "shell.execute_reply": "2021-12-11T00:42:31.913206Z",
     "shell.execute_reply.started": "2021-12-11T00:42:31.909032Z"
    }
   },
   "outputs": [],
   "source": [
    "best_params=model_random_search.best_params_"
   ]
  },
  {
   "cell_type": "code",
   "execution_count": 30,
   "metadata": {
    "execution": {
     "iopub.execute_input": "2021-12-11T00:42:34.507648Z",
     "iopub.status.busy": "2021-12-11T00:42:34.507370Z",
     "iopub.status.idle": "2021-12-11T00:42:34.512471Z",
     "shell.execute_reply": "2021-12-11T00:42:34.511658Z",
     "shell.execute_reply.started": "2021-12-11T00:42:34.507619Z"
    }
   },
   "outputs": [],
   "source": [
    "#vemos los resultados using the attributes cv_results as we did previously.\n",
    "\n",
    "def shorten_param(param_name):\n",
    "    if \"__\" in param_name:\n",
    "        return param_name.rsplit(\"__\", 1)[1]\n",
    "    return param_name"
   ]
  },
  {
   "cell_type": "code",
   "execution_count": null,
   "metadata": {
    "execution": {
     "iopub.execute_input": "2021-12-07T18:53:30.828310Z",
     "iopub.status.busy": "2021-12-07T18:53:30.827877Z",
     "iopub.status.idle": "2021-12-07T18:53:30.855785Z",
     "shell.execute_reply": "2021-12-07T18:53:30.854825Z",
     "shell.execute_reply.started": "2021-12-07T18:53:30.828265Z"
    }
   },
   "outputs": [],
   "source": [
    "# get the parameter names\n",
    "column_results = [\n",
    "    f\"param_{name}\" for name in param_distributions.keys()]\n",
    "column_results += [\n",
    "    \"mean_test_score\", \"std_test_score\", \"rank_test_score\"]\n",
    "\n",
    "cv_results = pd.DataFrame(model_random_search.cv_results_)\n",
    "cv_results = cv_results[column_results].sort_values(\n",
    "    \"mean_test_score\", ascending=False)\n",
    "cv_results = cv_results.rename(shorten_param, axis=1)\n",
    "cv_results"
   ]
  },
  {
   "cell_type": "code",
   "execution_count": null,
   "metadata": {},
   "outputs": [],
   "source": [
    "#Aplicamos los hiperp obtenidos con iteraciones 30 (best_params)\n",
    "#ver como aplicar los mejores parametros \n",
    "\n",
    "model_random_search = RandomizedSearchCV(\n",
    "     model, params=param_distribution , n_iter=30,\n",
    "     n_jobs=2, cv=5)\n",
    "model_random_search.fit(X_train, y_train)\n",
    "cv_results =  pd.DataFrame(model_random_search.cv_results_)\n",
    " #cv_results.to_csv(\"../figures/randomized_search_results.csv\")"
   ]
  },
  {
   "cell_type": "code",
   "execution_count": 70,
   "metadata": {
    "execution": {
     "iopub.execute_input": "2021-12-11T01:10:38.932714Z",
     "iopub.status.busy": "2021-12-11T01:10:38.932429Z",
     "iopub.status.idle": "2021-12-11T01:10:44.240941Z",
     "shell.execute_reply": "2021-12-11T01:10:44.240263Z",
     "shell.execute_reply.started": "2021-12-11T01:10:38.932687Z"
    }
   },
   "outputs": [],
   "source": [
    "model= LGBMClassifier(feature_fraction= 0.7416287920026037,\n",
    "                      l2_regularization= 5.809080248399578e-05,\n",
    "                      learning_rate= 0.08410834407255606,\n",
    "                      cl_max_bin= 29,\n",
    "                      max_depth= 9,\n",
    "                      min_data_in_leaf= 31,\n",
    "                      num_leaves= 52)\n",
    "model.fit(X_train, y_train)\n",
    "test_score=model.predict(X_test)"
   ]
  },
  {
   "cell_type": "code",
   "execution_count": 32,
   "metadata": {
    "execution": {
     "iopub.execute_input": "2021-12-11T00:43:26.732542Z",
     "iopub.status.busy": "2021-12-11T00:43:26.732224Z",
     "iopub.status.idle": "2021-12-11T00:43:26.860820Z",
     "shell.execute_reply": "2021-12-11T00:43:26.850673Z",
     "shell.execute_reply.started": "2021-12-11T00:43:26.732511Z"
    }
   },
   "outputs": [],
   "source": [
    "accuracy1= model.score(X_test, y_test)"
   ]
  },
  {
   "cell_type": "code",
   "execution_count": 33,
   "metadata": {
    "execution": {
     "iopub.execute_input": "2021-12-11T00:43:32.640793Z",
     "iopub.status.busy": "2021-12-11T00:43:32.640317Z",
     "iopub.status.idle": "2021-12-11T00:43:32.647909Z",
     "shell.execute_reply": "2021-12-11T00:43:32.646642Z",
     "shell.execute_reply.started": "2021-12-11T00:43:32.640759Z"
    }
   },
   "outputs": [],
   "source": [
    "accuracy1"
   ]
  },
  {
   "cell_type": "code",
   "execution_count": 87,
   "metadata": {
    "execution": {
     "iopub.execute_input": "2021-12-10T02:46:26.224067Z",
     "iopub.status.busy": "2021-12-10T02:46:26.223534Z",
     "iopub.status.idle": "2021-12-10T02:46:26.278763Z",
     "shell.execute_reply": "2021-12-10T02:46:26.278069Z",
     "shell.execute_reply.started": "2021-12-10T02:46:26.224018Z"
    }
   },
   "outputs": [],
   "source": [
    "accuracy2= model.score(Xv, yv)"
   ]
  },
  {
   "cell_type": "code",
   "execution_count": 88,
   "metadata": {
    "execution": {
     "iopub.execute_input": "2021-12-10T02:46:32.710527Z",
     "iopub.status.busy": "2021-12-10T02:46:32.710202Z",
     "iopub.status.idle": "2021-12-10T02:46:32.716842Z",
     "shell.execute_reply": "2021-12-10T02:46:32.716063Z",
     "shell.execute_reply.started": "2021-12-10T02:46:32.710486Z"
    }
   },
   "outputs": [],
   "source": [
    "accuracy2"
   ]
  },
  {
   "cell_type": "code",
   "execution_count": null,
   "metadata": {
    "execution": {
     "iopub.execute_input": "2021-12-07T13:57:38.856952Z",
     "iopub.status.busy": "2021-12-07T13:57:38.856063Z",
     "iopub.status.idle": "2021-12-07T13:57:38.904940Z",
     "shell.execute_reply": "2021-12-07T13:57:38.903901Z",
     "shell.execute_reply.started": "2021-12-07T13:57:38.856865Z"
    }
   },
   "outputs": [],
   "source": [
    "cv_results"
   ]
  },
  {
   "cell_type": "markdown",
   "metadata": {},
   "source": [
    "DATA AUGMENTATION****"
   ]
  },
  {
   "cell_type": "code",
   "execution_count": 46,
   "metadata": {
    "execution": {
     "iopub.execute_input": "2021-12-11T00:52:08.637403Z",
     "iopub.status.busy": "2021-12-11T00:52:08.636986Z",
     "iopub.status.idle": "2021-12-11T00:52:08.647928Z",
     "shell.execute_reply": "2021-12-11T00:52:08.646976Z",
     "shell.execute_reply.started": "2021-12-11T00:52:08.637371Z"
    }
   },
   "outputs": [],
   "source": [
    "#DATA AUGMENTATION\n",
    "data1= data.drop(['Name','Description','RescuerID'], axis=1)\n"
   ]
  },
  {
   "cell_type": "code",
   "execution_count": 30,
   "metadata": {
    "execution": {
     "iopub.execute_input": "2021-12-10T01:47:18.354289Z",
     "iopub.status.busy": "2021-12-10T01:47:18.353532Z",
     "iopub.status.idle": "2021-12-10T01:47:18.387979Z",
     "shell.execute_reply": "2021-12-10T01:47:18.387087Z",
     "shell.execute_reply.started": "2021-12-10T01:47:18.354251Z"
    }
   },
   "outputs": [],
   "source": [
    "data1"
   ]
  },
  {
   "cell_type": "code",
   "execution_count": null,
   "metadata": {},
   "outputs": [],
   "source": [
    "from itertools import combinations\n",
    "\n",
    "# Creating a new pd.DataFrame\n",
    "data2 = pd.DataFrame(index=data1.index)\n",
    "\n",
    "# list of columns\n",
    "columns = data1.loc [:,data1.columns !='AdoptionSpeed']\n",
    "\n",
    "# Create all combinations of length 2 . eg. AB, BC, etc.\n",
    "for combination in combinations(columns, 2):\n",
    "    combination_string = \"/\".join(combination)\n",
    "    data2[combination_string] = data1[combination[1]]/ data1[combination[0]]\n",
    "    print (data2)"
   ]
  },
  {
   "cell_type": "code",
   "execution_count": 36,
   "metadata": {
    "execution": {
     "iopub.execute_input": "2021-12-11T00:45:11.123969Z",
     "iopub.status.busy": "2021-12-11T00:45:11.122902Z",
     "iopub.status.idle": "2021-12-11T00:45:11.128843Z",
     "shell.execute_reply": "2021-12-11T00:45:11.127886Z",
     "shell.execute_reply.started": "2021-12-11T00:45:11.123902Z"
    }
   },
   "outputs": [],
   "source": [
    "data2= pd.DataFrame(data2)"
   ]
  },
  {
   "cell_type": "code",
   "execution_count": 37,
   "metadata": {
    "execution": {
     "iopub.execute_input": "2021-12-11T00:45:22.380016Z",
     "iopub.status.busy": "2021-12-11T00:45:22.379687Z",
     "iopub.status.idle": "2021-12-11T00:45:22.447587Z",
     "shell.execute_reply": "2021-12-11T00:45:22.446469Z",
     "shell.execute_reply.started": "2021-12-11T00:45:22.379983Z"
    }
   },
   "outputs": [],
   "source": [
    "data2"
   ]
  },
  {
   "cell_type": "code",
   "execution_count": 34,
   "metadata": {
    "execution": {
     "iopub.execute_input": "2021-12-10T01:49:04.359889Z",
     "iopub.status.busy": "2021-12-10T01:49:04.359577Z",
     "iopub.status.idle": "2021-12-10T01:49:04.392408Z",
     "shell.execute_reply": "2021-12-10T01:49:04.391746Z",
     "shell.execute_reply.started": "2021-12-10T01:49:04.359860Z"
    }
   },
   "outputs": [],
   "source": [
    "data2.info"
   ]
  },
  {
   "cell_type": "code",
   "execution_count": 48,
   "metadata": {
    "execution": {
     "iopub.execute_input": "2021-12-11T00:52:55.138485Z",
     "iopub.status.busy": "2021-12-11T00:52:55.138131Z",
     "iopub.status.idle": "2021-12-11T00:52:55.182553Z",
     "shell.execute_reply": "2021-12-11T00:52:55.181733Z",
     "shell.execute_reply.started": "2021-12-11T00:52:55.138453Z"
    }
   },
   "outputs": [],
   "source": [
    "data=pd.concat([data1, data2], axis=1)"
   ]
  },
  {
   "cell_type": "code",
   "execution_count": 65,
   "metadata": {
    "execution": {
     "iopub.execute_input": "2021-12-11T01:03:11.490928Z",
     "iopub.status.busy": "2021-12-11T01:03:11.490616Z",
     "iopub.status.idle": "2021-12-11T01:03:11.530825Z",
     "shell.execute_reply": "2021-12-11T01:03:11.529921Z",
     "shell.execute_reply.started": "2021-12-11T01:03:11.490898Z"
    }
   },
   "outputs": [],
   "source": [
    "data"
   ]
  },
  {
   "cell_type": "code",
   "execution_count": 50,
   "metadata": {
    "execution": {
     "iopub.execute_input": "2021-12-11T00:53:09.119682Z",
     "iopub.status.busy": "2021-12-11T00:53:09.119216Z",
     "iopub.status.idle": "2021-12-11T00:53:09.177302Z",
     "shell.execute_reply": "2021-12-11T00:53:09.176650Z",
     "shell.execute_reply.started": "2021-12-11T00:53:09.119632Z"
    }
   },
   "outputs": [],
   "source": [
    "#reemplazamos ceros e inf values\n",
    "\n",
    "data=data.replace([np.inf, -np.inf], 0)"
   ]
  },
  {
   "cell_type": "code",
   "execution_count": 51,
   "metadata": {
    "execution": {
     "iopub.execute_input": "2021-12-11T00:53:34.265002Z",
     "iopub.status.busy": "2021-12-11T00:53:34.264476Z",
     "iopub.status.idle": "2021-12-11T00:53:34.305175Z",
     "shell.execute_reply": "2021-12-11T00:53:34.304282Z",
     "shell.execute_reply.started": "2021-12-11T00:53:34.264953Z"
    }
   },
   "outputs": [],
   "source": [
    "data"
   ]
  },
  {
   "cell_type": "markdown",
   "metadata": {},
   "source": [
    "**#levanto data set de test de kaggle para tirar predicciones**"
   ]
  },
  {
   "cell_type": "code",
   "execution_count": 52,
   "metadata": {
    "execution": {
     "iopub.execute_input": "2021-12-11T00:53:45.805659Z",
     "iopub.status.busy": "2021-12-11T00:53:45.805352Z",
     "iopub.status.idle": "2021-12-11T00:53:45.884681Z",
     "shell.execute_reply": "2021-12-11T00:53:45.883740Z",
     "shell.execute_reply.started": "2021-12-11T00:53:45.805626Z"
    }
   },
   "outputs": [],
   "source": [
    "data_test = pd.read_csv('../input/petfinder-adoption-prediction/test/test.csv', index_col=\"PetID\")\n",
    "data_test.info()"
   ]
  },
  {
   "cell_type": "code",
   "execution_count": 53,
   "metadata": {
    "execution": {
     "iopub.execute_input": "2021-12-11T00:54:15.590313Z",
     "iopub.status.busy": "2021-12-11T00:54:15.589989Z",
     "iopub.status.idle": "2021-12-11T00:54:15.598884Z",
     "shell.execute_reply": "2021-12-11T00:54:15.598173Z",
     "shell.execute_reply.started": "2021-12-11T00:54:15.590272Z"
    }
   },
   "outputs": [],
   "source": [
    "#hacemos mismo tratamiento de lenguaje de sentimiento\n",
    "data_test['Description'] = data_test['Description'].fillna('nothing')"
   ]
  },
  {
   "cell_type": "code",
   "execution_count": 103,
   "metadata": {
    "execution": {
     "iopub.execute_input": "2021-12-10T03:06:48.482538Z",
     "iopub.status.busy": "2021-12-10T03:06:48.482219Z",
     "iopub.status.idle": "2021-12-10T03:06:48.489736Z",
     "shell.execute_reply": "2021-12-10T03:06:48.489084Z",
     "shell.execute_reply.started": "2021-12-10T03:06:48.482504Z"
    }
   },
   "outputs": [],
   "source": [
    "data_test['Description'].isnull().sum()"
   ]
  },
  {
   "cell_type": "code",
   "execution_count": 54,
   "metadata": {
    "execution": {
     "iopub.execute_input": "2021-12-11T00:54:34.850411Z",
     "iopub.status.busy": "2021-12-11T00:54:34.850012Z",
     "iopub.status.idle": "2021-12-11T00:54:36.268525Z",
     "shell.execute_reply": "2021-12-11T00:54:36.267589Z",
     "shell.execute_reply.started": "2021-12-11T00:54:34.850375Z"
    }
   },
   "outputs": [],
   "source": [
    "#aplicamos la funcion a la columna Description para limpieza de texto\n",
    "data_test['Description'] = data_test['Description'].apply(lambda text: text_cleaning(text))"
   ]
  },
  {
   "cell_type": "code",
   "execution_count": 55,
   "metadata": {
    "execution": {
     "iopub.execute_input": "2021-12-11T00:54:39.210123Z",
     "iopub.status.busy": "2021-12-11T00:54:39.209576Z",
     "iopub.status.idle": "2021-12-11T00:54:40.697162Z",
     "shell.execute_reply": "2021-12-11T00:54:40.696319Z",
     "shell.execute_reply.started": "2021-12-11T00:54:39.210088Z"
    }
   },
   "outputs": [],
   "source": [
    "#funcion que tira sentimiento y subjetividad\n",
    "\n",
    "def sent(txt):\n",
    "    return TextBlob(str(txt)).polarity\n",
    "\n",
    "data_test['sentiment'] = data_test['Description'].apply(lambda txt: sent(txt))      # new column of sentiment"
   ]
  },
  {
   "cell_type": "code",
   "execution_count": 56,
   "metadata": {
    "execution": {
     "iopub.execute_input": "2021-12-11T00:54:43.610357Z",
     "iopub.status.busy": "2021-12-11T00:54:43.610009Z",
     "iopub.status.idle": "2021-12-11T00:54:45.116879Z",
     "shell.execute_reply": "2021-12-11T00:54:45.115961Z",
     "shell.execute_reply.started": "2021-12-11T00:54:43.610324Z"
    }
   },
   "outputs": [],
   "source": [
    "def subj(txt):\n",
    "    return TextBlob(str(txt)).subjectivity\n",
    "\n",
    "data_test['subjectivity'] = data_test['Description'].apply(lambda txt: subj(txt))      # new column of subjectivity"
   ]
  },
  {
   "cell_type": "code",
   "execution_count": 57,
   "metadata": {
    "execution": {
     "iopub.execute_input": "2021-12-11T00:54:50.183381Z",
     "iopub.status.busy": "2021-12-11T00:54:50.182981Z",
     "iopub.status.idle": "2021-12-11T00:54:50.226705Z",
     "shell.execute_reply": "2021-12-11T00:54:50.225775Z",
     "shell.execute_reply.started": "2021-12-11T00:54:50.183345Z"
    }
   },
   "outputs": [],
   "source": [
    "data_test"
   ]
  },
  {
   "cell_type": "code",
   "execution_count": 58,
   "metadata": {
    "execution": {
     "iopub.execute_input": "2021-12-11T00:55:04.750414Z",
     "iopub.status.busy": "2021-12-11T00:55:04.750044Z",
     "iopub.status.idle": "2021-12-11T00:55:04.758523Z",
     "shell.execute_reply": "2021-12-11T00:55:04.757397Z",
     "shell.execute_reply.started": "2021-12-11T00:55:04.750380Z"
    }
   },
   "outputs": [],
   "source": [
    "#hacemos el mismo feature engineering de train\n",
    "#DATA AUGMENTATION\n",
    "data_test= data_test.drop(['Name','Description','RescuerID'], axis=1)"
   ]
  },
  {
   "cell_type": "code",
   "execution_count": 59,
   "metadata": {
    "execution": {
     "iopub.execute_input": "2021-12-11T00:55:29.576778Z",
     "iopub.status.busy": "2021-12-11T00:55:29.575686Z",
     "iopub.status.idle": "2021-12-11T00:55:33.830274Z",
     "shell.execute_reply": "2021-12-11T00:55:33.829377Z",
     "shell.execute_reply.started": "2021-12-11T00:55:29.576723Z"
    }
   },
   "outputs": [],
   "source": [
    "from itertools import combinations\n",
    "\n",
    "# Creating a new pd.DataFrame\n",
    "data2_test = pd.DataFrame(index=data_test.index)\n",
    "\n",
    "# list of columns\n",
    "columns = data_test.columns\n",
    "\n",
    "# Create all combinations of length 2 . eg. AB, BC, etc.\n",
    "for combination in combinations(columns, 2):\n",
    "    combination_string = \"/\".join(combination)\n",
    "    data2_test[combination_string] = data_test[combination[1]]/ data_test[combination[0]]\n",
    "    print (data2_test)"
   ]
  },
  {
   "cell_type": "code",
   "execution_count": 60,
   "metadata": {
    "execution": {
     "iopub.execute_input": "2021-12-11T00:57:47.401693Z",
     "iopub.status.busy": "2021-12-11T00:57:47.401219Z",
     "iopub.status.idle": "2021-12-11T00:57:47.412165Z",
     "shell.execute_reply": "2021-12-11T00:57:47.411492Z",
     "shell.execute_reply.started": "2021-12-11T00:57:47.401648Z"
    }
   },
   "outputs": [],
   "source": [
    "data_test=pd.concat([data_test, data2_test], axis=1)"
   ]
  },
  {
   "cell_type": "code",
   "execution_count": 111,
   "metadata": {
    "execution": {
     "iopub.execute_input": "2021-12-10T03:10:25.062273Z",
     "iopub.status.busy": "2021-12-10T03:10:25.061926Z",
     "iopub.status.idle": "2021-12-10T03:10:25.111791Z",
     "shell.execute_reply": "2021-12-10T03:10:25.111163Z",
     "shell.execute_reply.started": "2021-12-10T03:10:25.062233Z"
    }
   },
   "outputs": [],
   "source": [
    "data2_test"
   ]
  },
  {
   "cell_type": "code",
   "execution_count": 64,
   "metadata": {
    "execution": {
     "iopub.execute_input": "2021-12-11T01:01:39.048891Z",
     "iopub.status.busy": "2021-12-11T01:01:39.048537Z",
     "iopub.status.idle": "2021-12-11T01:01:39.088589Z",
     "shell.execute_reply": "2021-12-11T01:01:39.087773Z",
     "shell.execute_reply.started": "2021-12-11T01:01:39.048859Z"
    }
   },
   "outputs": [],
   "source": [
    "data_test"
   ]
  },
  {
   "cell_type": "code",
   "execution_count": null,
   "metadata": {},
   "outputs": [],
   "source": [
    "model_random_search.fit(X_train, y_train)"
   ]
  },
  {
   "cell_type": "code",
   "execution_count": 71,
   "metadata": {
    "execution": {
     "iopub.execute_input": "2021-12-11T01:11:30.785082Z",
     "iopub.status.busy": "2021-12-11T01:11:30.784729Z",
     "iopub.status.idle": "2021-12-11T01:11:30.887768Z",
     "shell.execute_reply": "2021-12-11T01:11:30.886974Z",
     "shell.execute_reply.started": "2021-12-11T01:11:30.785047Z"
    }
   },
   "outputs": [],
   "source": [
    "#Generamos prediccciones sobre dataset de test de kaggle\n",
    "predictions=pd.DataFrame(model.predict(data_test))"
   ]
  },
  {
   "cell_type": "code",
   "execution_count": 72,
   "metadata": {
    "execution": {
     "iopub.execute_input": "2021-12-11T01:11:38.532073Z",
     "iopub.status.busy": "2021-12-11T01:11:38.531374Z",
     "iopub.status.idle": "2021-12-11T01:11:38.544950Z",
     "shell.execute_reply": "2021-12-11T01:11:38.543701Z",
     "shell.execute_reply.started": "2021-12-11T01:11:38.532022Z"
    }
   },
   "outputs": [],
   "source": [
    "predictions"
   ]
  },
  {
   "cell_type": "markdown",
   "metadata": {},
   "source": [
    "NLP model natural language"
   ]
  },
  {
   "cell_type": "code",
   "execution_count": 102,
   "metadata": {
    "execution": {
     "iopub.execute_input": "2021-12-11T01:47:37.101017Z",
     "iopub.status.busy": "2021-12-11T01:47:37.100720Z",
     "iopub.status.idle": "2021-12-11T01:47:37.105548Z",
     "shell.execute_reply": "2021-12-11T01:47:37.104540Z",
     "shell.execute_reply.started": "2021-12-11T01:47:37.100989Z"
    }
   },
   "outputs": [],
   "source": [
    "#generamos archivo para submitir en kaggle Pet id y adopSpeed\n",
    "predictions=pd.DataFrame(predictions )"
   ]
  },
  {
   "cell_type": "code",
   "execution_count": 103,
   "metadata": {
    "execution": {
     "iopub.execute_input": "2021-12-11T01:48:05.724580Z",
     "iopub.status.busy": "2021-12-11T01:48:05.724247Z",
     "iopub.status.idle": "2021-12-11T01:48:05.730064Z",
     "shell.execute_reply": "2021-12-11T01:48:05.729404Z",
     "shell.execute_reply.started": "2021-12-11T01:48:05.724551Z"
    }
   },
   "outputs": [],
   "source": [
    "predictions.index.rename('petID', inplace=True)"
   ]
  },
  {
   "cell_type": "code",
   "execution_count": 104,
   "metadata": {
    "execution": {
     "iopub.execute_input": "2021-12-11T01:48:16.458545Z",
     "iopub.status.busy": "2021-12-11T01:48:16.457945Z",
     "iopub.status.idle": "2021-12-11T01:48:16.471351Z",
     "shell.execute_reply": "2021-12-11T01:48:16.470272Z",
     "shell.execute_reply.started": "2021-12-11T01:48:16.458503Z"
    }
   },
   "outputs": [],
   "source": [
    "predictions"
   ]
  },
  {
   "cell_type": "code",
   "execution_count": 107,
   "metadata": {
    "execution": {
     "iopub.execute_input": "2021-12-11T01:49:35.410605Z",
     "iopub.status.busy": "2021-12-11T01:49:35.410339Z",
     "iopub.status.idle": "2021-12-11T01:49:35.415993Z",
     "shell.execute_reply": "2021-12-11T01:49:35.415094Z",
     "shell.execute_reply.started": "2021-12-11T01:49:35.410577Z"
    }
   },
   "outputs": [],
   "source": [
    "predictions.columns=['AdoptionSpeed']"
   ]
  },
  {
   "cell_type": "code",
   "execution_count": 111,
   "metadata": {
    "execution": {
     "iopub.execute_input": "2021-12-11T01:51:23.292918Z",
     "iopub.status.busy": "2021-12-11T01:51:23.292021Z",
     "iopub.status.idle": "2021-12-11T01:51:23.326807Z",
     "shell.execute_reply": "2021-12-11T01:51:23.325751Z",
     "shell.execute_reply.started": "2021-12-11T01:51:23.292879Z"
    }
   },
   "outputs": [],
   "source": [
    "predictions=pd.DataFrame(predictions , index=0)"
   ]
  },
  {
   "cell_type": "code",
   "execution_count": 108,
   "metadata": {
    "execution": {
     "iopub.execute_input": "2021-12-11T01:49:38.009798Z",
     "iopub.status.busy": "2021-12-11T01:49:38.008969Z",
     "iopub.status.idle": "2021-12-11T01:49:38.020420Z",
     "shell.execute_reply": "2021-12-11T01:49:38.019240Z",
     "shell.execute_reply.started": "2021-12-11T01:49:38.009761Z"
    }
   },
   "outputs": [],
   "source": [
    "predictions"
   ]
  },
  {
   "cell_type": "code",
   "execution_count": 109,
   "metadata": {
    "_kg_hide-output": true,
    "execution": {
     "iopub.execute_input": "2021-12-11T01:49:45.902196Z",
     "iopub.status.busy": "2021-12-11T01:49:45.901708Z",
     "iopub.status.idle": "2021-12-11T01:49:45.916777Z",
     "shell.execute_reply": "2021-12-11T01:49:45.915941Z",
     "shell.execute_reply.started": "2021-12-11T01:49:45.902164Z"
    }
   },
   "outputs": [],
   "source": [
    "#genero archivo y lo grabo\n",
    "predictions.to_csv(\"..predictions1.csv\")"
   ]
  },
  {
   "cell_type": "code",
   "execution_count": 12,
   "metadata": {
    "execution": {
     "iopub.execute_input": "2021-12-10T01:40:09.108771Z",
     "iopub.status.busy": "2021-12-10T01:40:09.107947Z",
     "iopub.status.idle": "2021-12-10T01:40:09.117651Z",
     "shell.execute_reply": "2021-12-10T01:40:09.117033Z",
     "shell.execute_reply.started": "2021-12-10T01:40:09.108722Z"
    }
   },
   "outputs": [],
   "source": [
    "data.Description"
   ]
  },
  {
   "cell_type": "code",
   "execution_count": 39,
   "metadata": {
    "execution": {
     "iopub.execute_input": "2021-12-11T00:49:31.405042Z",
     "iopub.status.busy": "2021-12-11T00:49:31.403889Z",
     "iopub.status.idle": "2021-12-11T00:49:31.416754Z",
     "shell.execute_reply": "2021-12-11T00:49:31.415499Z",
     "shell.execute_reply.started": "2021-12-11T00:49:31.404968Z"
    }
   },
   "outputs": [],
   "source": [
    "data['Description'] = data['Description'].fillna('nothing')"
   ]
  },
  {
   "cell_type": "markdown",
   "metadata": {},
   "source": []
  },
  {
   "cell_type": "code",
   "execution_count": 14,
   "metadata": {
    "execution": {
     "iopub.execute_input": "2021-12-10T01:40:27.554173Z",
     "iopub.status.busy": "2021-12-10T01:40:27.553243Z",
     "iopub.status.idle": "2021-12-10T01:40:27.562816Z",
     "shell.execute_reply": "2021-12-10T01:40:27.561844Z",
     "shell.execute_reply.started": "2021-12-10T01:40:27.554129Z"
    }
   },
   "outputs": [],
   "source": [
    "data['Description'].isnull().sum()"
   ]
  },
  {
   "cell_type": "code",
   "execution_count": 40,
   "metadata": {
    "execution": {
     "iopub.execute_input": "2021-12-11T00:49:38.964114Z",
     "iopub.status.busy": "2021-12-11T00:49:38.963255Z",
     "iopub.status.idle": "2021-12-11T00:49:39.600937Z",
     "shell.execute_reply": "2021-12-11T00:49:39.600091Z",
     "shell.execute_reply.started": "2021-12-11T00:49:38.964076Z"
    }
   },
   "outputs": [],
   "source": [
    "#Analisis de texto\n",
    "#Sentiment analysis\n",
    "\n",
    "import nltk\n",
    "import re\n",
    "from nltk.corpus import stopwords\n",
    "\n",
    "def text_cleaning(text):\n",
    "    forbidden_words = set(stopwords.words('english'))\n",
    "    text = ' '.join(text.split('.'))\n",
    "    text = re.sub('\\/',' ',text)\n",
    "    text = text.strip('\\'\"')\n",
    "    text = re.sub(r'@([^\\s]+)',r'\\1',text)\n",
    "    text = re.sub(r'\\\\',' ',text)\n",
    "    text = text.lower()\n",
    "    text = re.sub('[\\s]+', ' ', text)\n",
    "    text = re.sub(r'#([^\\s]+)', r'\\1', text)\n",
    "    text = re.sub('((www\\.[^\\s]+)|(https?://[^\\s]+))',' ',text)\n",
    "    text = re.sub(r'((http)\\S+)','',text)\n",
    "    text = re.sub(r'\\s+', ' ', re.sub('[^A-Za-z]', ' ', text.strip().lower())).strip()\n",
    "    text = re.sub(r'\\W+', ' ', text.strip().lower()).strip()\n",
    "    text = [word for word in text.split() if word not in forbidden_words]\n",
    "    return ' '.join(text)"
   ]
  },
  {
   "cell_type": "code",
   "execution_count": 41,
   "metadata": {
    "execution": {
     "iopub.execute_input": "2021-12-11T00:49:48.941558Z",
     "iopub.status.busy": "2021-12-11T00:49:48.940549Z",
     "iopub.status.idle": "2021-12-11T00:49:54.692324Z",
     "shell.execute_reply": "2021-12-11T00:49:54.691462Z",
     "shell.execute_reply.started": "2021-12-11T00:49:48.941501Z"
    }
   },
   "outputs": [],
   "source": [
    "#aplicamos la funcion a la columna Description para limpieza de texto\n",
    "data['Description'] = data['Description'].apply(lambda text: text_cleaning(text))"
   ]
  },
  {
   "cell_type": "code",
   "execution_count": 42,
   "metadata": {
    "execution": {
     "iopub.execute_input": "2021-12-11T00:50:09.320367Z",
     "iopub.status.busy": "2021-12-11T00:50:09.320009Z",
     "iopub.status.idle": "2021-12-11T00:50:18.774565Z",
     "shell.execute_reply": "2021-12-11T00:50:18.773524Z",
     "shell.execute_reply.started": "2021-12-11T00:50:09.320334Z"
    }
   },
   "outputs": [],
   "source": [
    "#libreria de analisis de texto\n",
    "!pip install textblob"
   ]
  },
  {
   "cell_type": "code",
   "execution_count": 43,
   "metadata": {
    "execution": {
     "iopub.execute_input": "2021-12-11T00:50:23.762963Z",
     "iopub.status.busy": "2021-12-11T00:50:23.762599Z",
     "iopub.status.idle": "2021-12-11T00:50:23.825115Z",
     "shell.execute_reply": "2021-12-11T00:50:23.824385Z",
     "shell.execute_reply.started": "2021-12-11T00:50:23.762926Z"
    }
   },
   "outputs": [],
   "source": [
    "from textblob import TextBlob"
   ]
  },
  {
   "cell_type": "code",
   "execution_count": 44,
   "metadata": {
    "execution": {
     "iopub.execute_input": "2021-12-11T00:50:27.525303Z",
     "iopub.status.busy": "2021-12-11T00:50:27.524119Z",
     "iopub.status.idle": "2021-12-11T00:50:33.449639Z",
     "shell.execute_reply": "2021-12-11T00:50:33.448859Z",
     "shell.execute_reply.started": "2021-12-11T00:50:27.525259Z"
    }
   },
   "outputs": [],
   "source": [
    "#funcion que tira sentimiento y subjetividad\n",
    "\n",
    "def sent(txt):\n",
    "    return TextBlob(str(txt)).polarity\n",
    "\n",
    "data['sentiment'] = data['Description'].apply(lambda txt: sent(txt))      # new column of sentiment"
   ]
  },
  {
   "cell_type": "code",
   "execution_count": 45,
   "metadata": {
    "execution": {
     "iopub.execute_input": "2021-12-11T00:50:36.393653Z",
     "iopub.status.busy": "2021-12-11T00:50:36.393371Z",
     "iopub.status.idle": "2021-12-11T00:50:42.315311Z",
     "shell.execute_reply": "2021-12-11T00:50:42.314496Z",
     "shell.execute_reply.started": "2021-12-11T00:50:36.393627Z"
    }
   },
   "outputs": [],
   "source": [
    "\n",
    "def subj(txt):\n",
    "    return TextBlob(str(txt)).subjectivity\n",
    "\n",
    "data['subjectivity'] = data['Description'].apply(lambda txt: subj(txt))      # new column of subjectivity"
   ]
  },
  {
   "cell_type": "code",
   "execution_count": 22,
   "metadata": {
    "execution": {
     "iopub.execute_input": "2021-12-10T01:42:25.516111Z",
     "iopub.status.busy": "2021-12-10T01:42:25.515811Z",
     "iopub.status.idle": "2021-12-10T01:42:33.251609Z",
     "shell.execute_reply": "2021-12-10T01:42:33.250660Z",
     "shell.execute_reply.started": "2021-12-10T01:42:25.516078Z"
    }
   },
   "outputs": [],
   "source": [
    "#nube de palabras worldcloud\n",
    "!pip install wordcloud"
   ]
  },
  {
   "cell_type": "code",
   "execution_count": 23,
   "metadata": {
    "execution": {
     "iopub.execute_input": "2021-12-10T01:42:35.447996Z",
     "iopub.status.busy": "2021-12-10T01:42:35.447699Z",
     "iopub.status.idle": "2021-12-10T01:42:35.455087Z",
     "shell.execute_reply": "2021-12-10T01:42:35.454087Z",
     "shell.execute_reply.started": "2021-12-10T01:42:35.447961Z"
    }
   },
   "outputs": [],
   "source": [
    "#importamos libreria matplotlib y wordcloud para graficos\n",
    "import matplotlib.pyplot as plt\n",
    "%matplotlib inline"
   ]
  },
  {
   "cell_type": "code",
   "execution_count": 28,
   "metadata": {
    "execution": {
     "iopub.execute_input": "2021-12-10T01:44:50.776252Z",
     "iopub.status.busy": "2021-12-10T01:44:50.775667Z",
     "iopub.status.idle": "2021-12-10T01:44:53.264306Z",
     "shell.execute_reply": "2021-12-10T01:44:53.263701Z",
     "shell.execute_reply.started": "2021-12-10T01:44:50.776214Z"
    }
   },
   "outputs": [],
   "source": [
    "\n",
    "from wordcloud import WordCloud, STOPWORDS\n",
    "\n",
    "all_words = \"\".join (token for token in str(data[\"Description\"]))\n",
    "\n",
    "\n",
    "wordcloud = WordCloud( max_words=150,\n",
    "                      max_font_size=350, random_state=42,\n",
    "                      width=2000, height=1000,\n",
    "                      colormap = \"twilight\",\n",
    "                      background_color=\"white\") \n",
    "wordcloud.generate(all_words)\n",
    "\n",
    "# Plot\n",
    "plt.figure(figsize = (16, 8))\n",
    "plt.imshow(wordcloud, interpolation='bilinear')\n",
    "plt.axis('off')\n",
    "plt.show();"
   ]
  },
  {
   "cell_type": "code",
   "execution_count": null,
   "metadata": {},
   "outputs": [],
   "source": [
    "  "
   ]
  },
  {
   "cell_type": "code",
   "execution_count": 25,
   "metadata": {
    "collapsed": true,
    "execution": {
     "iopub.execute_input": "2021-12-10T01:43:20.630551Z",
     "iopub.status.busy": "2021-12-10T01:43:20.629901Z",
     "iopub.status.idle": "2021-12-10T01:43:20.683385Z",
     "shell.execute_reply": "2021-12-10T01:43:20.682584Z",
     "shell.execute_reply.started": "2021-12-10T01:43:20.630499Z"
    },
    "jupyter": {
     "outputs_hidden": true
    }
   },
   "outputs": [],
   "source": [
    "data"
   ]
  },
  {
   "cell_type": "markdown",
   "metadata": {},
   "source": [
    "**REDES CONVOLUCIONALES PARA COMPTER VISION SOBRE IMAGENES**"
   ]
  },
  {
   "cell_type": "code",
   "execution_count": null,
   "metadata": {},
   "outputs": [],
   "source": []
  }
 ],
 "metadata": {
  "kernelspec": {
   "display_name": "Python 3",
   "language": "python",
   "name": "python3"
  },
  "language_info": {
   "codemirror_mode": {
    "name": "ipython",
    "version": 3
   },
   "file_extension": ".py",
   "mimetype": "text/x-python",
   "name": "python",
   "nbconvert_exporter": "python",
   "pygments_lexer": "ipython3",
   "version": "3.8.5"
  }
 },
 "nbformat": 4,
 "nbformat_minor": 4
}
